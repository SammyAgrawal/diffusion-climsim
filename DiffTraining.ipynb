{
 "cells": [
  {
   "cell_type": "markdown",
   "id": "4b9b7ecd-6129-4c5e-a889-a5afbba5695a",
   "metadata": {},
   "source": [
    "# Joint Diffusion training"
   ]
  },
  {
   "cell_type": "code",
   "execution_count": 2,
   "id": "2c465f34-4ddd-4e9e-adc9-edca0b5d41de",
   "metadata": {},
   "outputs": [
    {
     "data": {
      "text/plain": [
       "['leap-persistent/sammyagrawal/input_climsim.npy',\n",
       " 'leap-persistent/sammyagrawal/output_climsim.npy']"
      ]
     },
     "execution_count": 2,
     "metadata": {},
     "output_type": "execute_result"
    }
   ],
   "source": [
    "import xarray as xr\n",
    "import numpy as np\n",
    "import matplotlib.pyplot as plt\n",
    "import torch\n",
    "import torch.nn as nn\n",
    "import torch.nn.functional as F\n",
    "import fsspec\n",
    "import os\n",
    "import sys\n",
    "import dask\n",
    "from dataclasses import dataclass, asdict, field\n",
    "sys.path.append(os.path.abspath(os.path.join('diffusionsim')))\n",
    "import gcsfs\n",
    "fs = gcsfs.GCSFileSystem()\n",
    "\n",
    "user_path = \"gs://leap-persistent/sammyagrawal\"\n",
    "\n",
    "fs.ls(user_path)"
   ]
  },
  {
   "cell_type": "code",
   "execution_count": 3,
   "id": "3d74199e-fde5-4c55-af81-c5dc5adf2300",
   "metadata": {},
   "outputs": [],
   "source": [
    "import diffusers\n",
    "import diffusionsim as diff\n",
    "import diffusionsim.training_utils as tru\n",
    "from diffusionsim import mydatasets as data\n",
    "import xbatcher"
   ]
  },
  {
   "cell_type": "code",
   "execution_count": 4,
   "id": "7a5687ba-33ba-4fec-9a3f-e8d2a0ef2ece",
   "metadata": {},
   "outputs": [
    {
     "data": {
      "text/plain": [
       "'cuda'"
      ]
     },
     "execution_count": 4,
     "metadata": {},
     "output_type": "execute_result"
    }
   ],
   "source": [
    "device = 'cuda' if torch.cuda.is_available() else 'cpu'\n",
    "device"
   ]
  },
  {
   "cell_type": "markdown",
   "id": "f34d139d-849e-4e04-8513-8e68f344a89f",
   "metadata": {
    "jp-MarkdownHeadingCollapsed": true
   },
   "source": [
    "## Standard Training Pipeline (no diffusion)"
   ]
  },
  {
   "cell_type": "code",
   "execution_count": 40,
   "id": "c71b6ee5-beff-453f-9144-f130e7004a3e",
   "metadata": {},
   "outputs": [],
   "source": [
    "dconfig = tru.DataConfig()\n",
    "dconfig.dataloader_params.batch_size = 256 \n",
    "dconfig.dataloader_params.pin_memory = False\n",
    "dconfig.train_test_split=[0.70, 0.30]\n"
   ]
  },
  {
   "cell_type": "code",
   "execution_count": 5,
   "id": "e8fd8124-01f5-4ea5-b296-5af1ba9a3482",
   "metadata": {},
   "outputs": [
    {
     "name": "stdout",
     "output_type": "stream",
     "text": [
      "Finished Loading X from gs://leap-persistent/sammyagrawal/input_climsim.npy\n",
      "Finished Loading Y from gs://leap-persistent/sammyagrawal/output_climsim.npy\n"
     ]
    }
   ],
   "source": [
    "X, Y = diff.load_numpy_arrays()\n",
    "Xarr, Yarr = diff.reconstruct_xarr_from_npy(\n",
    "    X, Y, \n",
    "    subsampling= dconfig.xarr_subsamples, \n",
    "    data_vars=dconfig.data_vars, \n",
    ")"
   ]
  },
  {
   "cell_type": "code",
   "execution_count": 6,
   "id": "c3c15103-712d-4e48-96ec-efea414a8ec1",
   "metadata": {},
   "outputs": [],
   "source": [
    "(xtrain, ytrain), (xtest, ytest) = data.train_test_split(Xarr, Yarr, split_frac= dconfig.train_test_split, typ=\"np\")\n"
   ]
  },
  {
   "cell_type": "code",
   "execution_count": 9,
   "id": "b9b9a48d-857c-48e5-aefb-6707da7ac86c",
   "metadata": {},
   "outputs": [],
   "source": [
    "train_ds = data.ClimsimDataset(xtrain, ytrain, normalize=False)\n",
    "test_ds = data.ClimsimDataset(xtest, ytest, normalize=False)"
   ]
  },
  {
   "cell_type": "code",
   "execution_count": 10,
   "id": "ce1390c4-507a-433a-b443-c8747add6738",
   "metadata": {},
   "outputs": [],
   "source": [
    "train_ds.X = (train_ds.X - train_ds.X.mean(dim=0)) / train_ds.X.std(dim=0)\n",
    "train_ds.Y = (train_ds.Y - train_ds.Y.mean(dim=0)) / train_ds.Y.std(dim=0)\n",
    "\n",
    "x, y = train_ds[0]\n",
    "test_ds.X = (test_ds.X - test_ds.X.mean(dim=0)) / train_ds.X.std(dim=0)\n",
    "test_ds.Y = (test_ds.Y - test_ds.Y.mean(dim=0)) / train_ds.Y.std(dim=0)"
   ]
  },
  {
   "cell_type": "code",
   "execution_count": 54,
   "id": "cc00061c-067f-4390-b1a1-1515314de0e9",
   "metadata": {},
   "outputs": [],
   "source": [
    "loss_fn = nn.MSELoss()"
   ]
  },
  {
   "cell_type": "code",
   "execution_count": 58,
   "id": "6f5ec5aa-8680-48d7-b2ba-e8356ee3463e",
   "metadata": {},
   "outputs": [],
   "source": [
    "tconfig = tru.TrainingConfig()\n",
    "tconfig.num_epochs = 10\n",
    "tconfig.learning_rate = 0.0005\n",
    "tconfig.batch_checkpoint_interval = 5"
   ]
  },
  {
   "cell_type": "code",
   "execution_count": 59,
   "id": "332a6a49-3a13-4241-b0e0-c16accf9319d",
   "metadata": {},
   "outputs": [],
   "source": [
    "exp_id = \"JointTraining\"\n",
    "tconfig.log_id = os.path.join(\"experiments\", exp_id)\n",
    "tconfig.ckpt_id = os.path.join(tconfig.log_id, \"vanilla.pt\")"
   ]
  },
  {
   "cell_type": "code",
   "execution_count": 60,
   "id": "fbcbdca6-ed0d-462f-9e57-18a6e5065a16",
   "metadata": {},
   "outputs": [
    {
     "data": {
      "text/plain": [
       "'experiments/JointTraining/vanilla.pt'"
      ]
     },
     "execution_count": 60,
     "metadata": {},
     "output_type": "execute_result"
    }
   ],
   "source": [
    "tconfig.ckpt_id"
   ]
  },
  {
   "cell_type": "code",
   "execution_count": 32,
   "id": "e9d177a8-35e3-47e3-9563-2803b73fccb6",
   "metadata": {},
   "outputs": [],
   "source": [
    "def evaluate(model):\n",
    "    model.eval()\n",
    "    with torch.no_grad():\n",
    "        total_loss = loss_fn(model(test_ds.X), test_ds.Y)\n",
    "        return(total_loss / test_ds.Y.shape[0])"
   ]
  },
  {
   "cell_type": "code",
   "execution_count": 61,
   "id": "5f6dd01a-3dd8-4b57-b8ec-cfc5cf8b5d1a",
   "metadata": {},
   "outputs": [],
   "source": [
    "def vanilla_train(model, dataset, loss_fn, tconfig):\n",
    "    dataloader = torch.utils.data.DataLoader(dataset, **asdict(dconfig.dataloader_params))\n",
    "    optimizer = torch.optim.Adam(model.parameters(), lr=tconfig.learning_rate, weight_decay=1e-4)\n",
    "    losses = dict(train=[], test=[])\n",
    "    for epoch in range(1, tconfig.num_epochs+1):\n",
    "        model.train()  # Set the model to training mode\n",
    "        running_loss = 0.0\n",
    "        for x, y in dataloader:\n",
    "            #x, y = x.to(device), y.to(device)\n",
    "            optimizer.zero_grad()\n",
    "            y_hat = model(x)\n",
    "            loss = loss_fn(y_hat, y)\n",
    "            loss.backward()\n",
    "            optimizer.step()\n",
    "            running_loss += loss.item()\n",
    "    \n",
    "        # Print training progress\n",
    "        average_loss = running_loss / len(dataloader)\n",
    "        test_loss = evaluate(model).item()\n",
    "        print(f'Epoch [{epoch}/{tconfig.num_epochs}], Train Loss: {average_loss:.4f}, Test Loss: {test_loss:.4f}')\n",
    "        losses['train'].append(average_loss); losses['test'].append(test_loss);\n",
    "        if(epoch % tconfig.batch_checkpoint_interval == 0):\n",
    "            print(\"Saving Model\")\n",
    "            torch.save(model.state_dict(), tconfig.ckpt_id)\n",
    "\n",
    "    return(model, losses)"
   ]
  },
  {
   "cell_type": "code",
   "execution_count": 62,
   "id": "68cc7cea-b50a-4afb-b819-efad4588227e",
   "metadata": {},
   "outputs": [],
   "source": [
    "model = nn.Sequential(\n",
    "    nn.Linear(in_features=124, out_features=256),\n",
    "    nn.ReLU(),\n",
    "    nn.Linear(in_features=256, out_features=128),\n",
    ").to(device)"
   ]
  },
  {
   "cell_type": "code",
   "execution_count": 35,
   "id": "a32714d7-3878-4b48-acf5-276287a8f9a0",
   "metadata": {},
   "outputs": [
    {
     "data": {
      "text/plain": [
       "tensor(0.0110, device='cuda:0')"
      ]
     },
     "execution_count": 35,
     "metadata": {},
     "output_type": "execute_result"
    }
   ],
   "source": [
    "evaluate(model)"
   ]
  },
  {
   "cell_type": "code",
   "execution_count": 63,
   "id": "6d20550d-434b-4855-a640-82cf94221230",
   "metadata": {},
   "outputs": [
    {
     "name": "stdout",
     "output_type": "stream",
     "text": [
      "Epoch [1/10], Train Loss: 0.0505, Test Loss: 0.0336\n",
      "Epoch [2/10], Train Loss: 0.0204, Test Loss: 0.0393\n",
      "Epoch [3/10], Train Loss: 0.0180, Test Loss: 0.0469\n",
      "Epoch [4/10], Train Loss: 0.0170, Test Loss: 0.0483\n",
      "Epoch [5/10], Train Loss: 0.0164, Test Loss: 0.0500\n",
      "Saving Model\n",
      "Epoch [6/10], Train Loss: 0.0160, Test Loss: 0.0531\n",
      "Epoch [7/10], Train Loss: 0.0158, Test Loss: 0.0555\n",
      "Epoch [8/10], Train Loss: 0.0155, Test Loss: 0.0577\n",
      "Epoch [9/10], Train Loss: 0.0154, Test Loss: 0.0591\n",
      "Epoch [10/10], Train Loss: 0.0152, Test Loss: 0.0607\n",
      "Saving Model\n"
     ]
    }
   ],
   "source": [
    "model, losses = vanilla_train(model, train_ds, loss_fn, tconfig)"
   ]
  },
  {
   "cell_type": "code",
   "execution_count": 64,
   "id": "1cc6f5c9-126b-4ac1-bf89-5fc769440451",
   "metadata": {},
   "outputs": [
    {
     "data": {
      "image/png": "[encoded data removed]",
      "text/plain": [
       "<Figure size 640x480 with 1 Axes>"
      ]
     },
     "metadata": {},
     "output_type": "display_data"
    }
   ],
   "source": [
    "plt.plot(losses['train'], label='train')\n",
    "plt.plot(losses['test'], label='test')\n",
    "plt.legend()\n",
    "plt.show()"
   ]
  },
  {
   "cell_type": "markdown",
   "id": "b251f83a-c3ac-4eaa-bb34-fff1fcb405d0",
   "metadata": {},
   "source": [
    "## Diffusion Augmented training"
   ]
  },
  {
   "cell_type": "code",
   "execution_count": 33,
   "id": "96b567e6-31e8-4e0e-b7f0-171a6792bb26",
   "metadata": {},
   "outputs": [
    {
     "data": {
      "text/plain": [
       "TrainLoaderParams(batch_size=256, shuffle=True, num_workers=8, prefetch_factor=4, persistent_workers=True, multiprocessing_context='forkserver', pin_memory=True)"
      ]
     },
     "execution_count": 33,
     "metadata": {},
     "output_type": "execute_result"
    }
   ],
   "source": [
    "exp_id = \"full_dataset_testrun\"\n",
    "base_dir = os.path.join(\"experiments\", exp_id)\n",
    "run_id = \"trial_1b\"\n",
    "tconfig, mconfig, dconfig = tru.load_config(run_id, exp_id)\n",
    "\n",
    "dconfig.dataset_type = \"ClimsimImageDataset\"\n",
    "dconfig.train_test_split = [0.02, 0.01]\n",
    "dconfig.dataloader_params.batch_size = 256\n",
    "dconfig.dataloader_params\n"
   ]
  },
  {
   "cell_type": "code",
   "execution_count": 35,
   "id": "10c21821-f4e7-4280-b87b-9fe36ac98956",
   "metadata": {},
   "outputs": [],
   "source": [
    "train_ds, test_ds = data.load_dataset(dconfig, log=False)"
   ]
  },
  {
   "cell_type": "code",
   "execution_count": 41,
   "id": "197035cf-d687-4b4e-b6b0-3456384b378a",
   "metadata": {},
   "outputs": [],
   "source": [
    "from dask.diagnostics import ProgressBar"
   ]
  },
  {
   "cell_type": "code",
   "execution_count": 47,
   "id": "c82f580f-9b1b-4869-85f2-b6af0d8758e9",
   "metadata": {},
   "outputs": [
    {
     "name": "stdout",
     "output_type": "stream",
     "text": [
      "[########################################] | 100% Completed | 177.12 s\n"
     ]
    }
   ],
   "source": [
    "with ProgressBar():\n",
    "    train_ds.X.load()"
   ]
  },
  {
   "cell_type": "code",
   "execution_count": 48,
   "id": "7b380a9e-b3a8-4e9a-8077-93d631136b47",
   "metadata": {},
   "outputs": [
    {
     "name": "stdout",
     "output_type": "stream",
     "text": [
      "[########################################] | 100% Completed | 184.48 s\n"
     ]
    }
   ],
   "source": [
    "with ProgressBar():\n",
    "    train_ds.Y.load()"
   ]
  },
  {
   "cell_type": "code",
   "execution_count": 83,
   "id": "4cc100c5-88fe-4922-9ff3-4b847729eb3e",
   "metadata": {},
   "outputs": [
    {
     "name": "stdout",
     "output_type": "stream",
     "text": [
      "[########################################] | 100% Completed | 171.33 s\n"
     ]
    }
   ],
   "source": [
    "with ProgressBar():\n",
    "    test_ds.X.load()"
   ]
  },
  {
   "cell_type": "code",
   "execution_count": 90,
   "id": "09df9c6e-24fb-4f72-ae47-571d97db159b",
   "metadata": {},
   "outputs": [
    {
     "data": {
      "text/plain": [
       "826.549248"
      ]
     },
     "execution_count": 90,
     "metadata": {},
     "output_type": "execute_result"
    }
   ],
   "source": [
    "test_ds.Y.nbytes / 1e6"
   ]
  },
  {
   "cell_type": "code",
   "execution_count": 98,
   "id": "69811492-4c5b-4606-b78f-7415dbe5c413",
   "metadata": {},
   "outputs": [],
   "source": [
    "#with ProgressBar():\n",
    "#    test_ds.Y = test_ds.Y.compute()"
   ]
  },
  {
   "cell_type": "code",
   "execution_count": 7,
   "id": "f13f648f-ed6a-47f4-8b31-b07b0cbe51a1",
   "metadata": {},
   "outputs": [
    {
     "data": {
      "text/plain": [
       "device(type='cuda', index=0)"
      ]
     },
     "execution_count": 7,
     "metadata": {},
     "output_type": "execute_result"
    }
   ],
   "source": [
    "ddpm = tru.load_model_from_ckpt(f\"{run_id}-ckpt.pt\", mconfig, exp_id).to(device)\n",
    "mconfig.scheduler_type = \"ddim\"\n",
    "scheduler = data.load_scheduler(mconfig)\n",
    "scheduler.set_timesteps(num_inference_steps=mconfig.scheduler_inference_steps)\n",
    "ddpm.device"
   ]
  },
  {
   "cell_type": "code",
   "execution_count": 8,
   "id": "de4159f0-449c-4cb8-9d94-174c4cbfbd63",
   "metadata": {},
   "outputs": [
    {
     "data": {
      "text/plain": [
       "tensor([99, 98, 97, 96, 95, 94, 93, 92, 91, 90, 89, 88, 87, 86, 85, 84, 83, 82,\n",
       "        81, 80, 79, 78, 77, 76, 75, 74, 73, 72, 71, 70, 69, 68, 67, 66, 65, 64,\n",
       "        63, 62, 61, 60, 59, 58, 57, 56, 55, 54, 53, 52, 51, 50, 49, 48, 47, 46,\n",
       "        45, 44, 43, 42, 41, 40, 39, 38, 37, 36, 35, 34, 33, 32, 31, 30, 29, 28,\n",
       "        27, 26, 25, 24, 23, 22, 21, 20, 19, 18, 17, 16, 15, 14, 13, 12, 11, 10,\n",
       "         9,  8,  7,  6,  5,  4,  3,  2,  1,  0])"
      ]
     },
     "execution_count": 8,
     "metadata": {},
     "output_type": "execute_result"
    }
   ],
   "source": [
    "scheduler.timesteps"
   ]
  },
  {
   "cell_type": "code",
   "execution_count": 49,
   "id": "a8fc2a4a-37e4-46f1-a129-b9bf23238ede",
   "metadata": {},
   "outputs": [
    {
     "name": "stdout",
     "output_type": "stream",
     "text": [
      "CPU times: user 505 ms, sys: 775 ms, total: 1.28 s\n",
      "Wall time: 1.18 s\n"
     ]
    }
   ],
   "source": [
    "%%time\n",
    "x, y = train_ds[0]"
   ]
  },
  {
   "cell_type": "code",
   "execution_count": 52,
   "id": "e805c21a-ae8b-412b-a271-0c6be9f74cfc",
   "metadata": {},
   "outputs": [],
   "source": [
    "model = nn.Sequential(\n",
    "    nn.Linear(in_features=124, out_features=256),\n",
    "    nn.ReLU(),\n",
    "    nn.Linear(in_features=256, out_features=128),\n",
    ").to(device)"
   ]
  },
  {
   "cell_type": "code",
   "execution_count": 14,
   "id": "08e0d79e-3f33-4a87-9216-3a15e7b245ac",
   "metadata": {
    "scrolled": true
   },
   "outputs": [],
   "source": [
    "y_hat = model(x.to(device))"
   ]
  },
  {
   "cell_type": "code",
   "execution_count": 15,
   "id": "46bdcef4-6ae3-4561-9974-7101529a24dd",
   "metadata": {},
   "outputs": [],
   "source": [
    "def construct_image(ytensor):\n",
    "    # more complex in actual setup\n",
    "    return(torch.transpose(ytensor, 1, 2).reshape(-1, 128, 16, 24))"
   ]
  },
  {
   "cell_type": "code",
   "execution_count": 103,
   "id": "4c47023e-23c8-4f74-abfa-91dec6c07453",
   "metadata": {
    "scrolled": true
   },
   "outputs": [],
   "source": [
    "loss_fn = nn.MSELoss()\n",
    "def image_loss(y, yhat, T: int, unet=ddpm, scheduler=scheduler):\n",
    "    y, yhat = construct_image(y), construct_image(yhat)\n",
    "    def encode(sample):\n",
    "        eps = torch.randn(sample.shape, device=device) # BS x C x H x W\n",
    "        xt = scheduler.add_noise(sample, eps, torch.LongTensor([T])) # noisy image\n",
    "        return(xt)\n",
    "    def decode(xt):\n",
    "        for t in range(T, 0, -1):\n",
    "            with torch.no_grad():\n",
    "                eps_theta = unet(xt, t).sample\n",
    "            xt = scheduler.step(eps_theta, t, xt).prev_sample\n",
    "        return(xt)\n",
    "    yhat = decode(encode(yhat))\n",
    "    return(loss_fn(y, yhat))"
   ]
  },
  {
   "cell_type": "code",
   "execution_count": 54,
   "id": "1010aa05-dd40-40a3-a59d-87e9ed3afa54",
   "metadata": {},
   "outputs": [
    {
     "data": {
      "text/plain": [
       "tensor(1.4329, device='cuda:0', grad_fn=<MseLossBackward0>)"
      ]
     },
     "execution_count": 54,
     "metadata": {},
     "output_type": "execute_result"
    }
   ],
   "source": [
    "image_loss(y.to(device), y_hat, 25)"
   ]
  },
  {
   "cell_type": "code",
   "execution_count": 62,
   "id": "75dc0c4a-9f59-4623-a5b4-a42322bb38b6",
   "metadata": {},
   "outputs": [
    {
     "data": {
      "text/plain": [
       "16.421875"
      ]
     },
     "execution_count": 62,
     "metadata": {},
     "output_type": "execute_result"
    }
   ],
   "source": [
    "4204/256"
   ]
  },
  {
   "cell_type": "code",
   "execution_count": 69,
   "id": "ca41e956-b79f-4015-9b42-c9d9088e0053",
   "metadata": {},
   "outputs": [
    {
     "data": {
      "text/plain": [
       "20"
      ]
     },
     "execution_count": 69,
     "metadata": {},
     "output_type": "execute_result"
    }
   ],
   "source": [
    "tconfig.num_epochs"
   ]
  },
  {
   "cell_type": "code",
   "execution_count": 72,
   "id": "c506e955-b4e4-4f07-862d-7ac464a56e26",
   "metadata": {},
   "outputs": [
    {
     "data": {
      "text/plain": [
       "8"
      ]
     },
     "execution_count": 72,
     "metadata": {},
     "output_type": "execute_result"
    }
   ],
   "source": [
    "\n",
    "len(test_ds)"
   ]
  },
  {
   "cell_type": "code",
   "execution_count": 80,
   "id": "5517510c-25f9-4424-8f46-435dedd4f679",
   "metadata": {},
   "outputs": [
    {
     "name": "stdout",
     "output_type": "stream",
     "text": [
      "CPU times: user 437 ms, sys: 1.85 ms, total: 438 ms\n",
      "Wall time: 402 ms\n"
     ]
    }
   ],
   "source": [
    "%%time\n",
    "c, d = train_ds[5]"
   ]
  },
  {
   "cell_type": "code",
   "execution_count": 81,
   "id": "38d762bd-72bf-4665-9795-e7c29072541a",
   "metadata": {},
   "outputs": [
    {
     "name": "stdout",
     "output_type": "stream",
     "text": [
      "CPU times: user 29.9 ms, sys: 0 ns, total: 29.9 ms\n",
      "Wall time: 29.5 ms\n"
     ]
    },
    {
     "data": {
      "text/plain": [
       "tensor(0.9858, device='cuda:0', grad_fn=<MseLossBackward0>)"
      ]
     },
     "execution_count": 81,
     "metadata": {},
     "output_type": "execute_result"
    }
   ],
   "source": [
    "%%time\n",
    "loss_fn(model(a.to(device)), b.to(device))"
   ]
  },
  {
   "cell_type": "code",
   "execution_count": 76,
   "id": "80bce48f-35f7-46db-9ddc-f7d55c0e8ac6",
   "metadata": {},
   "outputs": [],
   "source": [
    "def evaluate_diff(model):\n",
    "    loss = 0.0\n",
    "    model.eval()\n",
    "    with torch.no_grad():\n",
    "        for idx in range(len(test_ds)):\n",
    "            print(idx, end=\" \")\n",
    "            x, y = test_ds[idx]\n",
    "            x, y = x.to(device), y.to(device)\n",
    "            loss += loss_fn(model(x), y).item()\n",
    "    return(loss / len(test_ds))"
   ]
  },
  {
   "cell_type": "code",
   "execution_count": 107,
   "id": "ed25f781-2eb8-4b0d-9fcd-935a9e903e68",
   "metadata": {},
   "outputs": [
    {
     "data": {
      "text/plain": [
       "tensor([99, 98, 97, 96, 95, 94, 93, 92, 91, 90, 89, 88, 87, 86, 85, 84, 83, 82,\n",
       "        81, 80, 79, 78, 77, 76, 75, 74, 73, 72, 71, 70, 69, 68, 67, 66, 65, 64,\n",
       "        63, 62, 61, 60, 59, 58, 57, 56, 55, 54, 53, 52, 51, 50, 49, 48, 47, 46,\n",
       "        45, 44, 43, 42, 41, 40, 39, 38, 37, 36, 35, 34, 33, 32, 31, 30, 29, 28,\n",
       "        27, 26, 25, 24, 23, 22, 21, 20, 19, 18, 17, 16, 15, 14, 13, 12, 11, 10,\n",
       "         9,  8,  7,  6,  5,  4,  3,  2,  1,  0])"
      ]
     },
     "execution_count": 107,
     "metadata": {},
     "output_type": "execute_result"
    }
   ],
   "source": [
    "scheduler.timesteps"
   ]
  },
  {
   "cell_type": "code",
   "execution_count": 121,
   "id": "0a6dedac-9b60-4a44-92fe-d0da1f3dc1fb",
   "metadata": {},
   "outputs": [],
   "source": [
    "def diffusion_train(model, dataset, loss_fn, tconfig):\n",
    "    optimizer = torch.optim.Adam(model.parameters(), lr=tconfig.learning_rate, weight_decay=1e-4)\n",
    "    losses = dict(train=[], diffusion=[], test=[])\n",
    "    for epoch in range(1, tconfig.num_epochs+1):\n",
    "        model.train()  # Set the model to training mode\n",
    "        pixel_loss, img_loss = 0.0, 0.0\n",
    "        for idx in range(len(dataset)):\n",
    "            print(idx, end=\" \")\n",
    "            x, y = dataset[idx]\n",
    "            x, y = x.to(device), y.to(device)\n",
    "            optimizer.zero_grad()\n",
    "            y_hat = model(x)\n",
    "            ploss = loss_fn(y, y_hat)\n",
    "            iloss = image_loss(y, y_hat, T=25)\n",
    "            (ploss + iloss).backward()\n",
    "            optimizer.step()\n",
    "            pixel_loss += ploss.item(); img_loss += iloss.item()\n",
    "            losses['train'].append(ploss.item()); losses['diffusion'].append(iloss.item());\n",
    "        # Print training progress\n",
    "        #average_loss = running_loss / len(dataloader)\n",
    "        #test_loss = evaluate(model).item()\n",
    "        print(f'\\nEpoch [{epoch}/{tconfig.num_epochs}], Pixel Loss: {pixel_loss/len(dataset):.4f}, Image Loss: {img_loss/len(dataset):.4f}')\n",
    "        \n",
    "        if(epoch % tconfig.batch_checkpoint_interval == 0):\n",
    "            print(\"Saving Model\")\n",
    "            torch.save(model.state_dict(), tconfig.ckpt_id)\n",
    "\n",
    "    return(model, losses)"
   ]
  },
  {
   "cell_type": "code",
   "execution_count": 116,
   "id": "c2867457-a625-4d65-9dcc-19c59f452ed1",
   "metadata": {},
   "outputs": [],
   "source": [
    "model = nn.Sequential(\n",
    "    nn.Linear(in_features=124, out_features=256),\n",
    "    nn.ReLU(),\n",
    "    nn.Linear(in_features=256, out_features=128),\n",
    ").to(device)"
   ]
  },
  {
   "cell_type": "code",
   "execution_count": 122,
   "id": "95a50663-cec2-4e3f-bce0-b0575c913d89",
   "metadata": {
    "scrolled": true
   },
   "outputs": [
    {
     "data": {
      "text/plain": [
       "tensor(1.3941, device='cuda:0', grad_fn=<MseLossBackward0>)"
      ]
     },
     "execution_count": 122,
     "metadata": {},
     "output_type": "execute_result"
    }
   ],
   "source": [
    "loss_fn(model(x.to(device)), y.to(device))"
   ]
  },
  {
   "cell_type": "code",
   "execution_count": 123,
   "id": "40aee2d0-8d9f-4091-973e-0cb545643720",
   "metadata": {},
   "outputs": [],
   "source": [
    "x, y = train_ds[0]"
   ]
  },
  {
   "cell_type": "code",
   "execution_count": 127,
   "id": "cbdc312e-a7f1-4108-b39f-1edeed4cda91",
   "metadata": {},
   "outputs": [
    {
     "name": "stdout",
     "output_type": "stream",
     "text": [
      "0 1 2 3 4 5 6 7 8 9 10 11 12 13 14 15 \n",
      "Epoch [1/10], Pixel Loss: 1.0640, Image Loss: 1.0884\n",
      "0 1 2 3 4 5 6 7 8 9 10 11 12 13 14 15 \n",
      "Epoch [2/10], Pixel Loss: 1.0268, Image Loss: 1.0556\n",
      "0 1 2 3 4 5 6 7 8 9 10 11 12 13 14 15 \n",
      "Epoch [3/10], Pixel Loss: 0.9956, Image Loss: 1.0274\n",
      "0 1 2 3 4 5 6 7 8 9 10 11 12 13 14 15 \n",
      "Epoch [4/10], Pixel Loss: 0.9671, Image Loss: 1.0011\n",
      "0 1 2 3 4 5 6 7 8 9 10 11 12 13 14 15 \n",
      "Epoch [5/10], Pixel Loss: 0.9403, Image Loss: 0.9758\n",
      "0 1 2 3 4 5 6 7 8 9 10 11 12 13 14 15 \n",
      "Epoch [6/10], Pixel Loss: 0.9146, Image Loss: 0.9515\n",
      "0 1 2 3 4 5 6 7 8 9 10 11 12 13 14 15 \n",
      "Epoch [7/10], Pixel Loss: 0.8901, Image Loss: 0.9280\n",
      "0 1 2 3 4 5 6 7 8 9 10 11 12 13 14 15 \n",
      "Epoch [8/10], Pixel Loss: 0.8668, Image Loss: 0.9055\n",
      "0 1 2 3 4 5 6 7 8 9 10 11 12 13 14 15 \n",
      "Epoch [9/10], Pixel Loss: 0.8446, Image Loss: 0.8840\n",
      "0 1 2 3 4 5 6 7 8 9 10 11 12 13 14 15 \n",
      "Epoch [10/10], Pixel Loss: 0.8236, Image Loss: 0.8637\n"
     ]
    }
   ],
   "source": [
    "model, losses = diffusion_train(model, train_ds, loss_fn, tconfig)"
   ]
  },
  {
   "cell_type": "code",
   "execution_count": 130,
   "id": "2bf85d86-9d8a-421a-b6f9-5193162e93dc",
   "metadata": {},
   "outputs": [],
   "source": [
    "torch.save(model.state_dict(), \"experiments/JointTraining/diffusion_train.pt\")"
   ]
  },
  {
   "cell_type": "code",
   "execution_count": 134,
   "id": "b443dfc0-451f-4ac7-93a4-518977be7e7c",
   "metadata": {},
   "outputs": [
    {
     "data": {
      "image/png": "[encoded data removed]",
      "text/plain": [
       "<Figure size 640x480 with 1 Axes>"
      ]
     },
     "metadata": {},
     "output_type": "display_data"
    }
   ],
   "source": [
    "plt.plot(losses['train'], label='pixel loss')\n",
    "plt.plot(losses['diffusion'], label='image loss')\n",
    "plt.legend()\n",
    "plt.show()"
   ]
  },
  {
   "cell_type": "code",
   "execution_count": 137,
   "id": "bc05ab51-9873-4755-8c3a-6b27d2b31642",
   "metadata": {},
   "outputs": [],
   "source": [
    "import json"
   ]
  },
  {
   "cell_type": "code",
   "execution_count": 139,
   "id": "f621ef05-126c-44a2-b819-803493f14acf",
   "metadata": {
    "scrolled": true
   },
   "outputs": [],
   "source": [
    "with open(\"experiments/JointTraining/diffusion_train_losses.json\", \"w\") as file:\n",
    "    json.dump(losses, file)"
   ]
  },
  {
   "cell_type": "code",
   "execution_count": null,
   "id": "1321c862-a10b-43ac-9098-6457e1722e4c",
   "metadata": {},
   "outputs": [],
   "source": []
  }
 ],
 "metadata": {
  "kernelspec": {
   "display_name": "Python 3 (ipykernel)",
   "language": "python",
   "name": "python3"
  },
  "language_info": {
   "codemirror_mode": {
    "name": "ipython",
    "version": 3
   },
   "file_extension": ".py",
   "mimetype": "text/x-python",
   "name": "python",
   "nbconvert_exporter": "python",
   "pygments_lexer": "ipython3",
   "version": "3.12.7"
  }
 },
 "nbformat": 4,
 "nbformat_minor": 5
}
