{
 "cells": [
  {
   "cell_type": "markdown",
   "id": "10dee58a-b8c1-4237-bdd5-2ba2e95d5bdc",
   "metadata": {},
   "source": [
    "### Generate Predictions using Trained Models"
   ]
  },
  {
   "cell_type": "code",
   "execution_count": 1,
   "id": "4f81ee47-8eb7-4ab0-bb0c-a5ce1c0ad2d9",
   "metadata": {},
   "outputs": [],
   "source": [
    "import torch\n",
    "import torch.nn as nn\n",
    "import torch.nn.functional as F\n",
    "import numpy as np\n",
    "import sys\n",
    "import os\n",
    "sys.path.append(os.path.abspath(os.path.join('diffusionsim')))\n",
    "import dask\n",
    "import xarray as xr\n",
    "import matplotlib.pyplot as plt\n",
    "import gcsfs\n",
    "import json\n",
    "#fs = gcsfs.GCSFileSystem()"
   ]
  },
  {
   "cell_type": "code",
   "execution_count": 2,
   "id": "a8950586-8264-4d2e-8939-1d288f6fa33d",
   "metadata": {},
   "outputs": [
    {
     "ename": "ModuleNotFoundError",
     "evalue": "No module named 'diffusers'",
     "output_type": "error",
     "traceback": [
      "\u001b[0;31m---------------------------------------------------------------------------\u001b[0m",
      "\u001b[0;31mModuleNotFoundError\u001b[0m                       Traceback (most recent call last)",
      "Cell \u001b[0;32mIn[2], line 1\u001b[0m\n\u001b[0;32m----> 1\u001b[0m \u001b[38;5;28;01mimport\u001b[39;00m \u001b[38;5;21;01mdiffusers\u001b[39;00m\n\u001b[1;32m      2\u001b[0m \u001b[38;5;28;01mimport\u001b[39;00m \u001b[38;5;21;01mdiffusionsim\u001b[39;00m \u001b[38;5;28;01mas\u001b[39;00m \u001b[38;5;21;01mdiff\u001b[39;00m\n\u001b[1;32m      3\u001b[0m \u001b[38;5;28;01mimport\u001b[39;00m \u001b[38;5;21;01mdiffusionsim\u001b[39;00m\u001b[38;5;21;01m.\u001b[39;00m\u001b[38;5;21;01mtraining_utils\u001b[39;00m \u001b[38;5;28;01mas\u001b[39;00m \u001b[38;5;21;01mtru\u001b[39;00m\n",
      "\u001b[0;31mModuleNotFoundError\u001b[0m: No module named 'diffusers'"
     ]
    }
   ],
   "source": [
    "import diffusers\n",
    "import diffusionsim as diff\n",
    "import diffusionsim.training_utils as tru\n",
    "from diffusionsim import mydatasets as data"
   ]
  },
  {
   "cell_type": "code",
   "execution_count": null,
   "id": "46d2fce9-3d30-455d-8aa6-d6daa56afe58",
   "metadata": {},
   "outputs": [],
   "source": [
    "device = 'cuda' if torch.cuda.is_available() else 'cpu'\n",
    "device"
   ]
  },
  {
   "cell_type": "code",
   "execution_count": null,
   "id": "4993a080-248e-4157-9b96-0832403da514",
   "metadata": {},
   "outputs": [],
   "source": [
    "exp_id = \"full_dataset_testrun\"\n",
    "base_dir = os.path.join(\"experiments\", exp_id)\n",
    "run_id = \"trial_1b\"\n",
    "tconfig, mconfig, dconfig = tru.load_config(run_id, exp_id)\n",
    "with open(os.path.join(base_dir, \"trial_1b.json\"), 'r') as file:\n",
    "    log = json.load(file)"
   ]
  },
  {
   "cell_type": "code",
   "execution_count": 5,
   "id": "4a3d6739-6374-491d-843d-77f703c58861",
   "metadata": {},
   "outputs": [],
   "source": [
    "dconfig.train_test_split = [0.1, 0.1]"
   ]
  },
  {
   "cell_type": "code",
   "execution_count": 6,
   "id": "efe0ad74-f1c7-44c3-a11b-0a1841cfe66e",
   "metadata": {},
   "outputs": [],
   "source": [
    "dconfig.dataloader_params.batch_size = 32\n",
    "train_ds, test_ds = data.load_dataset(dconfig)"
   ]
  },
  {
   "cell_type": "code",
   "execution_count": null,
   "id": "ba44101e-de3f-4001-b5a8-e6b24459af04",
   "metadata": {},
   "outputs": [],
   "source": [
    "def plot_loss(log):\n",
    "    len(log['train_loss'])\n",
    "    plt.plot(log['train_loss'])\n",
    "    batches_per_epoch = np.ceil(dataset.data.time.shape[0]  / 128 / 25)\n",
    "    num_batches, num_epochs = len(log['train_loss']), tconfig.num_epochs + 1\n",
    "    plt.xticks(np.arange(0, num_batches, batches_per_epoch), labels=np.arange(1, num_epochs))\n",
    "    plt.title(\"Training Loss over time\")\n",
    "    plt.xlabel(\"Epochs\")\n",
    "    plt.ylabel(\"Loss\")\n",
    "    plt.show()"
   ]
  },
  {
   "cell_type": "code",
   "execution_count": 16,
   "id": "9fc6ee71-babc-47a0-9f80-6e81ec925136",
   "metadata": {},
   "outputs": [],
   "source": [
    "#trainer = tru.setup_trainer(exp_id, run_id, tconfig, mconfig, dconfig)\n",
    "#trainer.dataloaders['train'].dataset.log = False"
   ]
  },
  {
   "cell_type": "code",
   "execution_count": 7,
   "id": "370279fc-bb57-4e6c-a2fb-f6d3f3216f79",
   "metadata": {},
   "outputs": [
    {
     "data": {
      "text/plain": [
       "device(type='cuda', index=0)"
      ]
     },
     "execution_count": 7,
     "metadata": {},
     "output_type": "execute_result"
    }
   ],
   "source": [
    "ddpm = tru.load_model_from_ckpt(f\"{run_id}-ckpt.pt\", mconfig, exp_id).to(device)\n",
    "mconfig.scheduler_type = \"ddim\"\n",
    "scheduler = data.load_scheduler(mconfig)\n",
    "ddpm.device"
   ]
  },
  {
   "cell_type": "code",
   "execution_count": 8,
   "id": "abac9bc1-b9c5-4e9f-a66a-f7f32276ed57",
   "metadata": {},
   "outputs": [
    {
     "data": {
      "text/plain": [
       "DDIMScheduler {\n",
       "  \"_class_name\": \"DDIMScheduler\",\n",
       "  \"_diffusers_version\": \"0.30.3\",\n",
       "  \"beta_end\": 0.02,\n",
       "  \"beta_schedule\": \"linear\",\n",
       "  \"beta_start\": 0.0001,\n",
       "  \"clip_sample\": false,\n",
       "  \"clip_sample_range\": 4.0,\n",
       "  \"dynamic_thresholding_ratio\": 0.995,\n",
       "  \"num_train_timesteps\": 100,\n",
       "  \"prediction_type\": \"epsilon\",\n",
       "  \"rescale_betas_zero_snr\": false,\n",
       "  \"sample_max_value\": 1.0,\n",
       "  \"set_alpha_to_one\": true,\n",
       "  \"steps_offset\": 0,\n",
       "  \"thresholding\": false,\n",
       "  \"timestep_spacing\": \"leading\",\n",
       "  \"trained_betas\": null\n",
       "}"
      ]
     },
     "execution_count": 8,
     "metadata": {},
     "output_type": "execute_result"
    }
   ],
   "source": [
    "scheduler"
   ]
  },
  {
   "cell_type": "code",
   "execution_count": 9,
   "id": "20fd2d87-3c6f-4cdc-b303-3c00471f47a3",
   "metadata": {},
   "outputs": [],
   "source": [
    "def recreate_sample(sample, dataset=train_ds):\n",
    "    arr = sample.numpy().reshape(-1, 128, 384)\n",
    "    xarr = xr.DataArray(arr, dims=\"time mlo ncol\".split(), coords=dict(\n",
    "        time = np.arange(arr.shape[0]),\n",
    "        mlo = dataset.mlo, \n",
    "        ncol = dataset.permute_indices\n",
    "    )).isel(ncol=np.argsort(dataset.permute_indices))\n",
    "    mu_stack = dataset.Ymean.to_stacked_array(new_dim=\"mlo\", sample_dims=('ncol',))\n",
    "    sig_stack = dataset.Ystd.to_stacked_array(new_dim=\"mlo\", sample_dims=('ncol',))\n",
    "    xrec = (xarr * sig_stack.mean(dim='ncol')) + mu_stack.mean(dim='ncol')\n",
    "    return(xrec.transpose(\"time\", \"ncol\", \"mlo\"))"
   ]
  },
  {
   "cell_type": "markdown",
   "id": "c4a01b68-cacb-4c3c-a298-197954e55c9d",
   "metadata": {
    "jp-MarkdownHeadingCollapsed": true
   },
   "source": [
    "#### Testing Sample Recreation"
   ]
  },
  {
   "cell_type": "code",
   "execution_count": 19,
   "id": "f8ce6ddd-ff31-4c39-a2c1-3a79d36b2108",
   "metadata": {},
   "outputs": [],
   "source": [
    "sample = recreate_sample(dataset[0])"
   ]
  },
  {
   "cell_type": "code",
   "execution_count": 20,
   "id": "f96b3ac3-3e17-4fd8-8b65-7696a6a92cef",
   "metadata": {},
   "outputs": [
    {
     "data": {
      "image/png": "[encoded data removed]",
      "text/plain": [
       "<Figure size 640x480 with 2 Axes>"
      ]
     },
     "metadata": {},
     "output_type": "display_data"
    }
   ],
   "source": [
    "tmap = sample.isel(time=0, mlo=59, ncol=dataset.permute_indices).data\n",
    "plt.imshow(tmap.reshape(16, 24), cmap='plasma')\n",
    "plt.colorbar()\n",
    "plt.show()"
   ]
  },
  {
   "cell_type": "code",
   "execution_count": 60,
   "id": "e1fd549b-5825-4f55-a0da-6128a9b7ecbb",
   "metadata": {},
   "outputs": [],
   "source": [
    "og = dataset.data.state_t.sel(time=0, lev=59, ncol=dataset.permute_indices).load().data"
   ]
  },
  {
   "cell_type": "code",
   "execution_count": 67,
   "id": "55a13ec0-6c59-4f72-8106-9f222594feb6",
   "metadata": {},
   "outputs": [
    {
     "data": {
      "image/png": "[encoded data removed]",
      "text/plain": [
       "<Figure size 640x480 with 2 Axes>"
      ]
     },
     "metadata": {},
     "output_type": "display_data"
    }
   ],
   "source": [
    "plt.imshow(og.reshape(16, 24), cmap='plasma')\n",
    "plt.colorbar()\n",
    "plt.show()"
   ]
  },
  {
   "cell_type": "code",
   "execution_count": 70,
   "id": "45c5053b-45e2-4139-bf57-a3d759fd2244",
   "metadata": {},
   "outputs": [],
   "source": [
    "ds0 = dataset.bgen[0].load()\n",
    "ds0 = ds0.to_stacked_array(new_dim='mlo', sample_dims=(\"time\", \"ncol\"))"
   ]
  },
  {
   "cell_type": "code",
   "execution_count": 71,
   "id": "cfbc2f31-ab0e-4e7d-8b0a-0c92ca1cf194",
   "metadata": {},
   "outputs": [
    {
     "data": {
      "text/plain": [
       "True"
      ]
     },
     "execution_count": 71,
     "metadata": {},
     "output_type": "execute_result"
    }
   ],
   "source": [
    "np.isclose(sample, ds0, atol=5e-5).all()"
   ]
  },
  {
   "cell_type": "code",
   "execution_count": 28,
   "id": "35174eea-d1a6-414f-8dd0-65424ce517f8",
   "metadata": {},
   "outputs": [],
   "source": []
  },
  {
   "cell_type": "code",
   "execution_count": 21,
   "id": "5196d2c5-8a6b-43fd-bed3-7a4bedb61f5d",
   "metadata": {},
   "outputs": [],
   "source": [
    "original_stderr_write = sys.stderr.write\n",
    "# Define a custom stderr.write that filters out the OpenBLAS warning\n",
    "def suppressed_stderr_write(message, omit='OpenBlas'):\n",
    "    original_stderr_write = sys.stderr.write    \n",
    "    if omit not in message:\n",
    "        original_stderr_write(message)\n",
    "\n",
    "sys.stderr.write = suppressed_stderr_write"
   ]
  },
  {
   "cell_type": "markdown",
   "id": "6bac651e-600c-48ce-a997-9bf4c9af7f9f",
   "metadata": {
    "jp-MarkdownHeadingCollapsed": true
   },
   "source": [
    "#### testing pipeline speed"
   ]
  },
  {
   "cell_type": "code",
   "execution_count": 89,
   "id": "cfa6c452-b0b5-475f-b8f9-962a8ac6d2c9",
   "metadata": {},
   "outputs": [
    {
     "data": {
      "text/plain": [
       "<torch._C.Generator at 0x7bc7c767b010>"
      ]
     },
     "execution_count": 89,
     "metadata": {},
     "output_type": "execute_result"
    }
   ],
   "source": [
    "gen = torch.Generator()\n",
    "gen"
   ]
  },
  {
   "cell_type": "code",
   "execution_count": 90,
   "id": "e12e1132-2046-41fe-b00c-6c30b08adac6",
   "metadata": {},
   "outputs": [],
   "source": [
    "#os.environ['OPENBLAS_VERBOSE'] = '0'\n",
    "#import warnings\n",
    "#warnings.filterwarnings(\"ignore\", category=UserWarning)"
   ]
  },
  {
   "cell_type": "code",
   "execution_count": 91,
   "id": "9f6c84e2-6568-4398-b48b-91950e925f7a",
   "metadata": {},
   "outputs": [
    {
     "name": "stdout",
     "output_type": "stream",
     "text": [
      "generating 1 images from pipeline\n"
     ]
    },
    {
     "data": {
      "application/vnd.jupyter.widget-view+json": {
       "model_id": "fe35ab40c71f4610a7f911ed826d5da5",
       "version_major": 2,
       "version_minor": 0
      },
      "text/plain": [
       "  0%|          | 0/50 [00:00<?, ?it/s]"
      ]
     },
     "metadata": {},
     "output_type": "display_data"
    },
    {
     "name": "stdout",
     "output_type": "stream",
     "text": [
      "generating 2 images from pipeline\n"
     ]
    },
    {
     "data": {
      "application/vnd.jupyter.widget-view+json": {
       "model_id": "d9ea1c210494446ab414e39431972ce2",
       "version_major": 2,
       "version_minor": 0
      },
      "text/plain": [
       "  0%|          | 0/50 [00:00<?, ?it/s]"
      ]
     },
     "metadata": {},
     "output_type": "display_data"
    },
    {
     "name": "stdout",
     "output_type": "stream",
     "text": [
      "generating 4 images from pipeline\n"
     ]
    },
    {
     "data": {
      "application/vnd.jupyter.widget-view+json": {
       "model_id": "9d9cd31cef7a46ad9cd949c2c180cbb1",
       "version_major": 2,
       "version_minor": 0
      },
      "text/plain": [
       "  0%|          | 0/50 [00:00<?, ?it/s]"
      ]
     },
     "metadata": {},
     "output_type": "display_data"
    },
    {
     "name": "stdout",
     "output_type": "stream",
     "text": [
      "generating 8 images from pipeline\n"
     ]
    },
    {
     "data": {
      "application/vnd.jupyter.widget-view+json": {
       "model_id": "f09ba5f718844637ad5961e393d25fe5",
       "version_major": 2,
       "version_minor": 0
      },
      "text/plain": [
       "  0%|          | 0/50 [00:00<?, ?it/s]"
      ]
     },
     "metadata": {},
     "output_type": "display_data"
    },
    {
     "name": "stdout",
     "output_type": "stream",
     "text": [
      "generating 16 images from pipeline\n"
     ]
    },
    {
     "data": {
      "application/vnd.jupyter.widget-view+json": {
       "model_id": "a3f9cb83b3354fafb39faeaa067b8ae3",
       "version_major": 2,
       "version_minor": 0
      },
      "text/plain": [
       "  0%|          | 0/50 [00:00<?, ?it/s]"
      ]
     },
     "metadata": {},
     "output_type": "display_data"
    },
    {
     "name": "stdout",
     "output_type": "stream",
     "text": [
      "generating 32 images from pipeline\n"
     ]
    },
    {
     "data": {
      "application/vnd.jupyter.widget-view+json": {
       "model_id": "19cefddeb0404320b3943ac1d7c57f29",
       "version_major": 2,
       "version_minor": 0
      },
      "text/plain": [
       "  0%|          | 0/50 [00:00<?, ?it/s]"
      ]
     },
     "metadata": {},
     "output_type": "display_data"
    },
    {
     "name": "stdout",
     "output_type": "stream",
     "text": [
      "generating 64 images from pipeline\n"
     ]
    },
    {
     "data": {
      "application/vnd.jupyter.widget-view+json": {
       "model_id": "eb8cdf8e8f634c93bb3f64bd35e8e5e8",
       "version_major": 2,
       "version_minor": 0
      },
      "text/plain": [
       "  0%|          | 0/50 [00:00<?, ?it/s]"
      ]
     },
     "metadata": {},
     "output_type": "display_data"
    },
    {
     "name": "stdout",
     "output_type": "stream",
     "text": [
      "generating 128 images from pipeline\n"
     ]
    },
    {
     "data": {
      "application/vnd.jupyter.widget-view+json": {
       "model_id": "cd3e00b59c534d789d833fa01e87f943",
       "version_major": 2,
       "version_minor": 0
      },
      "text/plain": [
       "  0%|          | 0/50 [00:00<?, ?it/s]"
      ]
     },
     "metadata": {},
     "output_type": "display_data"
    },
    {
     "name": "stdout",
     "output_type": "stream",
     "text": [
      "generating 256 images from pipeline\n"
     ]
    },
    {
     "data": {
      "application/vnd.jupyter.widget-view+json": {
       "model_id": "5874c8a6bac64b10934a5520292f4322",
       "version_major": 2,
       "version_minor": 0
      },
      "text/plain": [
       "  0%|          | 0/50 [00:00<?, ?it/s]"
      ]
     },
     "metadata": {},
     "output_type": "display_data"
    }
   ],
   "source": [
    "import time\n",
    "pipeline_test = dict(sizes=[1, 2, 4, 8, 16, 32, 64, 128, 256], times=[], batches=[], device=device)\n",
    "\n",
    "for sz in pipeline_test['sizes']:\n",
    "    print(f\"generating {sz} images from pipeline\")\n",
    "    now = time.time()\n",
    "    images = pipeline(eta=0, batch_size=sz, generator=gen, num_inference_steps=50, output_type='numpy').images\n",
    "    pipeline_test['times'].append(time.time() - now)\n",
    "    pipeline_test['batches'].append(images)"
   ]
  },
  {
   "cell_type": "code",
   "execution_count": 92,
   "id": "a71282e6-b54e-4c33-9324-69efc409f256",
   "metadata": {},
   "outputs": [
    {
     "data": {
      "text/plain": [
       "[<matplotlib.lines.Line2D at 0x7bc81c3c9b80>]"
      ]
     },
     "execution_count": 92,
     "metadata": {},
     "output_type": "execute_result"
    },
    {
     "data": {
      "image/png": "[encoded data removed]",
      "text/plain": [
       "<Figure size 640x480 with 1 Axes>"
      ]
     },
     "metadata": {},
     "output_type": "display_data"
    }
   ],
   "source": [
    "m, b = np.polyfit(pipeline_test['sizes'][:len(pipeline_test['times'])], pipeline_test['times'], 1)\n",
    "slope = np.dot(pipeline_test['sizes'][:len(pipeline_test['times'])], pipeline_test['times']) / np.dot(pipeline_test['sizes'], pipeline_test['sizes'])\n",
    "\n",
    "plt.scatter(pipeline_test['sizes'][:len(pipeline_test['times'])], pipeline_test['times'])\n",
    "plt.plot(pipeline_test['sizes'][:len(pipeline_test['times'])], np.array(pipeline_test['sizes'][:len(pipeline_test['times'])]) * slope)\n"
   ]
  },
  {
   "cell_type": "markdown",
   "id": "208b79db-18fb-4df2-96a5-8c70d3e6df15",
   "metadata": {},
   "source": [
    "seems like batch size does not really matter for generation speed- seconds/sample stays the same. "
   ]
  },
  {
   "cell_type": "code",
   "execution_count": 93,
   "id": "515e2393-a758-49a1-b08b-ae1e96a4de4e",
   "metadata": {},
   "outputs": [
    {
     "data": {
      "text/plain": [
       "(array([1232349.,  745020., 1084634., 1470926., 1759822., 1759558.,\n",
       "        1474366., 1084381.,  743111., 1228745.]),\n",
       " array([0.        , 0.1       , 0.2       , 0.30000001, 0.40000001,\n",
       "        0.5       , 0.60000002, 0.69999999, 0.80000001, 0.89999998,\n",
       "        1.        ]),\n",
       " <BarContainer object of 10 artists>)"
      ]
     },
     "execution_count": 93,
     "metadata": {},
     "output_type": "execute_result"
    },
    {
     "data": {
      "image/png": "[encoded data removed]",
      "text/plain": [
       "<Figure size 640x480 with 1 Axes>"
      ]
     },
     "metadata": {},
     "output_type": "display_data"
    }
   ],
   "source": [
    "plt.hist(np.array(pipeline_test['batches'][-1]).flatten())"
   ]
  },
  {
   "cell_type": "code",
   "execution_count": 94,
   "id": "1eb917f6-9173-4ac9-b863-8d6bdaa7ff73",
   "metadata": {},
   "outputs": [
    {
     "data": {
      "text/plain": [
       "(256, 128, 16, 24)"
      ]
     },
     "execution_count": 94,
     "metadata": {},
     "output_type": "execute_result"
    }
   ],
   "source": [
    "images = np.transpose(images, (0, 3, 1, 2))\n",
    "images.shape"
   ]
  },
  {
   "cell_type": "code",
   "execution_count": null,
   "id": "5edaab9d-7e44-43a1-9163-7edd561cd5a7",
   "metadata": {},
   "outputs": [],
   "source": [
    "plt.imshow(images[0, 59])"
   ]
  },
  {
   "cell_type": "markdown",
   "id": "6711f8fc-387c-4c49-9b15-f82c5a5b2c84",
   "metadata": {
    "jp-MarkdownHeadingCollapsed": true
   },
   "source": [
    "### Comparing empirical dataset norms to saved"
   ]
  },
  {
   "cell_type": "code",
   "execution_count": null,
   "id": "169fc2b8-281a-4633-ae4a-49d77180b19b",
   "metadata": {},
   "outputs": [],
   "source": [
    "from climsim_data_utils import data_utils, load_vars"
   ]
  },
  {
   "cell_type": "code",
   "execution_count": null,
   "id": "40fe0aa0-0f97-4cd9-a2d8-19b51b8cb051",
   "metadata": {},
   "outputs": [],
   "source": [
    "mapper = fs.get_mapper(\"gs://leap-persistent-ro/sungdukyu/E3SM-MMF_ne4.grid-info.zarr\")\n",
    "grid_info = xr.open_dataset(mapper, engine='zarr')\n",
    "\n",
    "dutils = data_utils(grid_info=grid_info)"
   ]
  },
  {
   "cell_type": "code",
   "execution_count": null,
   "id": "3fb5e92d-a55b-46c8-9073-58b951983fff",
   "metadata": {},
   "outputs": [],
   "source": [
    "def reconstruct_np(X_norm, Y_norm, data_vars='v1'):\n",
    "    inputs, outputs = load_vars(data_vars)\n",
    "    input_mean = xr.open_dataset('Climsim_info/input_mean.nc')[inputs].to_stacked_array('mlvar', sample_dims='').values\n",
    "    input_max = xr.open_dataset('Climsim_info/input_max.nc')[inputs].to_stacked_array('mlvar', sample_dims='').values\n",
    "    input_min = xr.open_dataset('Climsim_info/input_min.nc')[inputs].to_stacked_array('mlvar', sample_dims='').values\n",
    "    output_scale = xr.open_dataset('Climsim_info/output_scale.nc')[inputs].to_stacked_array('mlvar', sample_dims='').values\n",
    "\n",
    "    X = X_norm*(input_max - input_min) + input_mean\n",
    "    Y = Y_norm / output_scale\n",
    "    return(X,Y)"
   ]
  },
  {
   "cell_type": "code",
   "execution_count": null,
   "id": "475dedd7-5427-4fcc-a3cd-e1a1152075d4",
   "metadata": {},
   "outputs": [],
   "source": [
    "x_avg = x_npy.mean(axis=0)\n",
    "x_avg.shape"
   ]
  },
  {
   "cell_type": "code",
   "execution_count": null,
   "id": "93f38442-c5b1-4b16-a54f-6648728f9e60",
   "metadata": {},
   "outputs": [],
   "source": [
    "x_norm = xr.open_dataset(\"Climsim_info/input_mean.nc\")"
   ]
  },
  {
   "cell_type": "code",
   "execution_count": 64,
   "id": "ba22f126-58d6-4390-92e7-04e737293a9f",
   "metadata": {},
   "outputs": [],
   "source": [
    "x_norm_v1 = x_norm[dutils.v1_inputs].to_stacked_array('mlvar', sample_dims='').values"
   ]
  },
  {
   "cell_type": "code",
   "execution_count": 75,
   "id": "d821b5d5-2fa7-492a-bd3b-f7f181d002d2",
   "metadata": {
    "scrolled": true
   },
   "outputs": [
    {
     "data": {
      "text/plain": [
       "array([-2.56817731e-02,  4.18193672e-02,  9.98839433e-03,  6.54797630e-05,\n",
       "        2.16402490e-03, -2.84236218e-03, -7.80040626e-03, -7.79458220e-04,\n",
       "        6.23871345e-03,  5.40563035e-03,  2.17198329e-03,  3.37880128e-04,\n",
       "       -5.97191006e-04, -9.69804839e-04,  5.85265309e-04,  1.21450536e-03,\n",
       "       -3.11999986e-03, -3.44376894e-03,  5.46327227e-03,  7.97039341e-03,\n",
       "        6.71671362e-03,  5.06742930e-03,  2.17408058e-03, -1.35648329e-03,\n",
       "       -4.15770949e-03, -6.98711656e-03, -9.16070289e-03, -1.06326176e-02,\n",
       "       -1.12655234e-02, -1.12312231e-02, -1.09699861e-02, -1.07240824e-02,\n",
       "       -1.05749213e-02, -1.01690826e-02, -9.24284257e-03, -7.57338261e-03,\n",
       "       -5.09230842e-03, -2.87782532e-03, -1.14609395e-03,  4.11092162e-04,\n",
       "        1.60435950e-03,  2.65040335e-03,  3.15641661e-03,  3.28444663e-03,\n",
       "        3.01585356e-03,  2.99826758e-03,  4.39359316e-03,  7.46977212e-03,\n",
       "        1.22814718e-02,  1.88928090e-02,  2.60559371e-02,  3.35944514e-02,\n",
       "        4.12411248e-02,  4.88343671e-02,  5.67487132e-02,  6.51114215e-02,\n",
       "        7.47277782e-02,  8.88449405e-02,  1.20719304e-01,  1.85125602e-01,\n",
       "        5.36977026e-12,  1.02779206e-11,  8.50365391e-12, -1.20511031e-11,\n",
       "       -1.57830293e-11, -1.08190643e-11, -2.00207706e-12,  2.25097865e-11,\n",
       "        4.64548836e-11,  7.66090327e-11,  6.54982755e-11,  5.61728847e-11,\n",
       "        2.24260756e-10,  3.84834108e-10,  4.03975706e-10, -5.93224029e-10,\n",
       "       -3.27898171e-09, -2.13204211e-09, -2.08103868e-09, -8.87269848e-09,\n",
       "       -2.41279802e-08, -4.87383209e-08, -8.75624045e-08, -1.51525816e-07,\n",
       "       -2.50080905e-07, -3.30640824e-07, -3.38508492e-07, -2.98783237e-07,\n",
       "       -2.30130482e-07, -1.62281987e-07, -1.34498812e-07, -9.98691509e-08,\n",
       "       -1.77027016e-07, -3.07972246e-07, -2.31624055e-07, -8.58392404e-08,\n",
       "       -3.89670509e-08, -8.43145370e-08, -2.08847955e-07, -2.79557826e-07,\n",
       "       -1.49350141e-07,  1.89083789e-07,  9.16658516e-07,  2.64990071e-06,\n",
       "        5.28319524e-06,  8.27728910e-06,  1.10829810e-05,  1.31083111e-05,\n",
       "        1.31326583e-05,  1.09413831e-05,  7.94733818e-06,  4.22025580e-06,\n",
       "       -2.83179103e-07, -4.92688329e-06, -9.17105701e-06, -1.20241559e-05,\n",
       "       -1.29386802e-05, -1.23496001e-05, -1.75275400e-05, -2.49710149e-05,\n",
       "       -1.52680283e-01,  1.53722941e+00,  7.25734637e-01,  1.05972532e+01])"
      ]
     },
     "execution_count": 75,
     "metadata": {},
     "output_type": "execute_result"
    }
   ],
   "source": [
    "(x_avg -x_norm_v1)"
   ]
  },
  {
   "cell_type": "code",
   "execution_count": 69,
   "id": "91bf2391-6d18-49e5-b741-d821ff6c41eb",
   "metadata": {},
   "outputs": [
    {
     "data": {
      "text/plain": [
       "<matplotlib.collections.PathCollection at 0x7cdea7358810>"
      ]
     },
     "execution_count": 69,
     "metadata": {},
     "output_type": "execute_result"
    },
    {
     "data": {
      "image/png": "[encoded data removed]",
      "text/plain": [
       "<Figure size 640x480 with 1 Axes>"
      ]
     },
     "metadata": {},
     "output_type": "display_data"
    }
   ],
   "source": [
    "plt.scatter(np.arange(60), x_norm_v1[:60])\n",
    "plt.scatter(np.arange(60), x_avg[:60])"
   ]
  },
  {
   "cell_type": "code",
   "execution_count": 45,
   "id": "faa1cbe5-8220-4d5f-a5a7-0575be4df894",
   "metadata": {},
   "outputs": [],
   "source": [
    "output_scaling = xr.open_dataset(\"Climsim_info/output_scale.nc\")\n",
    "\n",
    "oscaling  = output_scaling[dutils.v1_outputs].to_stacked_array('mlvar', sample_dims='').values"
   ]
  },
  {
   "cell_type": "code",
   "execution_count": 52,
   "id": "ce58da2b-6f86-4abe-bb1a-115ebc28f25e",
   "metadata": {},
   "outputs": [
    {
     "name": "stderr",
     "output_type": "stream",
     "text": [
      "/tmp/ipykernel_626/3185387537.py:2: RuntimeWarning: divide by zero encountered in divide\n",
      "  y_scale_test = 1./ y_avg\n"
     ]
    }
   ],
   "source": [
    "y_avg = y_npy.mean(axis=0)\n",
    "y_scale_test = 1./ y_avg"
   ]
  },
  {
   "cell_type": "code",
   "execution_count": 54,
   "id": "90e711ff-f4f4-4ef9-b0cc-aee3f8ae8828",
   "metadata": {},
   "outputs": [
    {
     "data": {
      "text/plain": [
       "array([ 1.19014050e-05, -1.13608688e-05, -5.22001272e-06, -1.83795208e-06,\n",
       "       -1.83506310e-06,  7.04202705e-07,  1.36045056e-06,  8.66873477e-07,\n",
       "        1.65614915e-08, -9.96006355e-08,  3.42032446e-07,  5.19593379e-07,\n",
       "        6.27532105e-07,  6.53872793e-07,  7.57789509e-07,  1.05315910e-06,\n",
       "        1.64673863e-06,  1.35920795e-06,  6.38992441e-07, -5.41416933e-07,\n",
       "       -6.43335666e-09, -2.26299367e-06, -3.69347862e-06, -5.13319715e-06,\n",
       "       -6.32380659e-06, -6.27994870e-06, -5.32568580e-06, -4.25518677e-06,\n",
       "       -3.33941632e-06, -2.52159343e-06, -1.73624515e-06, -1.34164169e-06,\n",
       "       -6.12715034e-07,  1.00480138e-07,  6.40130091e-07,  8.57316853e-07,\n",
       "        1.44235977e-06,  1.70224506e-06,  1.48805081e-06,  1.39098697e-06,\n",
       "        1.65367745e-06,  2.02146425e-06,  1.71443179e-06,  1.11403501e-06,\n",
       "        1.36902466e-06,  1.54391288e-06,  2.10816170e-06,  3.53536307e-06,\n",
       "        4.23332185e-06,  5.19102267e-06,  4.95795627e-06,  6.65066905e-06,\n",
       "        7.07406187e-06,  7.04704319e-06,  6.81361971e-06,  5.02744653e-06,\n",
       "        1.74850084e-06, -6.08895689e-06, -2.34674258e-05, -6.52816062e-05,\n",
       "        0.00000000e+00,  3.42487805e-17, -1.92951478e-17,  0.00000000e+00,\n",
       "        0.00000000e+00,  0.00000000e+00,  0.00000000e+00,  0.00000000e+00,\n",
       "        0.00000000e+00,  0.00000000e+00,  0.00000000e+00,  0.00000000e+00,\n",
       "        5.59569980e-15,  2.09903960e-14,  1.41260954e-14, -9.69391132e-14,\n",
       "       -2.23783097e-14,  5.66304744e-14,  2.98244264e-13, -9.11695042e-13,\n",
       "       -3.83877632e-12, -1.99715229e-11, -6.65907504e-11, -1.70433851e-10,\n",
       "       -3.37685259e-10, -6.36127252e-10, -1.07322817e-09, -1.48183615e-09,\n",
       "       -1.83294524e-09, -2.12384513e-09, -2.45151331e-09, -2.65861722e-09,\n",
       "       -2.64534082e-09, -2.75214343e-09, -2.59479823e-09, -2.48037384e-09,\n",
       "       -2.56272552e-09, -2.82092805e-09, -2.44316448e-09, -1.54777673e-09,\n",
       "       -1.05937455e-09, -1.45883524e-09, -8.69851768e-10,  3.92377600e-10,\n",
       "        9.43932088e-10,  1.27358610e-09,  9.37327622e-10,  4.74519163e-10,\n",
       "       -8.52002995e-10, -1.52038732e-09, -2.99015730e-09, -5.80841850e-09,\n",
       "       -1.00458565e-08, -1.39628847e-08, -1.83768276e-08, -2.10812176e-08,\n",
       "       -2.23136238e-08, -2.01179169e-08, -1.85398054e-08, -1.41801332e-08,\n",
       "        1.63811935e+02,  3.43382784e+02,  3.32944432e-09,  3.05634114e-08,\n",
       "        6.55184533e+01,  7.15886505e+01,  3.40760017e+01,  1.80094840e+01])"
      ]
     },
     "execution_count": 54,
     "metadata": {},
     "output_type": "execute_result"
    }
   ],
   "source": [
    "y_avg"
   ]
  },
  {
   "cell_type": "code",
   "execution_count": 53,
   "id": "e6260b40-70b2-4fc7-aaad-09aa41c1b405",
   "metadata": {
    "scrolled": true
   },
   "outputs": [
    {
     "data": {
      "text/plain": [
       "array([ 8.40236928e+04, -8.80214374e+04, -1.91570414e+05, -5.44083826e+05,\n",
       "       -5.44940390e+05,  1.42004567e+06,  7.35050598e+05,  1.15357088e+06,\n",
       "        6.03810352e+07, -1.00400966e+07,  2.92369923e+06,  1.92458187e+06,\n",
       "        1.59354397e+06,  1.52934945e+06,  1.31962767e+06,  9.49524147e+05,\n",
       "        6.07260911e+05,  7.35722592e+05,  1.56496374e+06, -1.84700540e+06,\n",
       "       -1.55439851e+08, -4.41892530e+05, -2.70747472e+05, -1.94810363e+05,\n",
       "       -1.58132604e+05, -1.59236969e+05, -1.87769245e+05, -2.35007311e+05,\n",
       "       -2.99453528e+05, -3.96574637e+05, -5.75955532e+05, -7.45355490e+05,\n",
       "       -1.63208008e+06,  9.95221566e+06,  1.56218246e+06,  1.16642989e+06,\n",
       "        6.93308299e+05,  5.87459482e+05,  6.72020063e+05,  7.18913996e+05,\n",
       "        6.04712847e+05,  4.94690916e+05,  5.83283632e+05,  8.97637854e+05,\n",
       "        7.30447030e+05,  6.47704940e+05,  4.74346915e+05,  2.82856380e+05,\n",
       "        2.36221113e+05,  1.92640268e+05,  2.01696010e+05,  1.50360812e+05,\n",
       "        1.41361500e+05,  1.41903487e+05,  1.46764868e+05,  1.98908133e+05,\n",
       "        5.71918514e+05, -1.64231743e+05, -4.26122580e+04, -1.53182505e+04,\n",
       "                   inf,  2.91981199e+16, -5.18265012e+16,             inf,\n",
       "                   inf,             inf,             inf,             inf,\n",
       "                   inf,             inf,             inf,             inf,\n",
       "        1.78708658e+14,  4.76408353e+13,  7.07909705e+13, -1.03157535e+13,\n",
       "       -4.46861275e+13,  1.76583370e+13,  3.35295636e+12, -1.09685800e+12,\n",
       "       -2.60499679e+11, -5.00712943e+10, -1.50171006e+10, -5.86737900e+09,\n",
       "       -2.96133744e+09, -1.57201251e+09, -9.31768316e+08, -6.74838445e+08,\n",
       "       -5.45570036e+08, -4.70844125e+08, -4.07911308e+08, -3.76135381e+08,\n",
       "       -3.78023123e+08, -3.63353156e+08, -3.85386420e+08, -4.03165033e+08,\n",
       "       -3.90209562e+08, -3.54493267e+08, -4.09305229e+08, -6.46088020e+08,\n",
       "       -9.43953201e+08, -6.85478371e+08, -1.14962116e+09,  2.54856546e+09,\n",
       "        1.05939825e+09,  7.85184449e+08,  1.06686283e+09,  2.10739645e+09,\n",
       "       -1.17370479e+09, -6.57727136e+08, -3.34430567e+08, -1.72163903e+08,\n",
       "       -9.95435282e+07, -7.16184384e+07, -5.44163563e+07, -4.74355902e+07,\n",
       "       -4.48156699e+07, -4.97069357e+07, -5.39379988e+07, -7.05211995e+07,\n",
       "        6.10456131e-03,  2.91220191e-03,  3.00350420e+08,  3.27188606e+07,\n",
       "        1.52628756e-02,  1.39686947e-02,  2.93461660e-02,  5.55262993e-02])"
      ]
     },
     "execution_count": 53,
     "metadata": {},
     "output_type": "execute_result"
    }
   ],
   "source": [
    "y_scale_test"
   ]
  },
  {
   "cell_type": "code",
   "execution_count": 56,
   "id": "be3949d3-6d80-44e1-9074-b804ead8cba9",
   "metadata": {
    "scrolled": true
   },
   "outputs": [
    {
     "data": {
      "text/plain": [
       "[<matplotlib.lines.Line2D at 0x7cdee9f35a90>]"
      ]
     },
     "execution_count": 56,
     "metadata": {},
     "output_type": "execute_result"
    },
    {
     "data": {
      "image/png": "[encoded data removed]",
      "text/plain": [
       "<Figure size 640x480 with 1 Axes>"
      ]
     },
     "metadata": {},
     "output_type": "display_data"
    }
   ],
   "source": [
    "plt.plot(np.arange(60), oscaling[60:120])\n",
    "#plt.plot(np.arange(60), y_scale_test[60:120])"
   ]
  },
  {
   "cell_type": "code",
   "execution_count": 33,
   "id": "d2ab9c48-e024-4983-b1e2-ccc211c01c16",
   "metadata": {},
   "outputs": [
    {
     "data": {
      "text/plain": [
       "ValuesView(<xarray.Dataset> Size: 1kB\n",
       "Dimensions:         (lev: 60)\n",
       "Dimensions without coordinates: lev\n",
       "Data variables:\n",
       "    ptend_t         (lev) float64 480B ...\n",
       "    ptend_q0001     (lev) float64 480B ...\n",
       "    cam_out_NETSW   float64 8B ...\n",
       "    cam_out_FLWDS   float64 8B ...\n",
       "    cam_out_PRECSC  float64 8B ...\n",
       "    cam_out_PRECC   float64 8B ...\n",
       "    cam_out_SOLS    float64 8B ...\n",
       "    cam_out_SOLL    float64 8B ...\n",
       "    cam_out_SOLSD   float64 8B ...\n",
       "    cam_out_SOLLD   float64 8B ...)"
      ]
     },
     "execution_count": 33,
     "metadata": {},
     "output_type": "execute_result"
    }
   ],
   "source": [
    "oscaling.values()"
   ]
  },
  {
   "cell_type": "markdown",
   "id": "8acf1086-477d-4e19-a841-8fac3525bd49",
   "metadata": {},
   "source": [
    "# Evaluating\n",
    "\n",
    "Ok so we have a diffusion model... is it any good?"
   ]
  },
  {
   "cell_type": "code",
   "execution_count": 10,
   "id": "42ba43ba-7457-49d9-a5b5-6a73bad86e05",
   "metadata": {},
   "outputs": [],
   "source": [
    "pipeline = diffusers.DDIMPipeline(ddpm, scheduler)"
   ]
  },
  {
   "cell_type": "markdown",
   "id": "247fa469-6513-4a8c-9a7a-9dfe56b580c1",
   "metadata": {},
   "source": [
    "[Check Pipeline Source Code](https://github.com/huggingface/diffusers/blob/main/src/diffusers/pipelines/ddim/pipeline_ddim.py)"
   ]
  },
  {
   "cell_type": "code",
   "execution_count": 11,
   "id": "d3729018-7941-4a10-80ac-36427ac198c5",
   "metadata": {},
   "outputs": [],
   "source": [
    "# generate images\n",
    "\n",
    "class SampleImages(torch.utils.data.IterableDataset):\n",
    "    def __init__(self, pipeline, steps, batch_size=1, eta=1.0):\n",
    "        self.pipeline = pipeline.to(device)\n",
    "        self.steps = steps\n",
    "        self.batch_size = batch_size\n",
    "        self.eta = 1.0\n",
    "        self.image_shape = (batch_size, pipeline.unet.config.in_channels, *pipeline.unet.config.sample_size)\n",
    "        \n",
    "    def __iter__(self):\n",
    "        # generate a batch of images\n",
    "        scheduler = self.pipeline.scheduler\n",
    "        while(True): # can generate infinite batches      \n",
    "            image = torch.randn(self.image_shape).to(device)\n",
    "            scheduler.set_timesteps(self.steps)\n",
    "            for t in self.pipeline.progress_bar(scheduler.timesteps):\n",
    "                model_output = self.pipeline.unet(image, t).sample\n",
    "                image = scheduler.step(model_output, t, image, eta=self.eta).prev_sample\n",
    "            yield(image)\n"
   ]
  },
  {
   "cell_type": "code",
   "execution_count": 12,
   "id": "e851d548-1fc5-4757-b69d-cb36b036c619",
   "metadata": {},
   "outputs": [],
   "source": [
    "model_loader = iter(SampleImages(pipeline, steps=50, batch_size=32, eta=0))"
   ]
  },
  {
   "cell_type": "code",
   "execution_count": 55,
   "id": "5b5cb50b-cdcc-4083-973a-4e681805ba19",
   "metadata": {},
   "outputs": [
    {
     "data": {
      "text/plain": [
       "torch.Size([32, 128, 16, 24])"
      ]
     },
     "execution_count": 55,
     "metadata": {},
     "output_type": "execute_result"
    }
   ],
   "source": [
    "train_ds.log = False\n",
    "train_ds[0].shape"
   ]
  },
  {
   "cell_type": "code",
   "execution_count": 13,
   "id": "62654650-b8c8-44d2-93ba-e57be3cfdcf0",
   "metadata": {},
   "outputs": [
    {
     "data": {
      "application/vnd.jupyter.widget-view+json": {
       "model_id": "7ca8c5a69f0a4d7db33973c66d713d2a",
       "version_major": 2,
       "version_minor": 0
      },
      "text/plain": [
       "  0%|          | 0/50 [00:00<?, ?it/s]"
      ]
     },
     "metadata": {},
     "output_type": "display_data"
    },
    {
     "ename": "OutOfMemoryError",
     "evalue": "CUDA out of memory. Tried to allocate 20.00 MiB. GPU ",
     "output_type": "error",
     "traceback": [
      "\u001b[0;31m---------------------------------------------------------------------------\u001b[0m",
      "\u001b[0;31mOutOfMemoryError\u001b[0m                          Traceback (most recent call last)",
      "Cell \u001b[0;32mIn[13], line 1\u001b[0m\n\u001b[0;32m----> 1\u001b[0m images \u001b[38;5;241m=\u001b[39m \u001b[38;5;28;43mnext\u001b[39;49m\u001b[43m(\u001b[49m\u001b[43m(\u001b[49m\u001b[43mmodel_loader\u001b[49m\u001b[43m)\u001b[49m\u001b[43m)\u001b[49m\n",
      "Cell \u001b[0;32mIn[11], line 18\u001b[0m, in \u001b[0;36mSampleImages.__iter__\u001b[0;34m(self)\u001b[0m\n\u001b[1;32m     16\u001b[0m scheduler\u001b[38;5;241m.\u001b[39mset_timesteps(\u001b[38;5;28mself\u001b[39m\u001b[38;5;241m.\u001b[39msteps)\n\u001b[1;32m     17\u001b[0m \u001b[38;5;28;01mfor\u001b[39;00m t \u001b[38;5;129;01min\u001b[39;00m \u001b[38;5;28mself\u001b[39m\u001b[38;5;241m.\u001b[39mpipeline\u001b[38;5;241m.\u001b[39mprogress_bar(scheduler\u001b[38;5;241m.\u001b[39mtimesteps):\n\u001b[0;32m---> 18\u001b[0m     model_output \u001b[38;5;241m=\u001b[39m \u001b[38;5;28;43mself\u001b[39;49m\u001b[38;5;241;43m.\u001b[39;49m\u001b[43mpipeline\u001b[49m\u001b[38;5;241;43m.\u001b[39;49m\u001b[43munet\u001b[49m\u001b[43m(\u001b[49m\u001b[43mimage\u001b[49m\u001b[43m,\u001b[49m\u001b[43m \u001b[49m\u001b[43mt\u001b[49m\u001b[43m)\u001b[49m\u001b[38;5;241m.\u001b[39msample\n\u001b[1;32m     19\u001b[0m     image \u001b[38;5;241m=\u001b[39m scheduler\u001b[38;5;241m.\u001b[39mstep(model_output, t, image, eta\u001b[38;5;241m=\u001b[39m\u001b[38;5;28mself\u001b[39m\u001b[38;5;241m.\u001b[39meta)\u001b[38;5;241m.\u001b[39mprev_sample\n\u001b[1;32m     20\u001b[0m \u001b[38;5;28;01myield\u001b[39;00m(image)\n",
      "File \u001b[0;32m/srv/conda/envs/notebook/lib/python3.12/site-packages/torch/nn/modules/module.py:1532\u001b[0m, in \u001b[0;36mModule._wrapped_call_impl\u001b[0;34m(self, *args, **kwargs)\u001b[0m\n\u001b[1;32m   1530\u001b[0m     \u001b[38;5;28;01mreturn\u001b[39;00m \u001b[38;5;28mself\u001b[39m\u001b[38;5;241m.\u001b[39m_compiled_call_impl(\u001b[38;5;241m*\u001b[39margs, \u001b[38;5;241m*\u001b[39m\u001b[38;5;241m*\u001b[39mkwargs)  \u001b[38;5;66;03m# type: ignore[misc]\u001b[39;00m\n\u001b[1;32m   1531\u001b[0m \u001b[38;5;28;01melse\u001b[39;00m:\n\u001b[0;32m-> 1532\u001b[0m     \u001b[38;5;28;01mreturn\u001b[39;00m \u001b[38;5;28;43mself\u001b[39;49m\u001b[38;5;241;43m.\u001b[39;49m\u001b[43m_call_impl\u001b[49m\u001b[43m(\u001b[49m\u001b[38;5;241;43m*\u001b[39;49m\u001b[43margs\u001b[49m\u001b[43m,\u001b[49m\u001b[43m \u001b[49m\u001b[38;5;241;43m*\u001b[39;49m\u001b[38;5;241;43m*\u001b[39;49m\u001b[43mkwargs\u001b[49m\u001b[43m)\u001b[49m\n",
      "File \u001b[0;32m/srv/conda/envs/notebook/lib/python3.12/site-packages/torch/nn/modules/module.py:1541\u001b[0m, in \u001b[0;36mModule._call_impl\u001b[0;34m(self, *args, **kwargs)\u001b[0m\n\u001b[1;32m   1536\u001b[0m \u001b[38;5;66;03m# If we don't have any hooks, we want to skip the rest of the logic in\u001b[39;00m\n\u001b[1;32m   1537\u001b[0m \u001b[38;5;66;03m# this function, and just call forward.\u001b[39;00m\n\u001b[1;32m   1538\u001b[0m \u001b[38;5;28;01mif\u001b[39;00m \u001b[38;5;129;01mnot\u001b[39;00m (\u001b[38;5;28mself\u001b[39m\u001b[38;5;241m.\u001b[39m_backward_hooks \u001b[38;5;129;01mor\u001b[39;00m \u001b[38;5;28mself\u001b[39m\u001b[38;5;241m.\u001b[39m_backward_pre_hooks \u001b[38;5;129;01mor\u001b[39;00m \u001b[38;5;28mself\u001b[39m\u001b[38;5;241m.\u001b[39m_forward_hooks \u001b[38;5;129;01mor\u001b[39;00m \u001b[38;5;28mself\u001b[39m\u001b[38;5;241m.\u001b[39m_forward_pre_hooks\n\u001b[1;32m   1539\u001b[0m         \u001b[38;5;129;01mor\u001b[39;00m _global_backward_pre_hooks \u001b[38;5;129;01mor\u001b[39;00m _global_backward_hooks\n\u001b[1;32m   1540\u001b[0m         \u001b[38;5;129;01mor\u001b[39;00m _global_forward_hooks \u001b[38;5;129;01mor\u001b[39;00m _global_forward_pre_hooks):\n\u001b[0;32m-> 1541\u001b[0m     \u001b[38;5;28;01mreturn\u001b[39;00m \u001b[43mforward_call\u001b[49m\u001b[43m(\u001b[49m\u001b[38;5;241;43m*\u001b[39;49m\u001b[43margs\u001b[49m\u001b[43m,\u001b[49m\u001b[43m \u001b[49m\u001b[38;5;241;43m*\u001b[39;49m\u001b[38;5;241;43m*\u001b[39;49m\u001b[43mkwargs\u001b[49m\u001b[43m)\u001b[49m\n\u001b[1;32m   1543\u001b[0m \u001b[38;5;28;01mtry\u001b[39;00m:\n\u001b[1;32m   1544\u001b[0m     result \u001b[38;5;241m=\u001b[39m \u001b[38;5;28;01mNone\u001b[39;00m\n",
      "File \u001b[0;32m/srv/conda/envs/notebook/lib/python3.12/site-packages/diffusers/models/unets/unet_2d.py:329\u001b[0m, in \u001b[0;36mUNet2DModel.forward\u001b[0;34m(self, sample, timestep, class_labels, return_dict)\u001b[0m\n\u001b[1;32m    327\u001b[0m         sample, skip_sample \u001b[38;5;241m=\u001b[39m upsample_block(sample, res_samples, emb, skip_sample)\n\u001b[1;32m    328\u001b[0m     \u001b[38;5;28;01melse\u001b[39;00m:\n\u001b[0;32m--> 329\u001b[0m         sample \u001b[38;5;241m=\u001b[39m \u001b[43mupsample_block\u001b[49m\u001b[43m(\u001b[49m\u001b[43msample\u001b[49m\u001b[43m,\u001b[49m\u001b[43m \u001b[49m\u001b[43mres_samples\u001b[49m\u001b[43m,\u001b[49m\u001b[43m \u001b[49m\u001b[43memb\u001b[49m\u001b[43m)\u001b[49m\n\u001b[1;32m    331\u001b[0m \u001b[38;5;66;03m# 6. post-process\u001b[39;00m\n\u001b[1;32m    332\u001b[0m sample \u001b[38;5;241m=\u001b[39m \u001b[38;5;28mself\u001b[39m\u001b[38;5;241m.\u001b[39mconv_norm_out(sample)\n",
      "File \u001b[0;32m/srv/conda/envs/notebook/lib/python3.12/site-packages/torch/nn/modules/module.py:1532\u001b[0m, in \u001b[0;36mModule._wrapped_call_impl\u001b[0;34m(self, *args, **kwargs)\u001b[0m\n\u001b[1;32m   1530\u001b[0m     \u001b[38;5;28;01mreturn\u001b[39;00m \u001b[38;5;28mself\u001b[39m\u001b[38;5;241m.\u001b[39m_compiled_call_impl(\u001b[38;5;241m*\u001b[39margs, \u001b[38;5;241m*\u001b[39m\u001b[38;5;241m*\u001b[39mkwargs)  \u001b[38;5;66;03m# type: ignore[misc]\u001b[39;00m\n\u001b[1;32m   1531\u001b[0m \u001b[38;5;28;01melse\u001b[39;00m:\n\u001b[0;32m-> 1532\u001b[0m     \u001b[38;5;28;01mreturn\u001b[39;00m \u001b[38;5;28;43mself\u001b[39;49m\u001b[38;5;241;43m.\u001b[39;49m\u001b[43m_call_impl\u001b[49m\u001b[43m(\u001b[49m\u001b[38;5;241;43m*\u001b[39;49m\u001b[43margs\u001b[49m\u001b[43m,\u001b[49m\u001b[43m \u001b[49m\u001b[38;5;241;43m*\u001b[39;49m\u001b[38;5;241;43m*\u001b[39;49m\u001b[43mkwargs\u001b[49m\u001b[43m)\u001b[49m\n",
      "File \u001b[0;32m/srv/conda/envs/notebook/lib/python3.12/site-packages/torch/nn/modules/module.py:1541\u001b[0m, in \u001b[0;36mModule._call_impl\u001b[0;34m(self, *args, **kwargs)\u001b[0m\n\u001b[1;32m   1536\u001b[0m \u001b[38;5;66;03m# If we don't have any hooks, we want to skip the rest of the logic in\u001b[39;00m\n\u001b[1;32m   1537\u001b[0m \u001b[38;5;66;03m# this function, and just call forward.\u001b[39;00m\n\u001b[1;32m   1538\u001b[0m \u001b[38;5;28;01mif\u001b[39;00m \u001b[38;5;129;01mnot\u001b[39;00m (\u001b[38;5;28mself\u001b[39m\u001b[38;5;241m.\u001b[39m_backward_hooks \u001b[38;5;129;01mor\u001b[39;00m \u001b[38;5;28mself\u001b[39m\u001b[38;5;241m.\u001b[39m_backward_pre_hooks \u001b[38;5;129;01mor\u001b[39;00m \u001b[38;5;28mself\u001b[39m\u001b[38;5;241m.\u001b[39m_forward_hooks \u001b[38;5;129;01mor\u001b[39;00m \u001b[38;5;28mself\u001b[39m\u001b[38;5;241m.\u001b[39m_forward_pre_hooks\n\u001b[1;32m   1539\u001b[0m         \u001b[38;5;129;01mor\u001b[39;00m _global_backward_pre_hooks \u001b[38;5;129;01mor\u001b[39;00m _global_backward_hooks\n\u001b[1;32m   1540\u001b[0m         \u001b[38;5;129;01mor\u001b[39;00m _global_forward_hooks \u001b[38;5;129;01mor\u001b[39;00m _global_forward_pre_hooks):\n\u001b[0;32m-> 1541\u001b[0m     \u001b[38;5;28;01mreturn\u001b[39;00m \u001b[43mforward_call\u001b[49m\u001b[43m(\u001b[49m\u001b[38;5;241;43m*\u001b[39;49m\u001b[43margs\u001b[49m\u001b[43m,\u001b[49m\u001b[43m \u001b[49m\u001b[38;5;241;43m*\u001b[39;49m\u001b[38;5;241;43m*\u001b[39;49m\u001b[43mkwargs\u001b[49m\u001b[43m)\u001b[49m\n\u001b[1;32m   1543\u001b[0m \u001b[38;5;28;01mtry\u001b[39;00m:\n\u001b[1;32m   1544\u001b[0m     result \u001b[38;5;241m=\u001b[39m \u001b[38;5;28;01mNone\u001b[39;00m\n",
      "File \u001b[0;32m/srv/conda/envs/notebook/lib/python3.12/site-packages/diffusers/models/unets/unet_2d_blocks.py:2673\u001b[0m, in \u001b[0;36mUpBlock2D.forward\u001b[0;34m(self, hidden_states, res_hidden_states_tuple, temb, upsample_size, *args, **kwargs)\u001b[0m\n\u001b[1;32m   2669\u001b[0m             hidden_states \u001b[38;5;241m=\u001b[39m torch\u001b[38;5;241m.\u001b[39mutils\u001b[38;5;241m.\u001b[39mcheckpoint\u001b[38;5;241m.\u001b[39mcheckpoint(\n\u001b[1;32m   2670\u001b[0m                 create_custom_forward(resnet), hidden_states, temb\n\u001b[1;32m   2671\u001b[0m             )\n\u001b[1;32m   2672\u001b[0m     \u001b[38;5;28;01melse\u001b[39;00m:\n\u001b[0;32m-> 2673\u001b[0m         hidden_states \u001b[38;5;241m=\u001b[39m \u001b[43mresnet\u001b[49m\u001b[43m(\u001b[49m\u001b[43mhidden_states\u001b[49m\u001b[43m,\u001b[49m\u001b[43m \u001b[49m\u001b[43mtemb\u001b[49m\u001b[43m)\u001b[49m\n\u001b[1;32m   2675\u001b[0m \u001b[38;5;28;01mif\u001b[39;00m \u001b[38;5;28mself\u001b[39m\u001b[38;5;241m.\u001b[39mupsamplers \u001b[38;5;129;01mis\u001b[39;00m \u001b[38;5;129;01mnot\u001b[39;00m \u001b[38;5;28;01mNone\u001b[39;00m:\n\u001b[1;32m   2676\u001b[0m     \u001b[38;5;28;01mfor\u001b[39;00m upsampler \u001b[38;5;129;01min\u001b[39;00m \u001b[38;5;28mself\u001b[39m\u001b[38;5;241m.\u001b[39mupsamplers:\n",
      "File \u001b[0;32m/srv/conda/envs/notebook/lib/python3.12/site-packages/torch/nn/modules/module.py:1532\u001b[0m, in \u001b[0;36mModule._wrapped_call_impl\u001b[0;34m(self, *args, **kwargs)\u001b[0m\n\u001b[1;32m   1530\u001b[0m     \u001b[38;5;28;01mreturn\u001b[39;00m \u001b[38;5;28mself\u001b[39m\u001b[38;5;241m.\u001b[39m_compiled_call_impl(\u001b[38;5;241m*\u001b[39margs, \u001b[38;5;241m*\u001b[39m\u001b[38;5;241m*\u001b[39mkwargs)  \u001b[38;5;66;03m# type: ignore[misc]\u001b[39;00m\n\u001b[1;32m   1531\u001b[0m \u001b[38;5;28;01melse\u001b[39;00m:\n\u001b[0;32m-> 1532\u001b[0m     \u001b[38;5;28;01mreturn\u001b[39;00m \u001b[38;5;28;43mself\u001b[39;49m\u001b[38;5;241;43m.\u001b[39;49m\u001b[43m_call_impl\u001b[49m\u001b[43m(\u001b[49m\u001b[38;5;241;43m*\u001b[39;49m\u001b[43margs\u001b[49m\u001b[43m,\u001b[49m\u001b[43m \u001b[49m\u001b[38;5;241;43m*\u001b[39;49m\u001b[38;5;241;43m*\u001b[39;49m\u001b[43mkwargs\u001b[49m\u001b[43m)\u001b[49m\n",
      "File \u001b[0;32m/srv/conda/envs/notebook/lib/python3.12/site-packages/torch/nn/modules/module.py:1541\u001b[0m, in \u001b[0;36mModule._call_impl\u001b[0;34m(self, *args, **kwargs)\u001b[0m\n\u001b[1;32m   1536\u001b[0m \u001b[38;5;66;03m# If we don't have any hooks, we want to skip the rest of the logic in\u001b[39;00m\n\u001b[1;32m   1537\u001b[0m \u001b[38;5;66;03m# this function, and just call forward.\u001b[39;00m\n\u001b[1;32m   1538\u001b[0m \u001b[38;5;28;01mif\u001b[39;00m \u001b[38;5;129;01mnot\u001b[39;00m (\u001b[38;5;28mself\u001b[39m\u001b[38;5;241m.\u001b[39m_backward_hooks \u001b[38;5;129;01mor\u001b[39;00m \u001b[38;5;28mself\u001b[39m\u001b[38;5;241m.\u001b[39m_backward_pre_hooks \u001b[38;5;129;01mor\u001b[39;00m \u001b[38;5;28mself\u001b[39m\u001b[38;5;241m.\u001b[39m_forward_hooks \u001b[38;5;129;01mor\u001b[39;00m \u001b[38;5;28mself\u001b[39m\u001b[38;5;241m.\u001b[39m_forward_pre_hooks\n\u001b[1;32m   1539\u001b[0m         \u001b[38;5;129;01mor\u001b[39;00m _global_backward_pre_hooks \u001b[38;5;129;01mor\u001b[39;00m _global_backward_hooks\n\u001b[1;32m   1540\u001b[0m         \u001b[38;5;129;01mor\u001b[39;00m _global_forward_hooks \u001b[38;5;129;01mor\u001b[39;00m _global_forward_pre_hooks):\n\u001b[0;32m-> 1541\u001b[0m     \u001b[38;5;28;01mreturn\u001b[39;00m \u001b[43mforward_call\u001b[49m\u001b[43m(\u001b[49m\u001b[38;5;241;43m*\u001b[39;49m\u001b[43margs\u001b[49m\u001b[43m,\u001b[49m\u001b[43m \u001b[49m\u001b[38;5;241;43m*\u001b[39;49m\u001b[38;5;241;43m*\u001b[39;49m\u001b[43mkwargs\u001b[49m\u001b[43m)\u001b[49m\n\u001b[1;32m   1543\u001b[0m \u001b[38;5;28;01mtry\u001b[39;00m:\n\u001b[1;32m   1544\u001b[0m     result \u001b[38;5;241m=\u001b[39m \u001b[38;5;28;01mNone\u001b[39;00m\n",
      "File \u001b[0;32m/srv/conda/envs/notebook/lib/python3.12/site-packages/diffusers/models/resnet.py:328\u001b[0m, in \u001b[0;36mResnetBlock2D.forward\u001b[0;34m(self, input_tensor, temb, *args, **kwargs)\u001b[0m\n\u001b[1;32m    325\u001b[0m hidden_states \u001b[38;5;241m=\u001b[39m input_tensor\n\u001b[1;32m    327\u001b[0m hidden_states \u001b[38;5;241m=\u001b[39m \u001b[38;5;28mself\u001b[39m\u001b[38;5;241m.\u001b[39mnorm1(hidden_states)\n\u001b[0;32m--> 328\u001b[0m hidden_states \u001b[38;5;241m=\u001b[39m \u001b[38;5;28;43mself\u001b[39;49m\u001b[38;5;241;43m.\u001b[39;49m\u001b[43mnonlinearity\u001b[49m\u001b[43m(\u001b[49m\u001b[43mhidden_states\u001b[49m\u001b[43m)\u001b[49m\n\u001b[1;32m    330\u001b[0m \u001b[38;5;28;01mif\u001b[39;00m \u001b[38;5;28mself\u001b[39m\u001b[38;5;241m.\u001b[39mupsample \u001b[38;5;129;01mis\u001b[39;00m \u001b[38;5;129;01mnot\u001b[39;00m \u001b[38;5;28;01mNone\u001b[39;00m:\n\u001b[1;32m    331\u001b[0m     \u001b[38;5;66;03m# upsample_nearest_nhwc fails with large batch sizes. see https://github.com/huggingface/diffusers/issues/984\u001b[39;00m\n\u001b[1;32m    332\u001b[0m     \u001b[38;5;28;01mif\u001b[39;00m hidden_states\u001b[38;5;241m.\u001b[39mshape[\u001b[38;5;241m0\u001b[39m] \u001b[38;5;241m>\u001b[39m\u001b[38;5;241m=\u001b[39m \u001b[38;5;241m64\u001b[39m:\n",
      "File \u001b[0;32m/srv/conda/envs/notebook/lib/python3.12/site-packages/torch/nn/modules/module.py:1532\u001b[0m, in \u001b[0;36mModule._wrapped_call_impl\u001b[0;34m(self, *args, **kwargs)\u001b[0m\n\u001b[1;32m   1530\u001b[0m     \u001b[38;5;28;01mreturn\u001b[39;00m \u001b[38;5;28mself\u001b[39m\u001b[38;5;241m.\u001b[39m_compiled_call_impl(\u001b[38;5;241m*\u001b[39margs, \u001b[38;5;241m*\u001b[39m\u001b[38;5;241m*\u001b[39mkwargs)  \u001b[38;5;66;03m# type: ignore[misc]\u001b[39;00m\n\u001b[1;32m   1531\u001b[0m \u001b[38;5;28;01melse\u001b[39;00m:\n\u001b[0;32m-> 1532\u001b[0m     \u001b[38;5;28;01mreturn\u001b[39;00m \u001b[38;5;28;43mself\u001b[39;49m\u001b[38;5;241;43m.\u001b[39;49m\u001b[43m_call_impl\u001b[49m\u001b[43m(\u001b[49m\u001b[38;5;241;43m*\u001b[39;49m\u001b[43margs\u001b[49m\u001b[43m,\u001b[49m\u001b[43m \u001b[49m\u001b[38;5;241;43m*\u001b[39;49m\u001b[38;5;241;43m*\u001b[39;49m\u001b[43mkwargs\u001b[49m\u001b[43m)\u001b[49m\n",
      "File \u001b[0;32m/srv/conda/envs/notebook/lib/python3.12/site-packages/torch/nn/modules/module.py:1541\u001b[0m, in \u001b[0;36mModule._call_impl\u001b[0;34m(self, *args, **kwargs)\u001b[0m\n\u001b[1;32m   1536\u001b[0m \u001b[38;5;66;03m# If we don't have any hooks, we want to skip the rest of the logic in\u001b[39;00m\n\u001b[1;32m   1537\u001b[0m \u001b[38;5;66;03m# this function, and just call forward.\u001b[39;00m\n\u001b[1;32m   1538\u001b[0m \u001b[38;5;28;01mif\u001b[39;00m \u001b[38;5;129;01mnot\u001b[39;00m (\u001b[38;5;28mself\u001b[39m\u001b[38;5;241m.\u001b[39m_backward_hooks \u001b[38;5;129;01mor\u001b[39;00m \u001b[38;5;28mself\u001b[39m\u001b[38;5;241m.\u001b[39m_backward_pre_hooks \u001b[38;5;129;01mor\u001b[39;00m \u001b[38;5;28mself\u001b[39m\u001b[38;5;241m.\u001b[39m_forward_hooks \u001b[38;5;129;01mor\u001b[39;00m \u001b[38;5;28mself\u001b[39m\u001b[38;5;241m.\u001b[39m_forward_pre_hooks\n\u001b[1;32m   1539\u001b[0m         \u001b[38;5;129;01mor\u001b[39;00m _global_backward_pre_hooks \u001b[38;5;129;01mor\u001b[39;00m _global_backward_hooks\n\u001b[1;32m   1540\u001b[0m         \u001b[38;5;129;01mor\u001b[39;00m _global_forward_hooks \u001b[38;5;129;01mor\u001b[39;00m _global_forward_pre_hooks):\n\u001b[0;32m-> 1541\u001b[0m     \u001b[38;5;28;01mreturn\u001b[39;00m \u001b[43mforward_call\u001b[49m\u001b[43m(\u001b[49m\u001b[38;5;241;43m*\u001b[39;49m\u001b[43margs\u001b[49m\u001b[43m,\u001b[49m\u001b[43m \u001b[49m\u001b[38;5;241;43m*\u001b[39;49m\u001b[38;5;241;43m*\u001b[39;49m\u001b[43mkwargs\u001b[49m\u001b[43m)\u001b[49m\n\u001b[1;32m   1543\u001b[0m \u001b[38;5;28;01mtry\u001b[39;00m:\n\u001b[1;32m   1544\u001b[0m     result \u001b[38;5;241m=\u001b[39m \u001b[38;5;28;01mNone\u001b[39;00m\n",
      "File \u001b[0;32m/srv/conda/envs/notebook/lib/python3.12/site-packages/torch/nn/modules/activation.py:396\u001b[0m, in \u001b[0;36mSiLU.forward\u001b[0;34m(self, input)\u001b[0m\n\u001b[1;32m    395\u001b[0m \u001b[38;5;28;01mdef\u001b[39;00m \u001b[38;5;21mforward\u001b[39m(\u001b[38;5;28mself\u001b[39m, \u001b[38;5;28minput\u001b[39m: Tensor) \u001b[38;5;241m-\u001b[39m\u001b[38;5;241m>\u001b[39m Tensor:\n\u001b[0;32m--> 396\u001b[0m     \u001b[38;5;28;01mreturn\u001b[39;00m \u001b[43mF\u001b[49m\u001b[38;5;241;43m.\u001b[39;49m\u001b[43msilu\u001b[49m\u001b[43m(\u001b[49m\u001b[38;5;28;43minput\u001b[39;49m\u001b[43m,\u001b[49m\u001b[43m \u001b[49m\u001b[43minplace\u001b[49m\u001b[38;5;241;43m=\u001b[39;49m\u001b[38;5;28;43mself\u001b[39;49m\u001b[38;5;241;43m.\u001b[39;49m\u001b[43minplace\u001b[49m\u001b[43m)\u001b[49m\n",
      "File \u001b[0;32m/srv/conda/envs/notebook/lib/python3.12/site-packages/torch/nn/functional.py:2102\u001b[0m, in \u001b[0;36msilu\u001b[0;34m(input, inplace)\u001b[0m\n\u001b[1;32m   2100\u001b[0m \u001b[38;5;28;01mif\u001b[39;00m inplace:\n\u001b[1;32m   2101\u001b[0m     \u001b[38;5;28;01mreturn\u001b[39;00m torch\u001b[38;5;241m.\u001b[39m_C\u001b[38;5;241m.\u001b[39m_nn\u001b[38;5;241m.\u001b[39msilu_(\u001b[38;5;28minput\u001b[39m)\n\u001b[0;32m-> 2102\u001b[0m \u001b[38;5;28;01mreturn\u001b[39;00m \u001b[43mtorch\u001b[49m\u001b[38;5;241;43m.\u001b[39;49m\u001b[43m_C\u001b[49m\u001b[38;5;241;43m.\u001b[39;49m\u001b[43m_nn\u001b[49m\u001b[38;5;241;43m.\u001b[39;49m\u001b[43msilu\u001b[49m\u001b[43m(\u001b[49m\u001b[38;5;28;43minput\u001b[39;49m\u001b[43m)\u001b[49m\n",
      "\u001b[0;31mOutOfMemoryError\u001b[0m: CUDA out of memory. Tried to allocate 20.00 MiB. GPU "
     ]
    }
   ],
   "source": [
    "images = next((model_loader))"
   ]
  },
  {
   "cell_type": "code",
   "execution_count": 31,
   "id": "53cbf7fe-1d9b-4a51-99c2-0d745193b07b",
   "metadata": {},
   "outputs": [
    {
     "data": {
      "text/plain": [
       "torch.Size([32, 16, 24, 128])"
      ]
     },
     "execution_count": 31,
     "metadata": {},
     "output_type": "execute_result"
    }
   ],
   "source": [
    "images.shape"
   ]
  },
  {
   "cell_type": "code",
   "execution_count": 35,
   "id": "f6586212-50d0-48e7-b518-67eb1577f52d",
   "metadata": {
    "scrolled": true
   },
   "outputs": [],
   "source": [
    "images = images.cpu().detach().numpy()"
   ]
  },
  {
   "cell_type": "code",
   "execution_count": 46,
   "id": "70720a18-e45e-4dec-bf03-591e747982ae",
   "metadata": {
    "scrolled": true
   },
   "outputs": [
    {
     "data": {
      "text/plain": [
       "<matplotlib.image.AxesImage at 0x7b2326282000>"
      ]
     },
     "execution_count": 46,
     "metadata": {},
     "output_type": "execute_result"
    },
    {
     "data": {
      "image/png": "[encoded data removed]",
      "text/plain": [
       "<Figure size 640x480 with 1 Axes>"
      ]
     },
     "metadata": {},
     "output_type": "display_data"
    }
   ],
   "source": [
    "plt.imshow(images[0, :,:,59])"
   ]
  },
  {
   "cell_type": "code",
   "execution_count": null,
   "id": "c49b7681-9e28-4520-bd3f-d642567e366e",
   "metadata": {},
   "outputs": [],
   "source": []
  },
  {
   "cell_type": "markdown",
   "id": "1b319892-e912-4da3-b768-d0a3edd019fb",
   "metadata": {},
   "source": [
    "### Test One: Using DDPM as Encoder-Decoder\n",
    "Let's imagine $x_{in} \\in \\mathbb{R}^{C \\times H \\times W}$ is the output of your ML emulator. I want to perturb $x$ to a noisy sample $z_t$; the larger the t, the further away I am taking from the image manifold before denoising back. \n",
    "\n",
    "\n",
    "\n",
    "Encoding: Noising a sample $$x_t(x_0, \\epsilon) = \\sqrt{\\bar{\\alpha_t}} \\cdot x_0 + \\sqrt{1-\\bar{\\alpha_t}} \\cdot \\epsilon$$\n",
    "\n",
    "Decoding: De-Noising it and bring it closer to distribution\n",
    "$$\\epsilon_{\\theta} = DDPM(z_t, t)$$\n",
    "$$x_{t-1} \\sim p_{\\theta}(x_{t-1}|x_t) = \\dfrac{1}{\\sqrt{\\alpha_t}}\\left( x_t - \\dfrac{\\beta_t}{\\sqrt{1-\\bar{\\alpha_t}}}\\epsilon_{\\theta}\\right) + \\sigma_t z, z\\sim \\mathcal{N}(0, 1)$$\n"
   ]
  },
  {
   "cell_type": "code",
   "execution_count": 14,
   "id": "61bf192d-5c53-44dc-8625-60921765e88c",
   "metadata": {},
   "outputs": [],
   "source": [
    "def encode(sample, t):\n",
    "    if(isinstance(t,  int)):\n",
    "        t = [t]\n",
    "    eps = torch.randn(sample.shape, device=device) # BS x C x H x W\n",
    "    xt = scheduler.add_noise(sample, eps, torch.LongTensor(t)) # noisy image\n",
    "    return(xt, eps)"
   ]
  },
  {
   "cell_type": "code",
   "execution_count": 16,
   "id": "4c9b87fb-487b-4610-9d3c-296ccf125220",
   "metadata": {},
   "outputs": [],
   "source": [
    "def decode(xt, T, unet=ddpm, scheduler=scheduler, track_history=True):\n",
    "    if track_history:\n",
    "        history = {T : xt}\n",
    "    for t in range(T, 0, -1): # pipe.scheduler.timesteps[-T//stride-1:]\n",
    "        with torch.no_grad():\n",
    "            eps_theta = unet(xt, t).sample\n",
    "        x_prev = scheduler.step(eps_theta, t, xt)\n",
    "        xt = x_prev.prev_sample\n",
    "        if track_history:\n",
    "            history[t-1] = xt\n",
    "            hist[t.item()] = image\n",
    "    return(xt, history)"
   ]
  },
  {
   "cell_type": "code",
   "execution_count": 17,
   "id": "b84fee0f-67a9-4b31-a166-ba4178e904ea",
   "metadata": {},
   "outputs": [
    {
     "name": "stderr",
     "output_type": "stream",
     "text": [
      "{\"event\": \"get-batch start\", \"time\": 1728462082.4074104, \"pid\": 2671, \"batch_idx\": 6}\n",
      "{\"event\": \"get-batch end\", \"time\": 1728462085.0249095, \"pid\": 2671, \"batch_idx\": 6, \"duration\": 2.617494821548462}\n"
     ]
    }
   ],
   "source": [
    "train_ds.log = False\n",
    "item = train_ds[6]"
   ]
  },
  {
   "cell_type": "code",
   "execution_count": 19,
   "id": "467fa9b0-1551-4ac8-8a72-0004e6a79761",
   "metadata": {},
   "outputs": [
    {
     "ename": "OutOfMemoryError",
     "evalue": "CUDA out of memory. Tried to allocate 20.00 MiB. GPU ",
     "output_type": "error",
     "traceback": [
      "\u001b[0;31m---------------------------------------------------------------------------\u001b[0m",
      "\u001b[0;31mOutOfMemoryError\u001b[0m                          Traceback (most recent call last)",
      "Cell \u001b[0;32mIn[19], line 1\u001b[0m\n\u001b[0;32m----> 1\u001b[0m x25, eps \u001b[38;5;241m=\u001b[39m \u001b[43mencode\u001b[49m\u001b[43m(\u001b[49m\u001b[43mitem\u001b[49m\u001b[38;5;241;43m.\u001b[39;49m\u001b[43mto\u001b[49m\u001b[43m(\u001b[49m\u001b[43mdevice\u001b[49m\u001b[43m)\u001b[49m\u001b[43m,\u001b[49m\u001b[43m \u001b[49m\u001b[38;5;241;43m25\u001b[39;49m\u001b[43m)\u001b[49m\n",
      "Cell \u001b[0;32mIn[14], line 5\u001b[0m, in \u001b[0;36mencode\u001b[0;34m(sample, t)\u001b[0m\n\u001b[1;32m      3\u001b[0m     t \u001b[38;5;241m=\u001b[39m [t]\n\u001b[1;32m      4\u001b[0m eps \u001b[38;5;241m=\u001b[39m torch\u001b[38;5;241m.\u001b[39mrandn(sample\u001b[38;5;241m.\u001b[39mshape, device\u001b[38;5;241m=\u001b[39mdevice) \u001b[38;5;66;03m# BS x C x H x W\u001b[39;00m\n\u001b[0;32m----> 5\u001b[0m xt \u001b[38;5;241m=\u001b[39m \u001b[43mscheduler\u001b[49m\u001b[38;5;241;43m.\u001b[39;49m\u001b[43madd_noise\u001b[49m\u001b[43m(\u001b[49m\u001b[43msample\u001b[49m\u001b[43m,\u001b[49m\u001b[43m \u001b[49m\u001b[43meps\u001b[49m\u001b[43m,\u001b[49m\u001b[43m \u001b[49m\u001b[43mtorch\u001b[49m\u001b[38;5;241;43m.\u001b[39;49m\u001b[43mLongTensor\u001b[49m\u001b[43m(\u001b[49m\u001b[43mt\u001b[49m\u001b[43m)\u001b[49m\u001b[43m)\u001b[49m \u001b[38;5;66;03m# noisy image\u001b[39;00m\n\u001b[1;32m      6\u001b[0m \u001b[38;5;28;01mreturn\u001b[39;00m(xt, eps)\n",
      "File \u001b[0;32m/srv/conda/envs/notebook/lib/python3.12/site-packages/diffusers/schedulers/scheduling_ddim.py:494\u001b[0m, in \u001b[0;36mDDIMScheduler.add_noise\u001b[0;34m(self, original_samples, noise, timesteps)\u001b[0m\n\u001b[1;32m    491\u001b[0m \u001b[38;5;28;01mwhile\u001b[39;00m \u001b[38;5;28mlen\u001b[39m(sqrt_one_minus_alpha_prod\u001b[38;5;241m.\u001b[39mshape) \u001b[38;5;241m<\u001b[39m \u001b[38;5;28mlen\u001b[39m(original_samples\u001b[38;5;241m.\u001b[39mshape):\n\u001b[1;32m    492\u001b[0m     sqrt_one_minus_alpha_prod \u001b[38;5;241m=\u001b[39m sqrt_one_minus_alpha_prod\u001b[38;5;241m.\u001b[39munsqueeze(\u001b[38;5;241m-\u001b[39m\u001b[38;5;241m1\u001b[39m)\n\u001b[0;32m--> 494\u001b[0m noisy_samples \u001b[38;5;241m=\u001b[39m \u001b[43msqrt_alpha_prod\u001b[49m\u001b[43m \u001b[49m\u001b[38;5;241;43m*\u001b[39;49m\u001b[43m \u001b[49m\u001b[43moriginal_samples\u001b[49m \u001b[38;5;241m+\u001b[39m sqrt_one_minus_alpha_prod \u001b[38;5;241m*\u001b[39m noise\n\u001b[1;32m    495\u001b[0m \u001b[38;5;28;01mreturn\u001b[39;00m noisy_samples\n",
      "\u001b[0;31mOutOfMemoryError\u001b[0m: CUDA out of memory. Tried to allocate 20.00 MiB. GPU "
     ]
    }
   ],
   "source": [
    "x25, eps = encode(item.to(device), 25)"
   ]
  },
  {
   "cell_type": "code",
   "execution_count": 47,
   "id": "621e3d0e-041d-4e9c-b291-b58e385d8bf0",
   "metadata": {},
   "outputs": [],
   "source": [
    "x0_hat, history25 = decode(x25, 25)"
   ]
  },
  {
   "cell_type": "code",
   "execution_count": 49,
   "id": "4493e470-2b4d-4a3b-903a-8baf613295d0",
   "metadata": {},
   "outputs": [
    {
     "data": {
      "text/plain": [
       "(dict_keys([25, 24, 23, 22, 21, 20, 19, 18, 17, 16, 15, 14, 13, 12, 11, 10, 9, 8, 7, 6, 5, 4, 3, 2, 1, 0, 'diffs']),\n",
       " dict_keys([25, 24, 23, 22, 21, 20, 19, 18, 17, 16, 15, 14, 13, 12, 11, 10, 9, 8, 7, 6, 5, 4, 3, 2, 1, 0]))"
      ]
     },
     "execution_count": 49,
     "metadata": {},
     "output_type": "execute_result"
    }
   ],
   "source": [
    "history.keys(), history25.keys()"
   ]
  },
  {
   "cell_type": "code",
   "execution_count": 51,
   "id": "3fcf4419-8f73-4cfc-b19d-6a323716efe1",
   "metadata": {},
   "outputs": [],
   "source": [
    "dist = torch.nn.MSELoss()\n",
    "history25['diffs'] = []\n",
    "for t in times:\n",
    "    history25['diffs'].append(dist(item, history25[t]).item())"
   ]
  },
  {
   "cell_type": "code",
   "execution_count": 58,
   "id": "672c82a0-a04a-4b8b-a5ed-a2ab0a30990f",
   "metadata": {},
   "outputs": [
    {
     "data": {
      "text/plain": [
       "[<matplotlib.lines.Line2D at 0x792e3818e300>]"
      ]
     },
     "execution_count": 58,
     "metadata": {},
     "output_type": "execute_result"
    },
    {
     "data": {
      "image/png": "[encoded data removed]",
      "text/plain": [
       "<Figure size 640x480 with 1 Axes>"
      ]
     },
     "metadata": {},
     "output_type": "display_data"
    }
   ],
   "source": [
    "plt.plot(history['diffs'])\n",
    "plt.plot(history25['diffs'])"
   ]
  },
  {
   "cell_type": "code",
   "execution_count": null,
   "id": "3c8a9a20-1f96-4d0c-9cf5-9648bbe4ed2c",
   "metadata": {},
   "outputs": [],
   "source": [
    "def denoising_assessment(dataset, indices, T):\n",
    "    for i in indices:\n",
    "        item = dataset[i]\n",
    "        zT, eps = encode(item, T)\n",
    "        x0_hat, history25 = decode(x25, 25)\n",
    "        dist = torch.nn.MSELoss()\n",
    "        history25['diffs'] = []\n",
    "        for t in times:\n",
    "            history25['diffs'].append(dist(item, history25[t]).item())"
   ]
  },
  {
   "cell_type": "code",
   "execution_count": null,
   "id": "aa44d1b0-6d94-470e-9424-64d68d2f76f0",
   "metadata": {},
   "outputs": [],
   "source": []
  },
  {
   "cell_type": "code",
   "execution_count": null,
   "id": "c2d3d5f1-27dd-4f59-8489-98b4ecfeebea",
   "metadata": {},
   "outputs": [],
   "source": []
  },
  {
   "cell_type": "markdown",
   "id": "81e9f1af-26e6-4a83-8518-83391f8cccd4",
   "metadata": {
    "jp-MarkdownHeadingCollapsed": true
   },
   "source": [
    "#### How it works"
   ]
  },
  {
   "cell_type": "code",
   "execution_count": 40,
   "id": "3e1ce898-2595-4a3c-bd77-3d633d6ebbcc",
   "metadata": {},
   "outputs": [],
   "source": [
    "t = 25"
   ]
  },
  {
   "cell_type": "code",
   "execution_count": 41,
   "id": "0f7658f0-10ee-4185-a722-9bc6365ef4ed",
   "metadata": {},
   "outputs": [],
   "source": [
    "zt, eps = encode(item, 25)"
   ]
  },
  {
   "cell_type": "code",
   "execution_count": 52,
   "id": "9a05dea4-913b-48cd-88af-f598f8e1fedb",
   "metadata": {},
   "outputs": [
    {
     "data": {
      "text/plain": [
       "torch.Size([128, 128, 16, 24])"
      ]
     },
     "execution_count": 52,
     "metadata": {},
     "output_type": "execute_result"
    }
   ],
   "source": [
    "zt.shape"
   ]
  },
  {
   "cell_type": "code",
   "execution_count": 48,
   "id": "e9c63a5b-d4e2-47a2-903b-89dfb2e6c646",
   "metadata": {},
   "outputs": [
    {
     "data": {
      "text/plain": [
       "True"
      ]
     },
     "execution_count": 48,
     "metadata": {},
     "output_type": "execute_result"
    }
   ],
   "source": [
    "at = scheduler.alphas_cumprod[t]\n",
    "zt_manual = torch.sqrt(at) * item + torch.sqrt(1-at)*eps\n",
    "\n",
    "(zt_manual == zt).all().item()"
   ]
  },
  {
   "cell_type": "code",
   "execution_count": 55,
   "id": "59ef0ae5-8349-4a5f-86c0-f24dd88d6cfe",
   "metadata": {},
   "outputs": [],
   "source": [
    "with torch.no_grad():\n",
    "    eps_theta = ddpm(zt.to(device), torch.tensor([25], device=device))"
   ]
  },
  {
   "cell_type": "code",
   "execution_count": 97,
   "id": "c2e9b447-b607-41a0-ae3d-252ac83d86c9",
   "metadata": {
    "scrolled": true
   },
   "outputs": [],
   "source": [
    "x24 = ddim_scheduler.step(eps_theta.sample, 25, zt.to(device)).prev_sample"
   ]
  },
  {
   "cell_type": "code",
   "execution_count": 98,
   "id": "232b6a37-4108-4ff9-8788-91f84c33c7e3",
   "metadata": {},
   "outputs": [
    {
     "data": {
      "text/plain": [
       "torch.Size([128, 128, 16, 24])"
      ]
     },
     "execution_count": 98,
     "metadata": {},
     "output_type": "execute_result"
    }
   ],
   "source": [
    "x24.shape"
   ]
  },
  {
   "cell_type": "code",
   "execution_count": 86,
   "id": "328b6f88-affb-49ca-af26-78a4d266f0f2",
   "metadata": {},
   "outputs": [],
   "source": [
    "a24 = ddim_scheduler.alphas_cumprod[24]\n",
    "a25 = ddim_scheduler.alphas_cumprod[25]"
   ]
  },
  {
   "cell_type": "code",
   "execution_count": null,
   "id": "a6e5b933-1f02-4784-8971-ab30fe6a8adc",
   "metadata": {},
   "outputs": [],
   "source": []
  },
  {
   "cell_type": "markdown",
   "id": "cc220edd-6d5f-4ada-a5e5-1943cc712d0a",
   "metadata": {},
   "source": [
    "DDIM Sampling:\n",
    "$$x_{t-1} = \\sqrt{\\alpha_{t-1}}\\left( \\dfrac{x_t - \\sqrt{1-\\alpha_t} \\epsilon_\\theta}{\\sqrt{\\alpha_t}}\\right) + \\sqrt{1-\\alpha_{t-1}} \\cdot \\epsilon_\\theta$$\n",
    "\n",
    "If taking larger strides, can replace $\\alpha_{t-1}$ with $\\alpha_{t-n}$"
   ]
  },
  {
   "cell_type": "code",
   "execution_count": 92,
   "id": "12c23eaa-2bf9-4005-8f49-d90f5838f1af",
   "metadata": {},
   "outputs": [],
   "source": [
    "x24_manual = (zt.to(device) - torch.sqrt(1 - a25) * eps_theta.sample) / torch.sqrt(a25)\n",
    "x24_manual = torch.sqrt(a24) * x24_manual + torch.sqrt(1 - a24) * eps_theta.sample"
   ]
  },
  {
   "cell_type": "code",
   "execution_count": 100,
   "id": "8f61bb9e-f9f7-4161-9f44-c81092938b28",
   "metadata": {},
   "outputs": [
    {
     "data": {
      "text/plain": [
       "True"
      ]
     },
     "execution_count": 100,
     "metadata": {},
     "output_type": "execute_result"
    }
   ],
   "source": [
    "(x24 == x24_manual).all().item()"
   ]
  },
  {
   "cell_type": "code",
   "execution_count": null,
   "id": "5d116065-e312-42ae-a279-0a2b2039bebb",
   "metadata": {},
   "outputs": [],
   "source": [
    "scheduler.set_timesteps(50)\n",
    "print(scheduler.timesteps) # x_t-1 becomes x80 | x90\n",
    "print(scheduler.config.num_train_timesteps, scheduler.num_inference_steps)\n",
    "scheduler.set_timesteps(100)"
   ]
  },
  {
   "cell_type": "code",
   "execution_count": null,
   "id": "2c35eda0-565e-4304-8eb0-df6af2229dc6",
   "metadata": {},
   "outputs": [],
   "source": [
    "T, stride = 20, 2\n",
    "scheduler.set_timesteps(scheduler.config.num_train_timesteps // stride)\n",
    "scheduler.timesteps[-T//stride-1:]"
   ]
  },
  {
   "cell_type": "code",
   "execution_count": null,
   "id": "5d6f55d6-ccc3-4410-80e3-dab05c95f932",
   "metadata": {},
   "outputs": [],
   "source": []
  },
  {
   "cell_type": "code",
   "execution_count": 176,
   "id": "02a4289d-ef57-4b15-bdd1-813ad50a632e",
   "metadata": {},
   "outputs": [
    {
     "data": {
      "text/plain": [
       "(array([ 9904.,  3771.,  3695.,  3560.,  3080.,  2686.,  2812.,  2961.,\n",
       "         3787., 12896.]),\n",
       " array([-1.        , -0.80000001, -0.60000002, -0.40000001, -0.2       ,\n",
       "         0.        ,  0.2       ,  0.40000001,  0.60000002,  0.80000001,\n",
       "         1.        ]),\n",
       " <BarContainer object of 10 artists>)"
      ]
     },
     "execution_count": 176,
     "metadata": {},
     "output_type": "execute_result"
    },
    {
     "data": {
      "image/png": "[encoded data removed]",
      "text/plain": [
       "<Figure size 640x480 with 1 Axes>"
      ]
     },
     "metadata": {},
     "output_type": "display_data"
    }
   ],
   "source": [
    "plt.hist(denoised_image.flatten()) # x0_reconstructed"
   ]
  },
  {
   "cell_type": "code",
   "execution_count": 154,
   "id": "4da591a1-e501-474d-86b6-5a31b8d8752d",
   "metadata": {},
   "outputs": [
    {
     "data": {
      "text/plain": [
       "(array([2.9500e+02, 3.8060e+03, 1.7294e+04, 2.0226e+04, 6.8030e+03,\n",
       "        6.2800e+02, 8.1000e+01, 1.4000e+01, 3.0000e+00, 2.0000e+00]),\n",
       " array([-3.71876931, -2.53953576, -1.36030233, -0.18106887,  0.99816459,\n",
       "         2.1773982 ,  3.35663152,  4.53586483,  5.71509838,  6.89433193,\n",
       "         8.07356548]),\n",
       " <BarContainer object of 10 artists>)"
      ]
     },
     "execution_count": 154,
     "metadata": {},
     "output_type": "execute_result"
    },
    {
     "data": {
      "image/png": "[encoded data removed]",
      "text/plain": [
       "<Figure size 640x480 with 1 Axes>"
      ]
     },
     "metadata": {},
     "output_type": "display_data"
    }
   ],
   "source": [
    "plt.hist(train_ds[0].flatten())"
   ]
  },
  {
   "cell_type": "markdown",
   "id": "5fb78dfe-9d85-4fdb-a059-d804ce9636c6",
   "metadata": {},
   "source": [
    "## Distribution Metrics"
   ]
  },
  {
   "cell_type": "markdown",
   "id": "888bed61-437a-44b6-b286-bfe223b39633",
   "metadata": {},
   "source": [
    "Series of evaluation metrics between two datasets $\\mathcal S_r$ (training corpus) and $\\mathcal S_f$ (generated images) respectively. Idea is to use N samples from each learned distribution and rate model on some kind of distribution distance metric. "
   ]
  },
  {
   "cell_type": "code",
   "execution_count": null,
   "id": "040b3719-ba81-4d1c-937b-b2474f69e0e4",
   "metadata": {},
   "outputs": [],
   "source": [
    "vae_exp_id = \"VAE_August05_08:23\"\n",
    "vae_log_pth = \"trial_log.json\"\n",
    "with open(os.path.join(\"experiments\", vae_exp_id, vae_log_pth), 'r') as file:\n",
    "    vae_log = json.load(file)\n",
    "\n",
    "vae_log.keys()\n",
    "vae = tru.load_model_from_ckpt(\"best-ckpt.pt\", vae_log['model_config'], vae_exp_id)"
   ]
  },
  {
   "cell_type": "code",
   "execution_count": 137,
   "id": "e912e1b4-c641-4c74-807a-6463a754d7cd",
   "metadata": {},
   "outputs": [],
   "source": [
    "def compute_statistics(dataloader, num_samples, encoder):\n",
    "    encoder.eval()\n",
    "    features = []\n",
    "    num_batches = num_samples // dataloader.batch_size + 1\n",
    "    with torch.no_grad():\n",
    "        for batch_idx, batch in enumerate(dataloader):\n",
    "            print(f\"batch {batch_idx}/{num_batches}\")\n",
    "            if batch_idx >= num_batches:\n",
    "                break\n",
    "            mu, sigma = encoder(batch)\n",
    "            features.append(mu.view(mu.size(0), -1))  # Flatten each feature map\n",
    "        all_features = torch.cat(features, dim=0)\n",
    "        N, D = all_features.shape # combined into one huge num_samples x feature_size matrix\n",
    "        assert N == num_batches*dataloader.batch_size, \"Matrix dimensions do not match\"\n",
    "        mean = all_features.mean(dim=0)\n",
    "        covariance = torch.mm((all_features - mean).T, (all_features - mean)) / (N-1) # feature_size by feature_size\n",
    "    return mean, covariance, all_features"
   ]
  },
  {
   "cell_type": "code",
   "execution_count": 132,
   "id": "c102f56d-ac53-4a93-8ed5-5514272f71fb",
   "metadata": {},
   "outputs": [
    {
     "ename": "NameError",
     "evalue": "name 'vae' is not defined",
     "output_type": "error",
     "traceback": [
      "\u001b[0;31m---------------------------------------------------------------------------\u001b[0m",
      "\u001b[0;31mNameError\u001b[0m                                 Traceback (most recent call last)",
      "Cell \u001b[0;32mIn[132], line 1\u001b[0m\n\u001b[0;32m----> 1\u001b[0m model_mean, model_covariance, all_features \u001b[38;5;241m=\u001b[39m compute_statistics(model_loader, \u001b[38;5;241m256\u001b[39m, \u001b[43mvae\u001b[49m\u001b[38;5;241m.\u001b[39mencoder)\n",
      "\u001b[0;31mNameError\u001b[0m: name 'vae' is not defined"
     ]
    }
   ],
   "source": [
    "model_mean, model_covariance, all_features = compute_statistics(model_loader, 256, vae.encoder)"
   ]
  },
  {
   "cell_type": "code",
   "execution_count": 164,
   "id": "7b8a3d58-05b9-4822-a457-2040ff3f2e1f",
   "metadata": {},
   "outputs": [
    {
     "data": {
      "text/plain": [
       "torch.Size([6144, 6144])"
      ]
     },
     "execution_count": 164,
     "metadata": {},
     "output_type": "execute_result"
    }
   ],
   "source": [
    "model_covariance.shape"
   ]
  },
  {
   "cell_type": "code",
   "execution_count": null,
   "id": "d671605f-56bf-464b-bf80-d2b1527a8a9e",
   "metadata": {},
   "outputs": [],
   "source": []
  },
  {
   "cell_type": "code",
   "execution_count": 172,
   "id": "b23c3d40-0a17-40e7-b87f-56be39277cb0",
   "metadata": {},
   "outputs": [
    {
     "data": {
      "text/plain": [
       "tensor([[2.2361, 0.0000, 0.0000,  ..., 0.0000, 0.0000, 0.0000],\n",
       "        [0.0000, 2.2361, 0.0000,  ..., 0.0000, 0.0000, 0.0000],\n",
       "        [0.0000, 0.0000, 2.2361,  ..., 0.0000, 0.0000, 0.0000],\n",
       "        ...,\n",
       "        [0.0000, 0.0000, 0.0000,  ..., 2.2361, 0.0000, 0.0000],\n",
       "        [0.0000, 0.0000, 0.0000,  ..., 0.0000, 2.2361, 0.0000],\n",
       "        [0.0000, 0.0000, 0.0000,  ..., 0.0000, 0.0000, 2.2361]],\n",
       "       device='cuda:0')"
      ]
     },
     "execution_count": 172,
     "metadata": {},
     "output_type": "execute_result"
    }
   ],
   "source": [
    "eps = 5\n",
    "torch.cholesky(eps*torch.eye(6144, device=device), upper=False)"
   ]
  },
  {
   "cell_type": "code",
   "execution_count": null,
   "id": "c3326954-a018-4cd2-bc73-a0cfd783b5f4",
   "metadata": {},
   "outputs": [],
   "source": []
  },
  {
   "cell_type": "code",
   "execution_count": 150,
   "id": "1a431ed2-ea65-48e3-b9ed-c8b4c9bd25a6",
   "metadata": {},
   "outputs": [],
   "source": [
    "meana = all_features.mean(dim=0)"
   ]
  },
  {
   "cell_type": "code",
   "execution_count": 152,
   "id": "6862ae54-f75f-49ac-8947-5b78d51524dd",
   "metadata": {},
   "outputs": [
    {
     "data": {
      "text/plain": [
       "torch.Size([768, 6144])"
      ]
     },
     "execution_count": 152,
     "metadata": {},
     "output_type": "execute_result"
    }
   ],
   "source": [
    "(all_features - meana).shape"
   ]
  },
  {
   "cell_type": "code",
   "execution_count": 127,
   "id": "81a98551-81ed-4a41-a8a2-25aaf7a8c176",
   "metadata": {},
   "outputs": [
    {
     "data": {
      "text/plain": [
       "tensor([[True, True, True,  ..., True, True, True],\n",
       "        [True, True, True,  ..., True, True, True],\n",
       "        [True, True, True,  ..., True, True, True],\n",
       "        ...,\n",
       "        [True, True, True,  ..., True, True, True],\n",
       "        [True, True, True,  ..., True, True, True],\n",
       "        [True, True, True,  ..., True, True, True]], device='cuda:0')"
      ]
     },
     "execution_count": 127,
     "metadata": {},
     "output_type": "execute_result"
    }
   ],
   "source": [
    "data_covariance.T == data_covariance"
   ]
  },
  {
   "cell_type": "code",
   "execution_count": null,
   "id": "1f2ba7e0-1ceb-44fb-bdb3-426aefdd078c",
   "metadata": {},
   "outputs": [],
   "source": [
    "# npcov = np.cov(all_features.numpy(), rowvars=False)\n",
    "#np.isclose(npcov, covariance.detach().numpy()).all()"
   ]
  },
  {
   "cell_type": "code",
   "execution_count": 115,
   "id": "a605b3b4-6864-4dfb-9c31-992a391d7139",
   "metadata": {},
   "outputs": [],
   "source": [
    "test_dl = DataLoader(test_ds, shuffle=True, batch_size = model_loader.batch_size)"
   ]
  },
  {
   "cell_type": "code",
   "execution_count": 167,
   "id": "5fca5c3e-d73b-4ead-b275-d5321f876098",
   "metadata": {},
   "outputs": [
    {
     "name": "stdout",
     "output_type": "stream",
     "text": [
      "batch 0/4\n",
      "batch 1/4\n",
      "batch 2/4\n",
      "batch 3/4\n",
      "batch 4/4\n"
     ]
    }
   ],
   "source": [
    "data_mean, data_covariance, data_features = compute_statistics(test_dl, 1000, vae.encoder)"
   ]
  },
  {
   "cell_type": "markdown",
   "id": "92486dbc-e908-460c-a0ab-8c80ec94cea3",
   "metadata": {},
   "source": [
    "Frechet Code copied and modified from pytorch-fid library [source code](https://github.com/mseitzer/pytorch-fid/blob/master/src/pytorch_fid/fid_score.py)"
   ]
  },
  {
   "cell_type": "code",
   "execution_count": 144,
   "id": "4d4a41dd-b79d-4a6c-9787-50ca085b50ca",
   "metadata": {},
   "outputs": [
    {
     "data": {
      "text/plain": [
       "tensor([[ True, False,  True,  ...,  True,  True, False],\n",
       "        [False,  True, False,  ..., False, False,  True],\n",
       "        [ True, False,  True,  ..., False, False, False],\n",
       "        ...,\n",
       "        [ True, False, False,  ...,  True,  True, False],\n",
       "        [ True, False, False,  ...,  True,  True, False],\n",
       "        [False,  True, False,  ..., False, False,  True]], device='cuda:0')"
      ]
     },
     "execution_count": 144,
     "metadata": {},
     "output_type": "execute_result"
    }
   ],
   "source": [
    "model_covariance > 0"
   ]
  },
  {
   "cell_type": "code",
   "execution_count": 131,
   "id": "df315d2f-2068-43e3-b98f-48a795d0d812",
   "metadata": {},
   "outputs": [
    {
     "data": {
      "text/plain": [
       "torch.Size([6144, 6144])"
      ]
     },
     "execution_count": 131,
     "metadata": {},
     "output_type": "execute_result"
    }
   ],
   "source": [
    "model_covariance.shape"
   ]
  },
  {
   "cell_type": "code",
   "execution_count": 143,
   "id": "0f0959e4-ef13-401e-aae1-c7ae49d70a68",
   "metadata": {},
   "outputs": [
    {
     "ename": "_LinAlgError",
     "evalue": "linalg.cholesky: The factorization could not be completed because the input is not positive-definite (the leading minor of order 471 is not positive-definite).",
     "output_type": "error",
     "traceback": [
      "\u001b[0;31m---------------------------------------------------------------------------\u001b[0m",
      "\u001b[0;31m_LinAlgError\u001b[0m                              Traceback (most recent call last)",
      "Cell \u001b[0;32mIn[143], line 2\u001b[0m\n\u001b[1;32m      1\u001b[0m mat \u001b[38;5;241m=\u001b[39m data_covariance \u001b[38;5;241m@\u001b[39m model_covariance\n\u001b[0;32m----> 2\u001b[0m \u001b[43mtorch\u001b[49m\u001b[38;5;241;43m.\u001b[39;49m\u001b[43mlinalg\u001b[49m\u001b[38;5;241;43m.\u001b[39;49m\u001b[43mcholesky\u001b[49m\u001b[43m(\u001b[49m\u001b[43mmat\u001b[49m\u001b[43m \u001b[49m\u001b[38;5;241;43m+\u001b[39;49m\u001b[43m \u001b[49m\u001b[43mtorch\u001b[49m\u001b[38;5;241;43m.\u001b[39;49m\u001b[43meye\u001b[49m\u001b[43m(\u001b[49m\u001b[38;5;241;43m6144\u001b[39;49m\u001b[43m,\u001b[49m\u001b[43m \u001b[49m\u001b[43mdevice\u001b[49m\u001b[38;5;241;43m=\u001b[39;49m\u001b[43mdevice\u001b[49m\u001b[43m)\u001b[49m\u001b[43m)\u001b[49m\u001b[38;5;241m.\u001b[39mto(torch\u001b[38;5;241m.\u001b[39mfloat32)\n",
      "\u001b[0;31m_LinAlgError\u001b[0m: linalg.cholesky: The factorization could not be completed because the input is not positive-definite (the leading minor of order 471 is not positive-definite)."
     ]
    }
   ],
   "source": [
    "mat = data_covariance @ model_covariance\n",
    "torch.linalg.cholesky(mat + torch.eye(6144, device=device)).to(torch.float32)"
   ]
  },
  {
   "cell_type": "markdown",
   "id": "7854aeb1-1282-48a4-8095-c443f6ff2484",
   "metadata": {
    "jp-MarkdownHeadingCollapsed": true
   },
   "source": [
    "##### FID:\n",
    "\n",
    "- [Frechet Inception Distance](https://en.wikipedia.org/wiki/Fr%C3%A9chet_inception_distance)\n",
    "- Implementation inspired by [pytorch-frechet github](https://github.com/hukkelas/pytorch-frechet-inception-distance/blob/master/fid.py)\n",
    "\n"
   ]
  },
  {
   "cell_type": "code",
   "execution_count": 123,
   "id": "dc1eba47-88ba-4623-8f6a-37653ddce00b",
   "metadata": {},
   "outputs": [],
   "source": [
    "def frechet_distance(dl1, dl2, encoder, num_samples):\n",
    "    \"\"\"\n",
    "    Compute the Frechet Inception Distance (FID) between two datasets.\n",
    "\n",
    "    Parameters:\n",
    "    - dl1: A dataloader type iterator with N images.\n",
    "    - dl2: A dataloader type iterator with M images.\n",
    "    - encoder: A PyTorch nn.Module that outputs latent representations.\n",
    "    - num_samples want drawn from distribution to compute FID\n",
    "\n",
    "    Returns:\n",
    "    - FID score as a float.\n",
    "    \"\"\"\n",
    "    mean1, cov1, features1 = compute_statistics(dl1, num_samples, encoder)\n",
    "    mean2, cov2, features2 = compute_statistics(dl2, num_samples, encoder)\n",
    "    \n",
    "    # Compute FID score\n",
    "    mean_diff = torch.norm(mean1 - mean2).item()\n",
    "    \n",
    "    # Compute covariance matrix term\n",
    "    cov_mean = (cov1 + cov2) / 2\n",
    "    cov_sqrt, _ = torch.linalg.cholesky(cov1 @ cov2).to(torch.float32)\n",
    "    \n",
    "    fid_score = mean_diff**2 + torch.trace(cov1 + cov2 - 2 * cov_sqrt).item()\n",
    "    return fid_score\n"
   ]
  },
  {
   "cell_type": "code",
   "execution_count": 130,
   "id": "e82448dd-a4d3-430e-bf72-dad9d8819e0b",
   "metadata": {},
   "outputs": [
    {
     "data": {
      "text/plain": [
       "array([6.1020929e+02, 7.0041771e+01, 4.5053478e+01, ..., 5.2194338e-08,\n",
       "       5.2091185e-08, 5.2340226e-08], dtype=float32)"
      ]
     },
     "execution_count": 130,
     "metadata": {},
     "output_type": "execute_result"
    }
   ],
   "source": [
    "np.linalg.eigvals(data_covariance.detach().cpu())"
   ]
  },
  {
   "cell_type": "code",
   "execution_count": 124,
   "id": "6c502ee3-9aff-475e-8317-31e28a5b98fe",
   "metadata": {},
   "outputs": [
    {
     "data": {
      "application/vnd.jupyter.widget-view+json": {
       "model_id": "c0c264056b5c40c493245b99dbcf360f",
       "version_major": 2,
       "version_minor": 0
      },
      "text/plain": [
       "  0%|          | 0/50 [00:00<?, ?it/s]"
      ]
     },
     "metadata": {},
     "output_type": "display_data"
    },
    {
     "name": "stdout",
     "output_type": "stream",
     "text": [
      "batch 0/4\n"
     ]
    },
    {
     "data": {
      "application/vnd.jupyter.widget-view+json": {
       "model_id": "c83f6d2dcd1e4df19d3c5f54c34b99a4",
       "version_major": 2,
       "version_minor": 0
      },
      "text/plain": [
       "  0%|          | 0/50 [00:00<?, ?it/s]"
      ]
     },
     "metadata": {},
     "output_type": "display_data"
    },
    {
     "name": "stdout",
     "output_type": "stream",
     "text": [
      "batch 1/4\n"
     ]
    },
    {
     "data": {
      "application/vnd.jupyter.widget-view+json": {
       "model_id": "bd302dc13df24404af661dad1abdcc2b",
       "version_major": 2,
       "version_minor": 0
      },
      "text/plain": [
       "  0%|          | 0/50 [00:00<?, ?it/s]"
      ]
     },
     "metadata": {},
     "output_type": "display_data"
    },
    {
     "name": "stdout",
     "output_type": "stream",
     "text": [
      "batch 2/4\n"
     ]
    },
    {
     "data": {
      "application/vnd.jupyter.widget-view+json": {
       "model_id": "b5ba72e0adc846c793c2e80fe65c7c00",
       "version_major": 2,
       "version_minor": 0
      },
      "text/plain": [
       "  0%|          | 0/50 [00:00<?, ?it/s]"
      ]
     },
     "metadata": {},
     "output_type": "display_data"
    },
    {
     "name": "stdout",
     "output_type": "stream",
     "text": [
      "batch 3/4\n"
     ]
    },
    {
     "data": {
      "application/vnd.jupyter.widget-view+json": {
       "model_id": "94f70bfea2654309ba6176a688d41764",
       "version_major": 2,
       "version_minor": 0
      },
      "text/plain": [
       "  0%|          | 0/50 [00:00<?, ?it/s]"
      ]
     },
     "metadata": {},
     "output_type": "display_data"
    },
    {
     "name": "stdout",
     "output_type": "stream",
     "text": [
      "batch 4/4\n",
      "batch 0/4\n",
      "batch 1/4\n",
      "batch 2/4\n",
      "batch 3/4\n",
      "batch 4/4\n"
     ]
    },
    {
     "ename": "_LinAlgError",
     "evalue": "linalg.cholesky: The factorization could not be completed because the input is not positive-definite (the leading minor of order 3 is not positive-definite).",
     "output_type": "error",
     "traceback": [
      "\u001b[0;31m---------------------------------------------------------------------------\u001b[0m",
      "\u001b[0;31m_LinAlgError\u001b[0m                              Traceback (most recent call last)",
      "Cell \u001b[0;32mIn[124], line 1\u001b[0m\n\u001b[0;32m----> 1\u001b[0m \u001b[43mfrechet_distance\u001b[49m\u001b[43m(\u001b[49m\u001b[43mmodel_loader\u001b[49m\u001b[43m,\u001b[49m\u001b[43m \u001b[49m\u001b[43mtest_dl\u001b[49m\u001b[43m,\u001b[49m\u001b[43m \u001b[49m\u001b[43mvae\u001b[49m\u001b[38;5;241;43m.\u001b[39;49m\u001b[43mencoder\u001b[49m\u001b[43m,\u001b[49m\u001b[43m \u001b[49m\u001b[38;5;241;43m1000\u001b[39;49m\u001b[43m)\u001b[49m\n",
      "Cell \u001b[0;32mIn[123], line 22\u001b[0m, in \u001b[0;36mfrechet_distance\u001b[0;34m(dl1, dl2, encoder, num_samples)\u001b[0m\n\u001b[1;32m     20\u001b[0m \u001b[38;5;66;03m# Compute covariance matrix term\u001b[39;00m\n\u001b[1;32m     21\u001b[0m cov_mean \u001b[38;5;241m=\u001b[39m (cov1 \u001b[38;5;241m+\u001b[39m cov2) \u001b[38;5;241m/\u001b[39m \u001b[38;5;241m2\u001b[39m\n\u001b[0;32m---> 22\u001b[0m cov_sqrt, _ \u001b[38;5;241m=\u001b[39m \u001b[43mtorch\u001b[49m\u001b[38;5;241;43m.\u001b[39;49m\u001b[43mlinalg\u001b[49m\u001b[38;5;241;43m.\u001b[39;49m\u001b[43mcholesky\u001b[49m\u001b[43m(\u001b[49m\u001b[43mcov1\u001b[49m\u001b[43m \u001b[49m\u001b[38;5;241;43m@\u001b[39;49m\u001b[43m \u001b[49m\u001b[43mcov2\u001b[49m\u001b[43m)\u001b[49m\u001b[38;5;241m.\u001b[39mto(torch\u001b[38;5;241m.\u001b[39mfloat32)\n\u001b[1;32m     24\u001b[0m fid_score \u001b[38;5;241m=\u001b[39m mean_diff\u001b[38;5;241m*\u001b[39m\u001b[38;5;241m*\u001b[39m\u001b[38;5;241m2\u001b[39m \u001b[38;5;241m+\u001b[39m torch\u001b[38;5;241m.\u001b[39mtrace(cov1 \u001b[38;5;241m+\u001b[39m cov2 \u001b[38;5;241m-\u001b[39m \u001b[38;5;241m2\u001b[39m \u001b[38;5;241m*\u001b[39m cov_sqrt)\u001b[38;5;241m.\u001b[39mitem()\n\u001b[1;32m     25\u001b[0m \u001b[38;5;28;01mreturn\u001b[39;00m fid_score\n",
      "\u001b[0;31m_LinAlgError\u001b[0m: linalg.cholesky: The factorization could not be completed because the input is not positive-definite (the leading minor of order 3 is not positive-definite)."
     ]
    }
   ],
   "source": [
    "frechet_distance(model_loader, test_dl, vae.encoder, 1000)"
   ]
  },
  {
   "cell_type": "code",
   "execution_count": null,
   "id": "8db3daf0-f54d-4bb7-aeb8-a0864f6bd7da",
   "metadata": {},
   "outputs": [],
   "source": []
  },
  {
   "cell_type": "markdown",
   "id": "1d1b3f89-7048-4f11-aca2-47a5fd25facc",
   "metadata": {},
   "source": [
    "# Trying to use data utils"
   ]
  },
  {
   "cell_type": "markdown",
   "id": "49a23b99-964b-4223-8914-13305d60ba21",
   "metadata": {},
   "source": [
    "replicate https://leap-stc.github.io/ClimSim/evaluation/main_figure_generation.html\n",
    "\n",
    "\n",
    "https://github.com/leap-stc/ClimSim/blob/main/preprocessing/create_npy_data_splits.ipynb"
   ]
  },
  {
   "cell_type": "code",
   "execution_count": 19,
   "id": "b7063ef0-3e68-41d4-854c-e0ac4976364c",
   "metadata": {},
   "outputs": [],
   "source": [
    "from climsim_data_utils import data_utils, load_vars, setup_data_utils\n",
    "from climsim_data_utils import *"
   ]
  },
  {
   "cell_type": "code",
   "execution_count": 21,
   "id": "b516aa40-64f8-4838-adb6-2125a4fdbc78",
   "metadata": {},
   "outputs": [],
   "source": [
    "def setup_data_utils(ds_type='aquaplanet', data_source='gcsfs', data_vars='v1', **kwargs):\n",
    "    # data source is either a google cloud bucket, local file path, or tries to load directly from Huggingface\n",
    "    ds_type = expand_ds_name(ds_type)\n",
    "    if('grid_info' in kwargs):\n",
    "        grid_info = kwargs['grid_info']\n",
    "    else:\n",
    "        grid_url = f\"https://huggingface.co/datasets/LEAP/{ds_type}/resolve/main/{ds_type}_grid-info.nc\"\n",
    "        grid_info = read_url_xarray(grid_url)\n",
    "        \n",
    "    data = data_utils(data_source, ds_type, grid_info.compute())\n",
    "    if(data_source == 'hf'):\n",
    "        data.data_path = f\"https://huggingface.co/datasets/LEAP/{ds_type}/resolve/main/train/\"\n",
    "    elif(data_source == 'local' or data_source == \"gcsfs\"):\n",
    "        #assert 'base_dir' in kwargs, \"Need to provide base path via base_dir arg\"\n",
    "        if(\"base_dir\" in kwargs):\n",
    "            data.data_path = kwargs[base_dir]\n",
    "    else:\n",
    "        print(\"Invalid data source, must be hf, local, or gcsfs\")\n",
    "    if(data_vars == 'v1'):\n",
    "        data.set_to_v1_vars()\n",
    "    elif(data_vars == 'v2'):\n",
    "        data.set_to_v2_vars()\n",
    "\n",
    "\n",
    "    input_mean = xr.open_dataset('Climsim_info/input_mean.nc')\n",
    "    input_max = xr.open_dataset('Climsim_info/input_max.nc')\n",
    "    input_min = xr.open_dataset('Climsim_info/input_min.nc')\n",
    "    output_scale = xr.open_dataset('Climsim_info/output_scale.nc')\n",
    "    data.set_norm_info(input_mean, input_max, input_min, output_scale)\n",
    "            \n",
    "    \n",
    "    return(data)"
   ]
  },
  {
   "cell_type": "code",
   "execution_count": 22,
   "id": "06a348a9-0011-49c8-b6c1-3185c79ba07b",
   "metadata": {},
   "outputs": [],
   "source": [
    "mapper = fs.get_mapper(\"gs://leap-persistent-ro/sungdukyu/E3SM-MMF_ne4.grid-info.zarr\")\n",
    "grid_info = xr.open_dataset(mapper, engine='zarr')\n",
    "\n",
    "dutils = setup_data_utils(grid_info=grid_info, data_vars='v1')"
   ]
  },
  {
   "cell_type": "code",
   "execution_count": 23,
   "id": "a9f3d34b-2501-4e14-801d-c09054a9b1a9",
   "metadata": {},
   "outputs": [
    {
     "data": {
      "text/plain": [
       "True"
      ]
     },
     "execution_count": 23,
     "metadata": {},
     "output_type": "execute_result"
    }
   ],
   "source": [
    "dutils.input_scoring is None"
   ]
  },
  {
   "cell_type": "markdown",
   "id": "775140d3-e69c-4bf3-8488-c3e2b645e675",
   "metadata": {},
   "source": [
    "Inspired by [Climsim guide](https://leap-stc.github.io/ClimSim/evaluation/main_figure_generation.html)"
   ]
  },
  {
   "cell_type": "code",
   "execution_count": 24,
   "id": "34947d5a-b936-4f1e-9341-308ed1772058",
   "metadata": {},
   "outputs": [],
   "source": [
    "# set variables to V1 subset\n",
    "dutils.set_to_v1_vars()\n",
    "\n",
    "dutils.input_scoring = x_test\n",
    "dutils.target_scoring = y_test\n",
    "# set pressure weights\n",
    "dutils.set_pressure_grid(data_split = 'scoring')\n",
    "\n",
    "# load model predictions\n",
    "dutils.model_names = ['fake_model', 'fake_model_2']\n",
    "predictions = {\n",
    "    'fake_model' : y_pred1, \n",
    "    'fake_model_2' : y_pred2\n",
    "}\n",
    "\n",
    "dutils.preds_scoring = predictions\n"
   ]
  },
  {
   "cell_type": "markdown",
   "id": "c379731c-7ceb-4596-993f-792403b4cae6",
   "metadata": {},
   "source": [
    "1. Undo output scaling\n",
    "2. Weight vertical levels by dp/g\n",
    "3. Weight horizontal area of each grid cell by a[x]/mean(a[x])\n",
    "4. Convert units to a common energy unit"
   ]
  },
  {
   "cell_type": "code",
   "execution_count": 25,
   "id": "7c602147-af19-4c9d-b122-241358ee2875",
   "metadata": {},
   "outputs": [
    {
     "name": "stderr",
     "output_type": "stream",
     "text": [
      "/home/jovyan/Samarth/2024/climsim_data_utils.py:1267: RuntimeWarning: divide by zero encountered in divide\n",
      "  r_squared = 1 - sq_diff.sum(axis = 0)/tss_time.sum(axis = 0) # sum over time\n",
      "/home/jovyan/Samarth/2024/climsim_data_utils.py:1267: RuntimeWarning: divide by zero encountered in divide\n",
      "  r_squared = 1 - sq_diff.sum(axis = 0)/tss_time.sum(axis = 0) # sum over time\n"
     ]
    }
   ],
   "source": [
    "dutils.reweight_target(data_split = 'scoring')\n",
    "dutils.reweight_preds(data_split = 'scoring')\n",
    "\n",
    "dutils.metrics_names = ['MAE', 'RMSE', 'R2']\n",
    "dutils.create_metrics_df(data_split = 'scoring')"
   ]
  },
  {
   "cell_type": "code",
   "execution_count": 26,
   "id": "5749cb86-cec0-4fbb-b59c-bbaedb3a7fb5",
   "metadata": {},
   "outputs": [
    {
     "data": {
      "text/plain": [
       "['fake_model', 'fake_model_2']"
      ]
     },
     "execution_count": 26,
     "metadata": {},
     "output_type": "execute_result"
    }
   ],
   "source": [
    "dutils.model_names"
   ]
  },
  {
   "cell_type": "code",
   "execution_count": 27,
   "id": "a5d1bec5-fec7-4eb7-ba5c-130143a5d72a",
   "metadata": {},
   "outputs": [
    {
     "data": {
      "text/html": [
       "<div>\n",
       "<style scoped>\n",
       "    .dataframe tbody tr th:only-of-type {\n",
       "        vertical-align: middle;\n",
       "    }\n",
       "\n",
       "    .dataframe tbody tr th {\n",
       "        vertical-align: top;\n",
       "    }\n",
       "\n",
       "    .dataframe thead th {\n",
       "        text-align: right;\n",
       "    }\n",
       "</style>\n",
       "<table border=\"1\" class=\"dataframe\">\n",
       "  <thead>\n",
       "    <tr style=\"text-align: right;\">\n",
       "      <th></th>\n",
       "      <th>MAE</th>\n",
       "      <th>RMSE</th>\n",
       "      <th>R2</th>\n",
       "    </tr>\n",
       "    <tr>\n",
       "      <th>variable</th>\n",
       "      <th></th>\n",
       "      <th></th>\n",
       "      <th></th>\n",
       "    </tr>\n",
       "  </thead>\n",
       "  <tbody>\n",
       "    <tr>\n",
       "      <th>ptend_t</th>\n",
       "      <td>0.133498</td>\n",
       "      <td>0.165918</td>\n",
       "      <td>0.87188</td>\n",
       "    </tr>\n",
       "    <tr>\n",
       "      <th>ptend_q0001</th>\n",
       "      <td>0.117729</td>\n",
       "      <td>0.146369</td>\n",
       "      <td>-inf</td>\n",
       "    </tr>\n",
       "    <tr>\n",
       "      <th>cam_out_NETSW</th>\n",
       "      <td>0.334654</td>\n",
       "      <td>0.41666</td>\n",
       "      <td>-inf</td>\n",
       "    </tr>\n",
       "    <tr>\n",
       "      <th>cam_out_FLWDS</th>\n",
       "      <td>0.160149</td>\n",
       "      <td>0.199164</td>\n",
       "      <td>0.999664</td>\n",
       "    </tr>\n",
       "    <tr>\n",
       "      <th>cam_out_PRECSC</th>\n",
       "      <td>0.161144</td>\n",
       "      <td>0.200279</td>\n",
       "      <td>-inf</td>\n",
       "    </tr>\n",
       "    <tr>\n",
       "      <th>cam_out_PRECC</th>\n",
       "      <td>1.51049</td>\n",
       "      <td>1.877517</td>\n",
       "      <td>-inf</td>\n",
       "    </tr>\n",
       "    <tr>\n",
       "      <th>cam_out_SOLS</th>\n",
       "      <td>0.158699</td>\n",
       "      <td>0.197494</td>\n",
       "      <td>-inf</td>\n",
       "    </tr>\n",
       "    <tr>\n",
       "      <th>cam_out_SOLL</th>\n",
       "      <td>0.171769</td>\n",
       "      <td>0.214642</td>\n",
       "      <td>-inf</td>\n",
       "    </tr>\n",
       "    <tr>\n",
       "      <th>cam_out_SOLSD</th>\n",
       "      <td>0.130798</td>\n",
       "      <td>0.162638</td>\n",
       "      <td>-inf</td>\n",
       "    </tr>\n",
       "    <tr>\n",
       "      <th>cam_out_SOLLD</th>\n",
       "      <td>0.083245</td>\n",
       "      <td>0.103705</td>\n",
       "      <td>-inf</td>\n",
       "    </tr>\n",
       "  </tbody>\n",
       "</table>\n",
       "</div>"
      ],
      "text/plain": [
       "                     MAE      RMSE        R2\n",
       "variable                                    \n",
       "ptend_t         0.133498  0.165918   0.87188\n",
       "ptend_q0001     0.117729  0.146369      -inf\n",
       "cam_out_NETSW   0.334654   0.41666      -inf\n",
       "cam_out_FLWDS   0.160149  0.199164  0.999664\n",
       "cam_out_PRECSC  0.161144  0.200279      -inf\n",
       "cam_out_PRECC    1.51049  1.877517      -inf\n",
       "cam_out_SOLS    0.158699  0.197494      -inf\n",
       "cam_out_SOLL    0.171769  0.214642      -inf\n",
       "cam_out_SOLSD   0.130798  0.162638      -inf\n",
       "cam_out_SOLLD   0.083245  0.103705      -inf"
      ]
     },
     "execution_count": 27,
     "metadata": {},
     "output_type": "execute_result"
    }
   ],
   "source": [
    "dutils.metrics_var_scoring['fake_model']"
   ]
  },
  {
   "cell_type": "code",
   "execution_count": 31,
   "id": "68e0b1fa-826f-452b-b537-18a4435934be",
   "metadata": {},
   "outputs": [
    {
     "data": {
      "text/html": [
       "<div>\n",
       "<style scoped>\n",
       "    .dataframe tbody tr th:only-of-type {\n",
       "        vertical-align: middle;\n",
       "    }\n",
       "\n",
       "    .dataframe tbody tr th {\n",
       "        vertical-align: top;\n",
       "    }\n",
       "\n",
       "    .dataframe thead th {\n",
       "        text-align: right;\n",
       "    }\n",
       "</style>\n",
       "<table border=\"1\" class=\"dataframe\">\n",
       "  <thead>\n",
       "    <tr style=\"text-align: right;\">\n",
       "      <th></th>\n",
       "      <th>MAE</th>\n",
       "      <th>RMSE</th>\n",
       "      <th>R2</th>\n",
       "    </tr>\n",
       "    <tr>\n",
       "      <th>variable</th>\n",
       "      <th></th>\n",
       "      <th></th>\n",
       "      <th></th>\n",
       "    </tr>\n",
       "  </thead>\n",
       "  <tbody>\n",
       "    <tr>\n",
       "      <th>ptend_t</th>\n",
       "      <td>53.524392</td>\n",
       "      <td>66.504104</td>\n",
       "      <td>-20675.23643</td>\n",
       "    </tr>\n",
       "    <tr>\n",
       "      <th>ptend_q0001</th>\n",
       "      <td>47.195209</td>\n",
       "      <td>58.636937</td>\n",
       "      <td>-inf</td>\n",
       "    </tr>\n",
       "    <tr>\n",
       "      <th>cam_out_NETSW</th>\n",
       "      <td>133.711817</td>\n",
       "      <td>165.237406</td>\n",
       "      <td>-inf</td>\n",
       "    </tr>\n",
       "    <tr>\n",
       "      <th>cam_out_FLWDS</th>\n",
       "      <td>62.48986</td>\n",
       "      <td>77.847823</td>\n",
       "      <td>-48.521115</td>\n",
       "    </tr>\n",
       "    <tr>\n",
       "      <th>cam_out_PRECSC</th>\n",
       "      <td>64.595863</td>\n",
       "      <td>80.611717</td>\n",
       "      <td>-inf</td>\n",
       "    </tr>\n",
       "    <tr>\n",
       "      <th>cam_out_PRECC</th>\n",
       "      <td>615.071302</td>\n",
       "      <td>760.312131</td>\n",
       "      <td>-inf</td>\n",
       "    </tr>\n",
       "    <tr>\n",
       "      <th>cam_out_SOLS</th>\n",
       "      <td>63.500213</td>\n",
       "      <td>79.138954</td>\n",
       "      <td>-inf</td>\n",
       "    </tr>\n",
       "    <tr>\n",
       "      <th>cam_out_SOLL</th>\n",
       "      <td>68.836698</td>\n",
       "      <td>85.51523</td>\n",
       "      <td>-inf</td>\n",
       "    </tr>\n",
       "    <tr>\n",
       "      <th>cam_out_SOLSD</th>\n",
       "      <td>52.464927</td>\n",
       "      <td>65.637407</td>\n",
       "      <td>-inf</td>\n",
       "    </tr>\n",
       "    <tr>\n",
       "      <th>cam_out_SOLLD</th>\n",
       "      <td>33.614817</td>\n",
       "      <td>41.805703</td>\n",
       "      <td>-inf</td>\n",
       "    </tr>\n",
       "  </tbody>\n",
       "</table>\n",
       "</div>"
      ],
      "text/plain": [
       "                       MAE        RMSE           R2\n",
       "variable                                           \n",
       "ptend_t          53.524392   66.504104 -20675.23643\n",
       "ptend_q0001      47.195209   58.636937         -inf\n",
       "cam_out_NETSW   133.711817  165.237406         -inf\n",
       "cam_out_FLWDS     62.48986   77.847823   -48.521115\n",
       "cam_out_PRECSC   64.595863   80.611717         -inf\n",
       "cam_out_PRECC   615.071302  760.312131         -inf\n",
       "cam_out_SOLS     63.500213   79.138954         -inf\n",
       "cam_out_SOLL     68.836698    85.51523         -inf\n",
       "cam_out_SOLSD    52.464927   65.637407         -inf\n",
       "cam_out_SOLLD    33.614817   41.805703         -inf"
      ]
     },
     "execution_count": 31,
     "metadata": {},
     "output_type": "execute_result"
    }
   ],
   "source": [
    "dutils.metrics_var_scoring['fake_model_2']"
   ]
  },
  {
   "cell_type": "code",
   "execution_count": 28,
   "id": "66145833-3fd5-41e8-9a69-b805a13f0bf1",
   "metadata": {},
   "outputs": [
    {
     "data": {
      "text/html": [
       "<div>\n",
       "<style scoped>\n",
       "    .dataframe tbody tr th:only-of-type {\n",
       "        vertical-align: middle;\n",
       "    }\n",
       "\n",
       "    .dataframe tbody tr th {\n",
       "        vertical-align: top;\n",
       "    }\n",
       "\n",
       "    .dataframe thead th {\n",
       "        text-align: right;\n",
       "    }\n",
       "</style>\n",
       "<table border=\"1\" class=\"dataframe\">\n",
       "  <thead>\n",
       "    <tr style=\"text-align: right;\">\n",
       "      <th></th>\n",
       "      <th>MAE</th>\n",
       "      <th>RMSE</th>\n",
       "      <th>R2</th>\n",
       "    </tr>\n",
       "    <tr>\n",
       "      <th>output_idx</th>\n",
       "      <th></th>\n",
       "      <th></th>\n",
       "      <th></th>\n",
       "    </tr>\n",
       "  </thead>\n",
       "  <tbody>\n",
       "    <tr>\n",
       "      <th>0</th>\n",
       "      <td>0.000367</td>\n",
       "      <td>0.000456</td>\n",
       "      <td>0.96964</td>\n",
       "    </tr>\n",
       "    <tr>\n",
       "      <th>1</th>\n",
       "      <td>0.000656</td>\n",
       "      <td>0.000818</td>\n",
       "      <td>0.995107</td>\n",
       "    </tr>\n",
       "    <tr>\n",
       "      <th>2</th>\n",
       "      <td>0.001162</td>\n",
       "      <td>0.001447</td>\n",
       "      <td>0.986604</td>\n",
       "    </tr>\n",
       "    <tr>\n",
       "      <th>3</th>\n",
       "      <td>0.002043</td>\n",
       "      <td>0.002541</td>\n",
       "      <td>0.975119</td>\n",
       "    </tr>\n",
       "    <tr>\n",
       "      <th>4</th>\n",
       "      <td>0.003476</td>\n",
       "      <td>0.004299</td>\n",
       "      <td>0.967756</td>\n",
       "    </tr>\n",
       "    <tr>\n",
       "      <th>...</th>\n",
       "      <td>...</td>\n",
       "      <td>...</td>\n",
       "      <td>...</td>\n",
       "    </tr>\n",
       "    <tr>\n",
       "      <th>123</th>\n",
       "      <td>1.51049</td>\n",
       "      <td>1.877517</td>\n",
       "      <td>-inf</td>\n",
       "    </tr>\n",
       "    <tr>\n",
       "      <th>124</th>\n",
       "      <td>0.158699</td>\n",
       "      <td>0.197494</td>\n",
       "      <td>-inf</td>\n",
       "    </tr>\n",
       "    <tr>\n",
       "      <th>125</th>\n",
       "      <td>0.171769</td>\n",
       "      <td>0.214642</td>\n",
       "      <td>-inf</td>\n",
       "    </tr>\n",
       "    <tr>\n",
       "      <th>126</th>\n",
       "      <td>0.130798</td>\n",
       "      <td>0.162638</td>\n",
       "      <td>-inf</td>\n",
       "    </tr>\n",
       "    <tr>\n",
       "      <th>127</th>\n",
       "      <td>0.083245</td>\n",
       "      <td>0.103705</td>\n",
       "      <td>-inf</td>\n",
       "    </tr>\n",
       "  </tbody>\n",
       "</table>\n",
       "<p>128 rows × 3 columns</p>\n",
       "</div>"
      ],
      "text/plain": [
       "                 MAE      RMSE        R2\n",
       "output_idx                              \n",
       "0           0.000367  0.000456   0.96964\n",
       "1           0.000656  0.000818  0.995107\n",
       "2           0.001162  0.001447  0.986604\n",
       "3           0.002043  0.002541  0.975119\n",
       "4           0.003476  0.004299  0.967756\n",
       "...              ...       ...       ...\n",
       "123          1.51049  1.877517      -inf\n",
       "124         0.158699  0.197494      -inf\n",
       "125         0.171769  0.214642      -inf\n",
       "126         0.130798  0.162638      -inf\n",
       "127         0.083245  0.103705      -inf\n",
       "\n",
       "[128 rows x 3 columns]"
      ]
     },
     "execution_count": 28,
     "metadata": {},
     "output_type": "execute_result"
    }
   ],
   "source": [
    "dutils.metrics_idx_scoring['fake_model']"
   ]
  },
  {
   "cell_type": "code",
   "execution_count": null,
   "id": "92463bc4-714c-4e9b-b8dd-60df2bb83b81",
   "metadata": {},
   "outputs": [],
   "source": []
  }
 ],
 "metadata": {
  "kernelspec": {
   "display_name": "Python 3 (ipykernel)",
   "language": "python",
   "name": "python3"
  },
  "language_info": {
   "codemirror_mode": {
    "name": "ipython",
    "version": 3
   },
   "file_extension": ".py",
   "mimetype": "text/x-python",
   "name": "python",
   "nbconvert_exporter": "python",
   "pygments_lexer": "ipython3",
   "version": "3.12.7"
  }
 },
 "nbformat": 4,
 "nbformat_minor": 5
}
