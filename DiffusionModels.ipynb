{
 "cells": [
  {
   "cell_type": "code",
   "execution_count": 3,
   "id": "7dc68eeb-2320-4e3a-b1c9-923fdfbea2f0",
   "metadata": {},
   "outputs": [
    {
     "data": {
      "text/plain": [
       "['leap-persistent/sammyagrawal/input_climsim.npy',\n",
       " 'leap-persistent/sammyagrawal/output_climsim.npy']"
      ]
     },
     "execution_count": 3,
     "metadata": {},
     "output_type": "execute_result"
    }
   ],
   "source": [
    "import xarray as xr\n",
    "import numpy as np\n",
    "import pandas as pd\n",
    "import matplotlib.pyplot as plt\n",
    "\n",
    "from tqdm import tqdm\n",
    "from dataclasses import dataclass, field, asdict\n",
    "from typing import List, Dict, Tuple, Optional, Union\n",
    "\n",
    "import gcsfs\n",
    "import os\n",
    "import sys\n",
    "import json\n",
    "sys.path.append(os.path.abspath(os.path.join('diffusionsim')))\n",
    "os.environ['XLA_FLAGS'] = '--xla_gpu_cuda_data_dir=/srv/conda/envs/notebook'\n",
    "\n",
    "fs = gcsfs.GCSFileSystem()\n",
    "fs.ls(\"gs://leap-persistent/sammyagrawal/\") # List files in the bucket where the E3SM-MMF dataset is stored"
   ]
  },
  {
   "cell_type": "code",
   "execution_count": 4,
   "id": "a1c1719b-e9f8-4eb7-805f-dc09edf18397",
   "metadata": {},
   "outputs": [
    {
     "data": {
      "text/plain": [
       "'cuda'"
      ]
     },
     "execution_count": 4,
     "metadata": {},
     "output_type": "execute_result"
    }
   ],
   "source": [
    "import torch\n",
    "import torch.nn as nn\n",
    "from torch.utils.data import Dataset, DataLoader\n",
    "import xbatcher\n",
    "import torch.nn.functional as F\n",
    "\n",
    "import diffusers\n",
    "import diffusionsim as diff\n",
    "import diffusionsim.training_utils as tru\n",
    "from diffusionsim import mydatasets as data\n",
    "\n",
    "device = 'cuda' if torch.cuda.is_available() else 'cpu'\n",
    "device"
   ]
  },
  {
   "cell_type": "markdown",
   "id": "888649d2-9b90-41fc-8b6e-923ff82ee858",
   "metadata": {},
   "source": [
    "## Script Setup"
   ]
  },
  {
   "cell_type": "markdown",
   "id": "2a0f5593-0b9a-423a-bcbf-6d70c7d6518a",
   "metadata": {},
   "source": [
    "#### define and save all configs"
   ]
  },
  {
   "cell_type": "code",
   "execution_count": 6,
   "id": "373cc0e4-3035-4e9c-8e83-ebf1c0090672",
   "metadata": {},
   "outputs": [],
   "source": [
    "from pprint import pprint"
   ]
  },
  {
   "cell_type": "code",
   "execution_count": 7,
   "id": "3b95a6a0-6b3d-4820-abb6-73fe696cdefe",
   "metadata": {},
   "outputs": [
    {
     "data": {
      "text/plain": [
       "UNetParams(sample_size=(16, 24), in_channels=128, out_channels=128, block_out_channels=(128, 256, 512), down_block_types=('DownBlock2D', 'DownBlock2D', 'DownBlock2D'), up_block_types=('UpBlock2D', 'UpBlock2D', 'UpBlock2D'), layers_per_block=1, norm_num_groups=4)"
      ]
     },
     "execution_count": 7,
     "metadata": {},
     "output_type": "execute_result"
    }
   ],
   "source": [
    "unet = tru.UNetParams()\n",
    "unet.block_out_channels = (128, 256, 512)\n",
    "unet.down_block_types = (\"DownBlock2D\", \"DownBlock2D\", \"DownBlock2D\")\n",
    "unet.up_block_types = (\"UpBlock2D\", \"UpBlock2D\", \"UpBlock2D\")\n",
    "unet.layers_per_block = 1\n",
    "unet.norm_num_groups = 4\n",
    "unet"
   ]
  },
  {
   "cell_type": "code",
   "execution_count": 8,
   "id": "5800c620-f511-46bb-90d4-e02839c31662",
   "metadata": {},
   "outputs": [
    {
     "data": {
      "text/plain": [
       "SchedulerParams(num_train_timesteps=100, beta_schedule='linear', clip_sample=False, clip_sample_range=4.0)"
      ]
     },
     "execution_count": 8,
     "metadata": {},
     "output_type": "execute_result"
    }
   ],
   "source": [
    "scheduler = tru.SchedulerParams()\n",
    "scheduler"
   ]
  },
  {
   "cell_type": "code",
   "execution_count": 9,
   "id": "e3fb5587-3a2e-47bf-ae42-e59f4497b821",
   "metadata": {},
   "outputs": [
    {
     "name": "stdout",
     "output_type": "stream",
     "text": [
      "{'ae_hidden_dims': [64, 32, 16],\n",
      " 'data_vars': 'v1',\n",
      " 'disable_enc_logstd_bias': True,\n",
      " 'latent_dims': 16,\n",
      " 'model_type': 'ddpm_diffusion',\n",
      " 'num_channels': 128,\n",
      " 'scheduler': {'beta_schedule': 'linear',\n",
      "               'clip_sample': False,\n",
      "               'clip_sample_range': 4.0,\n",
      "               'num_train_timesteps': 100},\n",
      " 'scheduler_type': 'ddpm',\n",
      " 'unet': {'block_out_channels': (128, 256, 512),\n",
      "          'down_block_types': ('DownBlock2D', 'DownBlock2D', 'DownBlock2D'),\n",
      "          'in_channels': 128,\n",
      "          'layers_per_block': 1,\n",
      "          'norm_num_groups': 4,\n",
      "          'out_channels': 128,\n",
      "          'sample_size': (16, 24),\n",
      "          'up_block_types': ('UpBlock2D', 'UpBlock2D', 'UpBlock2D')}}\n"
     ]
    }
   ],
   "source": [
    "mconfig = diff.ModelConfig()\n",
    "mconfig.model_type = \"ddpm_diffusion\"\n",
    "mconfig.unet = unet\n",
    "mconfig.scheduler = scheduler\n",
    "pprint(asdict(mconfig))"
   ]
  },
  {
   "cell_type": "code",
   "execution_count": 12,
   "id": "1622f60b-9951-44e3-a42a-fe4966207a5d",
   "metadata": {},
   "outputs": [
    {
     "name": "stdout",
     "output_type": "stream",
     "text": [
      "{'chunksize': {},\n",
      " 'climsim_type': 'low-res',\n",
      " 'data_vars': 'v1',\n",
      " 'dataloader_params': {'batch_size': 128,\n",
      "                       'multiprocessing_context': 'forkserver',\n",
      "                       'num_workers': 8,\n",
      "                       'persistent_workers': True,\n",
      "                       'pin_memory': True,\n",
      "                       'prefetch_factor': 4,\n",
      "                       'shuffle': True},\n",
      " 'dataset_type': 'XBatchDataset',\n",
      " 'norm_info': 'image',\n",
      " 'prenormalize': False,\n",
      " 'train_test_split': [1.0],\n",
      " 'use_tendencies': False,\n",
      " 'xarr_subsamples': (36, 210240, 144)}\n"
     ]
    }
   ],
   "source": [
    "dl_params = tru.TrainLoaderParams()\n",
    "dl_params.batch_size = 128\n",
    "dl_params.shuffle = True\n",
    "dl_params.num_workers = 8\n",
    "dl_params.prefetch_factor = 4\n",
    "dl_params.persistent_workers = True\n",
    "dl_params.multiprocessing_context = \"forkserver\"\n",
    "dconfig = tru.DataConfig()\n",
    "dconfig.train_test_split = [1.0]\n",
    "dconfig.dataloader_params = dl_params\n",
    "pprint(asdict(dconfig))"
   ]
  },
  {
   "cell_type": "code",
   "execution_count": 13,
   "id": "356246fe-eca3-4a12-81ad-09792c8ad525",
   "metadata": {},
   "outputs": [
    {
     "name": "stdout",
     "output_type": "stream",
     "text": [
      "{'batch_checkpoint_interval': 100,\n",
      " 'batch_logging_interval': 25,\n",
      " 'beta': 0.2,\n",
      " 'betas': (0.9, 0.999),\n",
      " 'clip_gradients': True,\n",
      " 'distributed_training': False,\n",
      " 'exp_id': 'full_dataset_testrun',\n",
      " 'learning_rate': 5e-05,\n",
      " 'log_gradients': False,\n",
      " 'lr_scheduler': 'get_cosine_schedule_with_warmup',\n",
      " 'num_epochs': 20,\n",
      " 'optimizer': 'adam',\n",
      " 'phases': ['train'],\n",
      " 'push_to_hub': False,\n",
      " 'save_best_epoch': True}\n"
     ]
    }
   ],
   "source": [
    "tconfig = diff.TrainingConfig()\n",
    "tconfig.exp_id = 'full_dataset_testrun'\n",
    "tconfig.num_epochs = 20\n",
    "tconfig.phases = ['train']\n",
    "tconfig.train_test_split=[1.0]\n",
    "\n",
    "tconfig.lr_scheduler = 'get_cosine_schedule_with_warmup'\n",
    "tconfig.lr_warmup_steps = 100\n",
    "tconfig.learning_rate = 5e-5\n",
    "tconfig.batch_logging_interval = 25\n",
    "tconfig.batch_checkpoint_interval = 100\n",
    "tconfig.save_best_epoch = True\n",
    "tconfig.log_gradients = False\n",
    "\n",
    "pprint(asdict(tconfig))"
   ]
  },
  {
   "cell_type": "code",
   "execution_count": 14,
   "id": "615ffbf7-5aea-48ed-8b0c-28297a38e4f6",
   "metadata": {},
   "outputs": [],
   "source": [
    "def setup_run(tconfig, mconfig, dconfig, run_id, exp_dir=\"./experiments\"):\n",
    "    from pathlib import Path\n",
    "    base_dir = os.path.join(exp_dir, tconfig.exp_id)\n",
    "    Path(base_dir).mkdir(parents=True, exist_ok=True)\n",
    "\n",
    "    with open(os.path.join(base_dir, f\"{run_id}.json\"), \"w\") as f:\n",
    "        json.dump(dict(\n",
    "            training_config=asdict(tconfig),\n",
    "            model_config=asdict(mconfig),\n",
    "            data_config=asdict(dconfig),\n",
    "        ), f)\n",
    "        "
   ]
  },
  {
   "cell_type": "code",
   "execution_count": 15,
   "id": "cfd130d9-cbe8-4047-877b-77f3e769d05a",
   "metadata": {},
   "outputs": [],
   "source": [
    "setup_run(tconfig, mconfig, dconfig, \"trial_1b\")"
   ]
  },
  {
   "cell_type": "code",
   "execution_count": 14,
   "id": "9849ccda-2c70-47f5-83ef-0d1da56528f6",
   "metadata": {},
   "outputs": [],
   "source": []
  },
  {
   "cell_type": "markdown",
   "id": "de8893da-9282-4b94-85de-898a86e228fa",
   "metadata": {},
   "source": [
    "### Load Model and Dataset"
   ]
  },
  {
   "cell_type": "code",
   "execution_count": 5,
   "id": "39b267bb-2c62-4da0-abeb-d03c00eb465a",
   "metadata": {},
   "outputs": [],
   "source": [
    "exp_id = \"full_dataset_testrun\"\n",
    "run_id = \"trial_1\"\n",
    "tconfig, mconfig, dconfig = tru.load_config(run_id, exp_id)"
   ]
  },
  {
   "cell_type": "code",
   "execution_count": 6,
   "id": "c8ecc099-7c5a-41ad-8e6d-24eb598cba10",
   "metadata": {},
   "outputs": [],
   "source": [
    "model = tru.load_model(mconfig)"
   ]
  },
  {
   "cell_type": "code",
   "execution_count": 7,
   "id": "01338693-d15d-49e9-ac51-ed256a742243",
   "metadata": {},
   "outputs": [
    {
     "data": {
      "text/plain": [
       "<All keys matched successfully>"
      ]
     },
     "execution_count": 7,
     "metadata": {},
     "output_type": "execute_result"
    }
   ],
   "source": [
    "cpath = os.path.join(\"experiments\", exp_id, f\"{run_id}-ckpt.pt\")\n",
    "model.load_state_dict(torch.load(cpath, map_location=torch.device('cpu')))\n"
   ]
  },
  {
   "cell_type": "code",
   "execution_count": 18,
   "id": "00ec115d-bfbd-46de-bb9e-d3ead498a687",
   "metadata": {},
   "outputs": [
    {
     "data": {
      "text/plain": [
       "DataConfig(dataset_type='XBatchDataset', climsim_type='low-res', train_test_split=[1.0, 0.0], dataloader_params=TrainLoaderParams(batch_size=128, shuffle=False, num_workers=0, prefetch_factor=None, persistent_workers=False, multiprocessing_context=None, pin_memory=True), xarr_subsamples=[36, 210240, 144], data_vars='v1', use_tendencies=False, norm_info='image', prenormalize=False, chunksize={})"
      ]
     },
     "execution_count": 18,
     "metadata": {},
     "output_type": "execute_result"
    }
   ],
   "source": [
    "dconfig.dataloader_params.batch_size = 128\n",
    "dconfig"
   ]
  },
  {
   "cell_type": "code",
   "execution_count": 19,
   "id": "1b170cdf-7b4c-4c27-bcfd-20cb410e14ff",
   "metadata": {},
   "outputs": [
    {
     "name": "stdout",
     "output_type": "stream",
     "text": [
      "{\"event\": \"get-batch start\", \"time\": 1727163455.008665, \"pid\": 2137, \"batch_idx\": 0}\n",
      "{\"event\": \"get-batch end\", \"time\": 1727163457.1926517, \"pid\": 2137, \"batch_idx\": 0, \"duration\": 2.183980703353882}\n"
     ]
    }
   ],
   "source": [
    "trainer = tru.setup_trainer(exp_id, run_id, tconfig, mconfig, dconfig)"
   ]
  },
  {
   "cell_type": "code",
   "execution_count": 6,
   "id": "cc7ae66f-6438-4a81-a561-4e380a9f6a28",
   "metadata": {},
   "outputs": [
    {
     "ename": "AttributeError",
     "evalue": "'DiffusionTrainer' object has no attribute 'losses'",
     "output_type": "error",
     "traceback": [
      "\u001b[0;31m---------------------------------------------------------------------------\u001b[0m",
      "\u001b[0;31mAttributeError\u001b[0m                            Traceback (most recent call last)",
      "Cell \u001b[0;32mIn[6], line 1\u001b[0m\n\u001b[0;32m----> 1\u001b[0m \u001b[43mtrainer\u001b[49m\u001b[38;5;241;43m.\u001b[39;49m\u001b[43mlosses\u001b[49m\n",
      "\u001b[0;31mAttributeError\u001b[0m: 'DiffusionTrainer' object has no attribute 'losses'"
     ]
    }
   ],
   "source": [
    "trainer.losses"
   ]
  },
  {
   "cell_type": "code",
   "execution_count": 50,
   "id": "c6ede6f0-57b5-458d-990a-5f404fdb6a46",
   "metadata": {},
   "outputs": [
    {
     "data": {
      "text/plain": [
       "1642"
      ]
     },
     "execution_count": 50,
     "metadata": {},
     "output_type": "execute_result"
    }
   ],
   "source": [
    "dl = trainer.dataloaders['train']\n",
    "len(dl)"
   ]
  },
  {
   "cell_type": "code",
   "execution_count": 48,
   "id": "c2bc59d7-6349-462d-a044-4139f907b682",
   "metadata": {},
   "outputs": [
    {
     "name": "stdout",
     "output_type": "stream",
     "text": [
      "{\"event\": \"get-batch start\", \"time\": 1727156669.6265342, \"pid\": 1161, \"batch_idx\": 0}\n",
      "{\"event\": \"get-batch end\", \"time\": 1727156672.7288375, \"pid\": 1161, \"batch_idx\": 0, \"duration\": 3.1022987365722656}\n"
     ]
    }
   ],
   "source": [
    "batch = next(iter(dl))\n",
    "batch.shape"
   ]
  },
  {
   "cell_type": "code",
   "execution_count": null,
   "id": "0dc84107-ae55-4b5e-ad5a-0952f908b9be",
   "metadata": {},
   "outputs": [],
   "source": [
    "trainer.train_dataloader"
   ]
  },
  {
   "cell_type": "code",
   "execution_count": 24,
   "id": "9932608f-83c1-46f2-adc0-43401cb9d513",
   "metadata": {},
   "outputs": [],
   "source": [
    "dliter = iter(trainer.train_dataloader)"
   ]
  },
  {
   "cell_type": "code",
   "execution_count": 25,
   "id": "e2157242-1770-48e5-b310-0f13e55388ef",
   "metadata": {},
   "outputs": [
    {
     "name": "stdout",
     "output_type": "stream",
     "text": [
      "{\"event\": \"get-batch start\", \"time\": 1727071776.0274649, \"pid\": 4425, \"batch_idx\": 0}\n",
      "{\"event\": \"get-batch end\", \"time\": 1727071777.968296, \"pid\": 4425, \"batch_idx\": 0, \"duration\": 1.9408290386199951}\n"
     ]
    }
   ],
   "source": [
    "images = next(dliter)"
   ]
  },
  {
   "cell_type": "code",
   "execution_count": 28,
   "id": "5e1ecb4c-7e34-4a5d-8477-b09eb8251d85",
   "metadata": {},
   "outputs": [],
   "source": [
    "noises = torch.randn(images.shape, device=trainer.device)\n",
    "timesteps = torch.randint(0, trainer.scheduler.config.num_train_timesteps, \n",
    "        size=(images.shape[0],), device=trainer.device, dtype=torch.int64)\n",
    "images = trainer.scheduler.add_noise(images.to(trainer.device), noises, timesteps)"
   ]
  },
  {
   "cell_type": "code",
   "execution_count": 35,
   "id": "622e6968-c3ad-4d5a-a2cf-2167c5e157d4",
   "metadata": {},
   "outputs": [
    {
     "data": {
      "text/plain": [
       "device(type='cuda', index=0)"
      ]
     },
     "execution_count": 35,
     "metadata": {},
     "output_type": "execute_result"
    }
   ],
   "source": [
    "trainer.model.device"
   ]
  },
  {
   "cell_type": "code",
   "execution_count": 39,
   "id": "1e277a16-d269-45f9-8f82-50cdce4b685a",
   "metadata": {},
   "outputs": [
    {
     "name": "stdout",
     "output_type": "stream",
     "text": [
      "CPU times: user 32.9 ms, sys: 828 µs, total: 33.8 ms\n",
      "Wall time: 33.1 ms\n"
     ]
    },
    {
     "data": {
      "text/plain": [
       "tensor(1.0623, device='cuda:0', grad_fn=<MseLossBackward0>)"
      ]
     },
     "execution_count": 39,
     "metadata": {},
     "output_type": "execute_result"
    }
   ],
   "source": [
    "%%time\n",
    "loss = trainer._run_batch(images, timesteps, noises, phase='train')\n",
    "loss"
   ]
  },
  {
   "cell_type": "code",
   "execution_count": 23,
   "id": "76d8eb35-c5e7-46c9-bdab-d7ce300c2a7b",
   "metadata": {},
   "outputs": [
    {
     "data": {
      "text/plain": [
       "<torch.utils.data.dataloader.DataLoader at 0x7d20b1c50050>"
      ]
     },
     "execution_count": 23,
     "metadata": {},
     "output_type": "execute_result"
    }
   ],
   "source": [
    "for step, images in enumerate(trainer.train_dataloader):\n",
    "    "
   ]
  },
  {
   "cell_type": "code",
   "execution_count": 7,
   "id": "37f16cdb-289a-452f-abd6-4ee8e01f161f",
   "metadata": {},
   "outputs": [],
   "source": [
    "model = diff.load_model(mconfig)"
   ]
  },
  {
   "cell_type": "code",
   "execution_count": 6,
   "id": "64390c1f-b7ab-4a29-93a9-f8029252ba70",
   "metadata": {},
   "outputs": [
    {
     "data": {
      "text/plain": [
       "TrainLoaderParams(batch_size=128, shuffle=False, num_workers=8, prefetch_factor=6, persistent_workers=True, multiprocessing_context='forkserver', pin_memory=True)"
      ]
     },
     "execution_count": 6,
     "metadata": {},
     "output_type": "execute_result"
    }
   ],
   "source": [
    "dconfig.dataloader_params"
   ]
  },
  {
   "cell_type": "code",
   "execution_count": 6,
   "id": "3747120f-15c1-482e-a767-c0655fd58f7b",
   "metadata": {},
   "outputs": [],
   "source": [
    "def load_dataset(dconfig):\n",
    "    if(dconfig.source and dconfig.climsim_type):\n",
    "        input_vars, output_vars = data.load_vars(dconfig.data_vars, tendencies=dconfig.use_tendencies)\n",
    "        dsi, dso = data.load_raw_dataset(dconfig.climsim_type, chunks=True, chunksizes=dconfig.chunksize)\n",
    "        dso = dso[output_vars].rename({'sample':'time'})\n",
    "    dso = data.add_space(dso)\n",
    "    match dconfig.dataset_type.lower():\n",
    "        case ds if \"xbatch\" in ds:\n",
    "            return(data.XBatchDataset(dso, dconfig))"
   ]
  },
  {
   "cell_type": "code",
   "execution_count": 7,
   "id": "54944ee4-0e1c-46c9-9c2f-eeb4492d8653",
   "metadata": {},
   "outputs": [
    {
     "name": "stdout",
     "output_type": "stream",
     "text": [
      "{\"event\": \"get-batch start\", \"time\": 1727039201.1744354, \"pid\": 2134, \"batch_idx\": 0}\n",
      "{\"event\": \"get-batch end\", \"time\": 1727039203.628371, \"pid\": 2134, \"batch_idx\": 0, \"duration\": 2.453913688659668}\n"
     ]
    }
   ],
   "source": [
    "dataset = data.load_dataset(dconfig)\n",
    "item = dataset[0]\n",
    "\n",
    "print(f\"Batch is {item.nbytes / 1e6} mB\")\n",
    "print(f\"Dataset is {item.nbytes * len(dataset) / 1e9} gB\")\n",
    "item.shape # batch size already included"
   ]
  },
  {
   "cell_type": "code",
   "execution_count": 11,
   "id": "d0815aaf-026c-4930-bcc0-5cbada757b14",
   "metadata": {},
   "outputs": [
    {
     "name": "stdout",
     "output_type": "stream",
     "text": [
      "1\n"
     ]
    },
    {
     "data": {
      "text/plain": [
       "<torch.utils.data.dataloader.DataLoader at 0x788f630c4080>"
      ]
     },
     "execution_count": 11,
     "metadata": {},
     "output_type": "execute_result"
    }
   ],
   "source": [
    "dataloader = data.load_dataloader(dconfig)\n",
    "print(dataloader.batch_size)\n",
    "dataloader"
   ]
  },
  {
   "cell_type": "code",
   "execution_count": 12,
   "id": "8827bcdd-777f-466a-80aa-518bd183b8ca",
   "metadata": {},
   "outputs": [],
   "source": [
    "batch = next(iter(dataloader))"
   ]
  },
  {
   "cell_type": "code",
   "execution_count": 15,
   "id": "8ba05da8-5c70-4f71-a5c0-89737dfabb89",
   "metadata": {},
   "outputs": [
    {
     "name": "stdout",
     "output_type": "stream",
     "text": [
      "True\n"
     ]
    },
    {
     "data": {
      "text/plain": [
       "torch.Size([128, 128, 16, 24])"
      ]
     },
     "execution_count": 15,
     "metadata": {},
     "output_type": "execute_result"
    }
   ],
   "source": [
    "print((batch == item).all().item())\n",
    "batch.shape"
   ]
  },
  {
   "cell_type": "code",
   "execution_count": 11,
   "id": "3a51c040-ce42-4c56-b2ef-b2d3006bba25",
   "metadata": {},
   "outputs": [],
   "source": [
    "scheduler = data.load_scheduler(mconfig)\n",
    "noisy_images, timesteps, noise = data.noise_batch(scheduler, item.to(device), device)"
   ]
  },
  {
   "cell_type": "code",
   "execution_count": 16,
   "id": "e594d09d-dbbe-4770-bebb-cf987026eb74",
   "metadata": {},
   "outputs": [],
   "source": [
    "loss_fn = torch.nn.MSELoss()"
   ]
  },
  {
   "cell_type": "code",
   "execution_count": 19,
   "id": "5576ffd4-8e57-45b1-9aa9-c8028142c7e1",
   "metadata": {},
   "outputs": [],
   "source": [
    "optimizer = diff.trainers.create_optimizer(model, tconfig)"
   ]
  },
  {
   "cell_type": "code",
   "execution_count": 20,
   "id": "519c8be3-5146-4721-b222-7c8bced2afc2",
   "metadata": {},
   "outputs": [
    {
     "name": "stdout",
     "output_type": "stream",
     "text": [
      "CPU times: user 310 ms, sys: 103 ms, total: 413 ms\n",
      "Wall time: 649 ms\n"
     ]
    }
   ],
   "source": [
    "%%time\n",
    "noisy_images, timesteps, noise = data.noise_batch(scheduler, item.to(device), device)\n",
    "pred = model(noisy_images, timesteps).sample\n",
    "loss = loss_fn(pred, noise)\n",
    "optimizer.zero_grad()\n",
    "loss.backward()\n",
    "optimizer.step()"
   ]
  },
  {
   "cell_type": "code",
   "execution_count": 12,
   "id": "79b4872d-b8aa-4b69-9bde-ab5ac7b59039",
   "metadata": {},
   "outputs": [],
   "source": [
    "def setup(batch_size):\n",
    "    tconfig = diff.TrainingConfig(); tconfig.run_id = 'full_dataset_testrun0'; tconfig.phases = ['train'];\n",
    "    mconfig = diff.ModelConfig(); mconfig.model_type = \"ddpm_diffusion\"; mconfig.block_out_channels = (128, 256, 512);\n",
    "    mconfig.down_blocks = (\"DownBlock2D\", \"DownBlock2D\", \"DownBlock2D\"); mconfig.up_blocks = (\"UpBlock2D\", \"UpBlock2D\", \"UpBlock2D\")\n",
    "    model = diff.load_model(mconfig)\n",
    "    input_vars, output_vars = data.load_vars('v1', tendencies=False)\n",
    "    mapper = fs.get_mapper('leap-persistent-ro/sungdukyu/E3SM-MMF_ne4.train.output.zarr')\n",
    "    ds_out = xr.open_dataset(mapper, engine='zarr', chunks={})\n",
    "    ds_out = ds_out[output_vars].rename({'sample':'time'})\n",
    "    ds_out = data.add_space(ds_out)\n",
    "    dataset = XBatchDataset(ds_out, batch_size, mconfig, normalize=False, log=True)\n",
    "    loss_fn = torch.nn.MSELoss()\n",
    "    trainer = diff.trainers.DiffusionTrainer(model, dict(train=dataset), loss_fn, tconfig, mconfig, tconfig.run_id) \n",
    "    return(trainer)"
   ]
  },
  {
   "cell_type": "code",
   "execution_count": 14,
   "id": "e177599d-7834-42a3-bf68-051c62d58372",
   "metadata": {},
   "outputs": [],
   "source": [
    "trainer = setup(64)"
   ]
  },
  {
   "cell_type": "code",
   "execution_count": 57,
   "id": "52f01bb1-a85f-49b8-b474-119f6ac58647",
   "metadata": {},
   "outputs": [
    {
     "name": "stdout",
     "output_type": "stream",
     "text": [
      "{\"event\": \"get-batch start\", \"time\": 1726243303.2566402, \"pid\": 1914, \"batch_idx\": 0}\n",
      "{\"event\": \"get-batch end\", \"time\": 1726243305.3516285, \"pid\": 1914, \"batch_idx\": 0, \"duration\": 2.0949854850769043}\n"
     ]
    }
   ],
   "source": [
    "b=trainer.datasets['train'][0]"
   ]
  },
  {
   "cell_type": "raw",
   "id": "7b842b57-b622-4604-bd26-ca46fc90fbb5",
   "metadata": {},
   "source": [
    "data_params = dict(batch_size=1, num_workers=0, pin_memory=True,)\n",
    "data_params"
   ]
  },
  {
   "cell_type": "code",
   "execution_count": 60,
   "id": "0aa64842-991c-4cde-b471-82686341ca85",
   "metadata": {},
   "outputs": [],
   "source": [
    "def collate_test_fn(batches):\n",
    "    return(batches[0])\n",
    "    \n",
    "training_generator = torch.utils.data.DataLoader(\n",
    "    trainer.datasets['train'], collate_fn=collate_test_fn, **data_params\n",
    ")\n"
   ]
  },
  {
   "cell_type": "code",
   "execution_count": 53,
   "id": "ba165b93-bd9f-4927-a5e6-9586d11f8937",
   "metadata": {},
   "outputs": [
    {
     "name": "stdout",
     "output_type": "stream",
     "text": [
      "{\"event\": \"get-batch start\", \"time\": 1726243207.7598414, \"pid\": 1914, \"batch_idx\": 0}\n",
      "{\"event\": \"get-batch end\", \"time\": 1726243215.8263078, \"pid\": 1914, \"batch_idx\": 0, \"duration\": 8.066444158554077}\n",
      "{\"event\": \"get-batch start\", \"time\": 1726243215.8279073, \"pid\": 1914, \"batch_idx\": 1}\n",
      "{\"event\": \"get-batch end\", \"time\": 1726243219.7010834, \"pid\": 1914, \"batch_idx\": 1, \"duration\": 3.873154878616333}\n",
      "{\"event\": \"get-batch start\", \"time\": 1726243219.701282, \"pid\": 1914, \"batch_idx\": 2}\n",
      "{\"event\": \"get-batch end\", \"time\": 1726243222.8203707, \"pid\": 1914, \"batch_idx\": 2, \"duration\": 3.1190857887268066}\n",
      "{\"event\": \"get-batch start\", \"time\": 1726243222.8205605, \"pid\": 1914, \"batch_idx\": 3}\n",
      "{\"event\": \"get-batch end\", \"time\": 1726243224.8625782, \"pid\": 1914, \"batch_idx\": 3, \"duration\": 2.0420143604278564}\n",
      "{\"event\": \"get-batch start\", \"time\": 1726243224.862789, \"pid\": 1914, \"batch_idx\": 4}\n",
      "{\"event\": \"get-batch end\", \"time\": 1726243226.8881688, \"pid\": 1914, \"batch_idx\": 4, \"duration\": 2.025374412536621}\n",
      "{\"event\": \"get-batch start\", \"time\": 1726243226.888411, \"pid\": 1914, \"batch_idx\": 5}\n",
      "{\"event\": \"get-batch end\", \"time\": 1726243228.9247057, \"pid\": 1914, \"batch_idx\": 5, \"duration\": 2.036290407180786}\n",
      "{\"event\": \"get-batch start\", \"time\": 1726243228.9249487, \"pid\": 1914, \"batch_idx\": 6}\n",
      "{\"event\": \"get-batch end\", \"time\": 1726243232.3385448, \"pid\": 1914, \"batch_idx\": 6, \"duration\": 3.413591146469116}\n",
      "{\"event\": \"get-batch start\", \"time\": 1726243232.338764, \"pid\": 1914, \"batch_idx\": 7}\n",
      "{\"event\": \"get-batch end\", \"time\": 1726243235.6492922, \"pid\": 1914, \"batch_idx\": 7, \"duration\": 3.31052303314209}\n",
      "{\"event\": \"get-batch start\", \"time\": 1726243235.6495442, \"pid\": 1914, \"batch_idx\": 8}\n",
      "{\"event\": \"get-batch end\", \"time\": 1726243237.738719, \"pid\": 1914, \"batch_idx\": 8, \"duration\": 2.0891714096069336}\n",
      "{\"event\": \"get-batch start\", \"time\": 1726243237.7389407, \"pid\": 1914, \"batch_idx\": 9}\n",
      "{\"event\": \"get-batch end\", \"time\": 1726243239.8241246, \"pid\": 1914, \"batch_idx\": 9, \"duration\": 2.0851809978485107}\n",
      "{\"event\": \"get-batch start\", \"time\": 1726243239.82429, \"pid\": 1914, \"batch_idx\": 10}\n",
      "{\"event\": \"get-batch end\", \"time\": 1726243244.995685, \"pid\": 1914, \"batch_idx\": 10, \"duration\": 5.171390771865845}\n",
      "{\"event\": \"get-batch start\", \"time\": 1726243244.9959264, \"pid\": 1914, \"batch_idx\": 11}\n",
      "{\"event\": \"get-batch end\", \"time\": 1726243247.2450297, \"pid\": 1914, \"batch_idx\": 11, \"duration\": 2.2490973472595215}\n",
      "{\"event\": \"get-batch start\", \"time\": 1726243247.2452712, \"pid\": 1914, \"batch_idx\": 12}\n",
      "{\"event\": \"get-batch end\", \"time\": 1726243249.1304584, \"pid\": 1914, \"batch_idx\": 12, \"duration\": 1.8851830959320068}\n",
      "{\"event\": \"get-batch start\", \"time\": 1726243249.1306894, \"pid\": 1914, \"batch_idx\": 13}\n",
      "{\"event\": \"get-batch end\", \"time\": 1726243251.1454551, \"pid\": 1914, \"batch_idx\": 13, \"duration\": 2.0147626399993896}\n",
      "{\"event\": \"get-batch start\", \"time\": 1726243251.1456304, \"pid\": 1914, \"batch_idx\": 14}\n",
      "{\"event\": \"get-batch end\", \"time\": 1726243255.1270778, \"pid\": 1914, \"batch_idx\": 14, \"duration\": 3.9814436435699463}\n",
      "{\"event\": \"get-batch start\", \"time\": 1726243255.1273, \"pid\": 1914, \"batch_idx\": 15}\n",
      "{\"event\": \"get-batch end\", \"time\": 1726243257.0431697, \"pid\": 1914, \"batch_idx\": 15, \"duration\": 1.9158668518066406}\n",
      "{\"event\": \"get-batch start\", \"time\": 1726243257.043344, \"pid\": 1914, \"batch_idx\": 16}\n",
      "{\"event\": \"get-batch end\", \"time\": 1726243259.2921615, \"pid\": 1914, \"batch_idx\": 16, \"duration\": 2.248814105987549}\n",
      "{\"event\": \"get-batch start\", \"time\": 1726243259.2923715, \"pid\": 1914, \"batch_idx\": 17}\n"
     ]
    },
    {
     "ename": "KeyboardInterrupt",
     "evalue": "",
     "output_type": "error",
     "traceback": [
      "\u001b[0;31m---------------------------------------------------------------------------\u001b[0m",
      "\u001b[0;31mKeyboardInterrupt\u001b[0m                         Traceback (most recent call last)",
      "Cell \u001b[0;32mIn[53], line 1\u001b[0m\n\u001b[0;32m----> 1\u001b[0m _ \u001b[38;5;241m=\u001b[39m \u001b[38;5;28;43mnext\u001b[39;49m\u001b[43m(\u001b[49m\u001b[38;5;28;43miter\u001b[39;49m\u001b[43m(\u001b[49m\u001b[43mtraining_generator\u001b[49m\u001b[43m)\u001b[49m\u001b[43m)\u001b[49m  \u001b[38;5;66;03m# wait until dataloader is ready\u001b[39;00m\n",
      "File \u001b[0;32m/srv/conda/envs/notebook/lib/python3.12/site-packages/torch/utils/data/dataloader.py:631\u001b[0m, in \u001b[0;36m_BaseDataLoaderIter.__next__\u001b[0;34m(self)\u001b[0m\n\u001b[1;32m    628\u001b[0m \u001b[38;5;28;01mif\u001b[39;00m \u001b[38;5;28mself\u001b[39m\u001b[38;5;241m.\u001b[39m_sampler_iter \u001b[38;5;129;01mis\u001b[39;00m \u001b[38;5;28;01mNone\u001b[39;00m:\n\u001b[1;32m    629\u001b[0m     \u001b[38;5;66;03m# TODO(https://github.com/pytorch/pytorch/issues/76750)\u001b[39;00m\n\u001b[1;32m    630\u001b[0m     \u001b[38;5;28mself\u001b[39m\u001b[38;5;241m.\u001b[39m_reset()  \u001b[38;5;66;03m# type: ignore[call-arg]\u001b[39;00m\n\u001b[0;32m--> 631\u001b[0m data \u001b[38;5;241m=\u001b[39m \u001b[38;5;28;43mself\u001b[39;49m\u001b[38;5;241;43m.\u001b[39;49m\u001b[43m_next_data\u001b[49m\u001b[43m(\u001b[49m\u001b[43m)\u001b[49m\n\u001b[1;32m    632\u001b[0m \u001b[38;5;28mself\u001b[39m\u001b[38;5;241m.\u001b[39m_num_yielded \u001b[38;5;241m+\u001b[39m\u001b[38;5;241m=\u001b[39m \u001b[38;5;241m1\u001b[39m\n\u001b[1;32m    633\u001b[0m \u001b[38;5;28;01mif\u001b[39;00m \u001b[38;5;28mself\u001b[39m\u001b[38;5;241m.\u001b[39m_dataset_kind \u001b[38;5;241m==\u001b[39m _DatasetKind\u001b[38;5;241m.\u001b[39mIterable \u001b[38;5;129;01mand\u001b[39;00m \\\n\u001b[1;32m    634\u001b[0m         \u001b[38;5;28mself\u001b[39m\u001b[38;5;241m.\u001b[39m_IterableDataset_len_called \u001b[38;5;129;01mis\u001b[39;00m \u001b[38;5;129;01mnot\u001b[39;00m \u001b[38;5;28;01mNone\u001b[39;00m \u001b[38;5;129;01mand\u001b[39;00m \\\n\u001b[1;32m    635\u001b[0m         \u001b[38;5;28mself\u001b[39m\u001b[38;5;241m.\u001b[39m_num_yielded \u001b[38;5;241m>\u001b[39m \u001b[38;5;28mself\u001b[39m\u001b[38;5;241m.\u001b[39m_IterableDataset_len_called:\n",
      "File \u001b[0;32m/srv/conda/envs/notebook/lib/python3.12/site-packages/torch/utils/data/dataloader.py:675\u001b[0m, in \u001b[0;36m_SingleProcessDataLoaderIter._next_data\u001b[0;34m(self)\u001b[0m\n\u001b[1;32m    673\u001b[0m \u001b[38;5;28;01mdef\u001b[39;00m \u001b[38;5;21m_next_data\u001b[39m(\u001b[38;5;28mself\u001b[39m):\n\u001b[1;32m    674\u001b[0m     index \u001b[38;5;241m=\u001b[39m \u001b[38;5;28mself\u001b[39m\u001b[38;5;241m.\u001b[39m_next_index()  \u001b[38;5;66;03m# may raise StopIteration\u001b[39;00m\n\u001b[0;32m--> 675\u001b[0m     data \u001b[38;5;241m=\u001b[39m \u001b[38;5;28;43mself\u001b[39;49m\u001b[38;5;241;43m.\u001b[39;49m\u001b[43m_dataset_fetcher\u001b[49m\u001b[38;5;241;43m.\u001b[39;49m\u001b[43mfetch\u001b[49m\u001b[43m(\u001b[49m\u001b[43mindex\u001b[49m\u001b[43m)\u001b[49m  \u001b[38;5;66;03m# may raise StopIteration\u001b[39;00m\n\u001b[1;32m    676\u001b[0m     \u001b[38;5;28;01mif\u001b[39;00m \u001b[38;5;28mself\u001b[39m\u001b[38;5;241m.\u001b[39m_pin_memory:\n\u001b[1;32m    677\u001b[0m         data \u001b[38;5;241m=\u001b[39m _utils\u001b[38;5;241m.\u001b[39mpin_memory\u001b[38;5;241m.\u001b[39mpin_memory(data, \u001b[38;5;28mself\u001b[39m\u001b[38;5;241m.\u001b[39m_pin_memory_device)\n",
      "File \u001b[0;32m/srv/conda/envs/notebook/lib/python3.12/site-packages/torch/utils/data/_utils/fetch.py:51\u001b[0m, in \u001b[0;36m_MapDatasetFetcher.fetch\u001b[0;34m(self, possibly_batched_index)\u001b[0m\n\u001b[1;32m     49\u001b[0m         data \u001b[38;5;241m=\u001b[39m \u001b[38;5;28mself\u001b[39m\u001b[38;5;241m.\u001b[39mdataset\u001b[38;5;241m.\u001b[39m__getitems__(possibly_batched_index)\n\u001b[1;32m     50\u001b[0m     \u001b[38;5;28;01melse\u001b[39;00m:\n\u001b[0;32m---> 51\u001b[0m         data \u001b[38;5;241m=\u001b[39m [\u001b[38;5;28;43mself\u001b[39;49m\u001b[38;5;241;43m.\u001b[39;49m\u001b[43mdataset\u001b[49m\u001b[43m[\u001b[49m\u001b[43midx\u001b[49m\u001b[43m]\u001b[49m \u001b[38;5;28;01mfor\u001b[39;00m idx \u001b[38;5;129;01min\u001b[39;00m possibly_batched_index]\n\u001b[1;32m     52\u001b[0m \u001b[38;5;28;01melse\u001b[39;00m:\n\u001b[1;32m     53\u001b[0m     data \u001b[38;5;241m=\u001b[39m \u001b[38;5;28mself\u001b[39m\u001b[38;5;241m.\u001b[39mdataset[possibly_batched_index]\n",
      "Cell \u001b[0;32mIn[39], line 35\u001b[0m, in \u001b[0;36mXBatchDataset.__getitem__\u001b[0;34m(self, idx)\u001b[0m\n\u001b[1;32m     33\u001b[0m \u001b[38;5;28;01mif\u001b[39;00m(\u001b[38;5;28mself\u001b[39m\u001b[38;5;241m.\u001b[39mlog):\n\u001b[1;32m     34\u001b[0m     t0 \u001b[38;5;241m=\u001b[39m log_event(\u001b[38;5;124m\"\u001b[39m\u001b[38;5;124mget-batch start\u001b[39m\u001b[38;5;124m\"\u001b[39m, batch_idx\u001b[38;5;241m=\u001b[39midx)\n\u001b[0;32m---> 35\u001b[0m data \u001b[38;5;241m=\u001b[39m \u001b[38;5;28;43mself\u001b[39;49m\u001b[38;5;241;43m.\u001b[39;49m\u001b[43mbgen\u001b[49m\u001b[43m[\u001b[49m\u001b[43midx\u001b[49m\u001b[43m]\u001b[49m\u001b[38;5;241;43m.\u001b[39;49m\u001b[43mload\u001b[49m\u001b[43m(\u001b[49m\u001b[43m)\u001b[49m\n\u001b[1;32m     36\u001b[0m \u001b[38;5;28;01mif\u001b[39;00m(\u001b[38;5;129;01mnot\u001b[39;00m \u001b[38;5;28mself\u001b[39m\u001b[38;5;241m.\u001b[39mnormalize): \u001b[38;5;66;03m# wasn't normalized from beginning, must do now\u001b[39;00m\n\u001b[1;32m     37\u001b[0m     data \u001b[38;5;241m=\u001b[39m (data \u001b[38;5;241m-\u001b[39m \u001b[38;5;28mself\u001b[39m\u001b[38;5;241m.\u001b[39mYmean\u001b[38;5;241m.\u001b[39mmean(dim\u001b[38;5;241m=\u001b[39m\u001b[38;5;124m'\u001b[39m\u001b[38;5;124mncol\u001b[39m\u001b[38;5;124m'\u001b[39m)) \u001b[38;5;241m/\u001b[39m \u001b[38;5;28mself\u001b[39m\u001b[38;5;241m.\u001b[39mYstd\u001b[38;5;241m.\u001b[39mmean(dim\u001b[38;5;241m=\u001b[39m\u001b[38;5;124m'\u001b[39m\u001b[38;5;124mncol\u001b[39m\u001b[38;5;124m'\u001b[39m)\n",
      "File \u001b[0;32m/srv/conda/envs/notebook/lib/python3.12/site-packages/xarray/core/dataset.py:863\u001b[0m, in \u001b[0;36mDataset.load\u001b[0;34m(self, **kwargs)\u001b[0m\n\u001b[1;32m    860\u001b[0m chunkmanager \u001b[38;5;241m=\u001b[39m get_chunked_array_type(\u001b[38;5;241m*\u001b[39mlazy_data\u001b[38;5;241m.\u001b[39mvalues())\n\u001b[1;32m    862\u001b[0m \u001b[38;5;66;03m# evaluate all the chunked arrays simultaneously\u001b[39;00m\n\u001b[0;32m--> 863\u001b[0m evaluated_data: \u001b[38;5;28mtuple\u001b[39m[np\u001b[38;5;241m.\u001b[39mndarray[Any, Any], \u001b[38;5;241m.\u001b[39m\u001b[38;5;241m.\u001b[39m\u001b[38;5;241m.\u001b[39m] \u001b[38;5;241m=\u001b[39m \u001b[43mchunkmanager\u001b[49m\u001b[38;5;241;43m.\u001b[39;49m\u001b[43mcompute\u001b[49m\u001b[43m(\u001b[49m\n\u001b[1;32m    864\u001b[0m \u001b[43m    \u001b[49m\u001b[38;5;241;43m*\u001b[39;49m\u001b[43mlazy_data\u001b[49m\u001b[38;5;241;43m.\u001b[39;49m\u001b[43mvalues\u001b[49m\u001b[43m(\u001b[49m\u001b[43m)\u001b[49m\u001b[43m,\u001b[49m\u001b[43m \u001b[49m\u001b[38;5;241;43m*\u001b[39;49m\u001b[38;5;241;43m*\u001b[39;49m\u001b[43mkwargs\u001b[49m\n\u001b[1;32m    865\u001b[0m \u001b[43m\u001b[49m\u001b[43m)\u001b[49m\n\u001b[1;32m    867\u001b[0m \u001b[38;5;28;01mfor\u001b[39;00m k, data \u001b[38;5;129;01min\u001b[39;00m \u001b[38;5;28mzip\u001b[39m(lazy_data, evaluated_data):\n\u001b[1;32m    868\u001b[0m     \u001b[38;5;28mself\u001b[39m\u001b[38;5;241m.\u001b[39mvariables[k]\u001b[38;5;241m.\u001b[39mdata \u001b[38;5;241m=\u001b[39m data\n",
      "File \u001b[0;32m/srv/conda/envs/notebook/lib/python3.12/site-packages/xarray/namedarray/daskmanager.py:86\u001b[0m, in \u001b[0;36mDaskManager.compute\u001b[0;34m(self, *data, **kwargs)\u001b[0m\n\u001b[1;32m     81\u001b[0m \u001b[38;5;28;01mdef\u001b[39;00m \u001b[38;5;21mcompute\u001b[39m(\n\u001b[1;32m     82\u001b[0m     \u001b[38;5;28mself\u001b[39m, \u001b[38;5;241m*\u001b[39mdata: Any, \u001b[38;5;241m*\u001b[39m\u001b[38;5;241m*\u001b[39mkwargs: Any\n\u001b[1;32m     83\u001b[0m ) \u001b[38;5;241m-\u001b[39m\u001b[38;5;241m>\u001b[39m \u001b[38;5;28mtuple\u001b[39m[np\u001b[38;5;241m.\u001b[39mndarray[Any, _DType_co], \u001b[38;5;241m.\u001b[39m\u001b[38;5;241m.\u001b[39m\u001b[38;5;241m.\u001b[39m]:\n\u001b[1;32m     84\u001b[0m     \u001b[38;5;28;01mfrom\u001b[39;00m \u001b[38;5;21;01mdask\u001b[39;00m\u001b[38;5;21;01m.\u001b[39;00m\u001b[38;5;21;01marray\u001b[39;00m \u001b[38;5;28;01mimport\u001b[39;00m compute\n\u001b[0;32m---> 86\u001b[0m     \u001b[38;5;28;01mreturn\u001b[39;00m \u001b[43mcompute\u001b[49m\u001b[43m(\u001b[49m\u001b[38;5;241;43m*\u001b[39;49m\u001b[43mdata\u001b[49m\u001b[43m,\u001b[49m\u001b[43m \u001b[49m\u001b[38;5;241;43m*\u001b[39;49m\u001b[38;5;241;43m*\u001b[39;49m\u001b[43mkwargs\u001b[49m\u001b[43m)\u001b[49m\n",
      "File \u001b[0;32m/srv/conda/envs/notebook/lib/python3.12/site-packages/dask/base.py:662\u001b[0m, in \u001b[0;36mcompute\u001b[0;34m(traverse, optimize_graph, scheduler, get, *args, **kwargs)\u001b[0m\n\u001b[1;32m    659\u001b[0m     postcomputes\u001b[38;5;241m.\u001b[39mappend(x\u001b[38;5;241m.\u001b[39m__dask_postcompute__())\n\u001b[1;32m    661\u001b[0m \u001b[38;5;28;01mwith\u001b[39;00m shorten_traceback():\n\u001b[0;32m--> 662\u001b[0m     results \u001b[38;5;241m=\u001b[39m \u001b[43mschedule\u001b[49m\u001b[43m(\u001b[49m\u001b[43mdsk\u001b[49m\u001b[43m,\u001b[49m\u001b[43m \u001b[49m\u001b[43mkeys\u001b[49m\u001b[43m,\u001b[49m\u001b[43m \u001b[49m\u001b[38;5;241;43m*\u001b[39;49m\u001b[38;5;241;43m*\u001b[39;49m\u001b[43mkwargs\u001b[49m\u001b[43m)\u001b[49m\n\u001b[1;32m    664\u001b[0m \u001b[38;5;28;01mreturn\u001b[39;00m repack([f(r, \u001b[38;5;241m*\u001b[39ma) \u001b[38;5;28;01mfor\u001b[39;00m r, (f, a) \u001b[38;5;129;01min\u001b[39;00m \u001b[38;5;28mzip\u001b[39m(results, postcomputes)])\n",
      "File \u001b[0;32m/srv/conda/envs/notebook/lib/python3.12/queue.py:171\u001b[0m, in \u001b[0;36mQueue.get\u001b[0;34m(self, block, timeout)\u001b[0m\n\u001b[1;32m    169\u001b[0m \u001b[38;5;28;01melif\u001b[39;00m timeout \u001b[38;5;129;01mis\u001b[39;00m \u001b[38;5;28;01mNone\u001b[39;00m:\n\u001b[1;32m    170\u001b[0m     \u001b[38;5;28;01mwhile\u001b[39;00m \u001b[38;5;129;01mnot\u001b[39;00m \u001b[38;5;28mself\u001b[39m\u001b[38;5;241m.\u001b[39m_qsize():\n\u001b[0;32m--> 171\u001b[0m         \u001b[38;5;28;43mself\u001b[39;49m\u001b[38;5;241;43m.\u001b[39;49m\u001b[43mnot_empty\u001b[49m\u001b[38;5;241;43m.\u001b[39;49m\u001b[43mwait\u001b[49m\u001b[43m(\u001b[49m\u001b[43m)\u001b[49m\n\u001b[1;32m    172\u001b[0m \u001b[38;5;28;01melif\u001b[39;00m timeout \u001b[38;5;241m<\u001b[39m \u001b[38;5;241m0\u001b[39m:\n\u001b[1;32m    173\u001b[0m     \u001b[38;5;28;01mraise\u001b[39;00m \u001b[38;5;167;01mValueError\u001b[39;00m(\u001b[38;5;124m\"\u001b[39m\u001b[38;5;124m'\u001b[39m\u001b[38;5;124mtimeout\u001b[39m\u001b[38;5;124m'\u001b[39m\u001b[38;5;124m must be a non-negative number\u001b[39m\u001b[38;5;124m\"\u001b[39m)\n",
      "File \u001b[0;32m/srv/conda/envs/notebook/lib/python3.12/threading.py:355\u001b[0m, in \u001b[0;36mCondition.wait\u001b[0;34m(self, timeout)\u001b[0m\n\u001b[1;32m    353\u001b[0m \u001b[38;5;28;01mtry\u001b[39;00m:    \u001b[38;5;66;03m# restore state no matter what (e.g., KeyboardInterrupt)\u001b[39;00m\n\u001b[1;32m    354\u001b[0m     \u001b[38;5;28;01mif\u001b[39;00m timeout \u001b[38;5;129;01mis\u001b[39;00m \u001b[38;5;28;01mNone\u001b[39;00m:\n\u001b[0;32m--> 355\u001b[0m         \u001b[43mwaiter\u001b[49m\u001b[38;5;241;43m.\u001b[39;49m\u001b[43macquire\u001b[49m\u001b[43m(\u001b[49m\u001b[43m)\u001b[49m\n\u001b[1;32m    356\u001b[0m         gotit \u001b[38;5;241m=\u001b[39m \u001b[38;5;28;01mTrue\u001b[39;00m\n\u001b[1;32m    357\u001b[0m     \u001b[38;5;28;01melse\u001b[39;00m:\n",
      "\u001b[0;31mKeyboardInterrupt\u001b[0m: "
     ]
    }
   ],
   "source": [
    "_ = next(iter(training_generator))  # wait until dataloader is ready"
   ]
  },
  {
   "cell_type": "code",
   "execution_count": 28,
   "id": "341ce108-d6a5-4f1b-9e4f-076057283cee",
   "metadata": {},
   "outputs": [
    {
     "data": {
      "text/plain": [
       "<torch.utils.data.dataloader.DataLoader at 0x7aad3cca1880>"
      ]
     },
     "execution_count": 28,
     "metadata": {},
     "output_type": "execute_result"
    }
   ],
   "source": [
    "training_generator"
   ]
  },
  {
   "cell_type": "markdown",
   "id": "c76f4208-fdbc-4b1d-98fb-fe610dd5618a",
   "metadata": {
    "jp-MarkdownHeadingCollapsed": true
   },
   "source": [
    "## Load dataset"
   ]
  },
  {
   "cell_type": "code",
   "execution_count": 4,
   "id": "cc9d8595-da95-4624-a315-6af95d26e135",
   "metadata": {},
   "outputs": [
    {
     "name": "stdout",
     "output_type": "stream",
     "text": [
      "Finished Loading X from gs://leap-persistent/sammyagrawal/input_climsim.npy\n",
      "Finished Loading Y from gs://leap-persistent/sammyagrawal/output_climsim.npy\n"
     ]
    }
   ],
   "source": [
    "X, Y = diff.load_numpy_arrays()"
   ]
  },
  {
   "cell_type": "code",
   "execution_count": 5,
   "id": "4beee030-7874-4be8-816f-f85e193afacf",
   "metadata": {},
   "outputs": [
    {
     "name": "stdout",
     "output_type": "stream",
     "text": [
      "Finished Loading X from gs://leap-scratch/sammyagrawal/input_climsim_small.npy\n",
      "Finished Loading Y from gs://leap-scratch/sammyagrawal/output_climsim_small.npy\n"
     ]
    }
   ],
   "source": [
    "X, Y = diff.load_numpy_arrays(bucket='scratch', fprefix='climsim_small')"
   ]
  },
  {
   "cell_type": "code",
   "execution_count": 5,
   "id": "14f4ffa3-9f04-48ea-85a5-b9f780723c61",
   "metadata": {},
   "outputs": [],
   "source": [
    "Xarr, Yarr = diff.reconstruct_xarr_from_npy(\n",
    "    X, Y, \n",
    "    subsampling=(0, 210240, 144),\n",
    "    #subsampling=(210240-288,210240, 144), \n",
    "    data_vars='v1', \n",
    ")"
   ]
  },
  {
   "cell_type": "code",
   "execution_count": 6,
   "id": "c215dec7-0184-4c5a-bc15-5c9c4c8b6688",
   "metadata": {},
   "outputs": [
    {
     "data": {
      "text/html": [
       "<div><svg style=\"position: absolute; width: 0; height: 0; overflow: hidden\">\n",
       "<defs>\n",
       "<symbol id=\"icon-database\" viewBox=\"0 0 32 32\">\n",
       "<path d=\"M16 0c-8.837 0-16 2.239-16 5v4c0 2.761 7.163 5 16 5s16-2.239 16-5v-4c0-2.761-7.163-5-16-5z\"></path>\n",
       "<path d=\"M16 17c-8.837 0-16-2.239-16-5v6c0 2.761 7.163 5 16 5s16-2.239 16-5v-6c0 2.761-7.163 5-16 5z\"></path>\n",
       "<path d=\"M16 26c-8.837 0-16-2.239-16-5v6c0 2.761 7.163 5 16 5s16-2.239 16-5v-6c0 2.761-7.163 5-16 5z\"></path>\n",
       "</symbol>\n",
       "<symbol id=\"icon-file-text2\" viewBox=\"0 0 32 32\">\n",
       "<path d=\"M28.681 7.159c-0.694-0.947-1.662-2.053-2.724-3.116s-2.169-2.030-3.116-2.724c-1.612-1.182-2.393-1.319-2.841-1.319h-15.5c-1.378 0-2.5 1.121-2.5 2.5v27c0 1.378 1.122 2.5 2.5 2.5h23c1.378 0 2.5-1.122 2.5-2.5v-19.5c0-0.448-0.137-1.23-1.319-2.841zM24.543 5.457c0.959 0.959 1.712 1.825 2.268 2.543h-4.811v-4.811c0.718 0.556 1.584 1.309 2.543 2.268zM28 29.5c0 0.271-0.229 0.5-0.5 0.5h-23c-0.271 0-0.5-0.229-0.5-0.5v-27c0-0.271 0.229-0.5 0.5-0.5 0 0 15.499-0 15.5 0v7c0 0.552 0.448 1 1 1h7v19.5z\"></path>\n",
       "<path d=\"M23 26h-14c-0.552 0-1-0.448-1-1s0.448-1 1-1h14c0.552 0 1 0.448 1 1s-0.448 1-1 1z\"></path>\n",
       "<path d=\"M23 22h-14c-0.552 0-1-0.448-1-1s0.448-1 1-1h14c0.552 0 1 0.448 1 1s-0.448 1-1 1z\"></path>\n",
       "<path d=\"M23 18h-14c-0.552 0-1-0.448-1-1s0.448-1 1-1h14c0.552 0 1 0.448 1 1s-0.448 1-1 1z\"></path>\n",
       "</symbol>\n",
       "</defs>\n",
       "</svg>\n",
       "<style>/* CSS stylesheet for displaying xarray objects in jupyterlab.\n",
       " *\n",
       " */\n",
       "\n",
       ":root {\n",
       "  --xr-font-color0: var(--jp-content-font-color0, rgba(0, 0, 0, 1));\n",
       "  --xr-font-color2: var(--jp-content-font-color2, rgba(0, 0, 0, 0.54));\n",
       "  --xr-font-color3: var(--jp-content-font-color3, rgba(0, 0, 0, 0.38));\n",
       "  --xr-border-color: var(--jp-border-color2, #e0e0e0);\n",
       "  --xr-disabled-color: var(--jp-layout-color3, #bdbdbd);\n",
       "  --xr-background-color: var(--jp-layout-color0, white);\n",
       "  --xr-background-color-row-even: var(--jp-layout-color1, white);\n",
       "  --xr-background-color-row-odd: var(--jp-layout-color2, #eeeeee);\n",
       "}\n",
       "\n",
       "html[theme=dark],\n",
       "body[data-theme=dark],\n",
       "body.vscode-dark {\n",
       "  --xr-font-color0: rgba(255, 255, 255, 1);\n",
       "  --xr-font-color2: rgba(255, 255, 255, 0.54);\n",
       "  --xr-font-color3: rgba(255, 255, 255, 0.38);\n",
       "  --xr-border-color: #1F1F1F;\n",
       "  --xr-disabled-color: #515151;\n",
       "  --xr-background-color: #111111;\n",
       "  --xr-background-color-row-even: #111111;\n",
       "  --xr-background-color-row-odd: #313131;\n",
       "}\n",
       "\n",
       ".xr-wrap {\n",
       "  display: block !important;\n",
       "  min-width: 300px;\n",
       "  max-width: 700px;\n",
       "}\n",
       "\n",
       ".xr-text-repr-fallback {\n",
       "  /* fallback to plain text repr when CSS is not injected (untrusted notebook) */\n",
       "  display: none;\n",
       "}\n",
       "\n",
       ".xr-header {\n",
       "  padding-top: 6px;\n",
       "  padding-bottom: 6px;\n",
       "  margin-bottom: 4px;\n",
       "  border-bottom: solid 1px var(--xr-border-color);\n",
       "}\n",
       "\n",
       ".xr-header > div,\n",
       ".xr-header > ul {\n",
       "  display: inline;\n",
       "  margin-top: 0;\n",
       "  margin-bottom: 0;\n",
       "}\n",
       "\n",
       ".xr-obj-type,\n",
       ".xr-array-name {\n",
       "  margin-left: 2px;\n",
       "  margin-right: 10px;\n",
       "}\n",
       "\n",
       ".xr-obj-type {\n",
       "  color: var(--xr-font-color2);\n",
       "}\n",
       "\n",
       ".xr-sections {\n",
       "  padding-left: 0 !important;\n",
       "  display: grid;\n",
       "  grid-template-columns: 150px auto auto 1fr 20px 20px;\n",
       "}\n",
       "\n",
       ".xr-section-item {\n",
       "  display: contents;\n",
       "}\n",
       "\n",
       ".xr-section-item input {\n",
       "  display: none;\n",
       "}\n",
       "\n",
       ".xr-section-item input + label {\n",
       "  color: var(--xr-disabled-color);\n",
       "}\n",
       "\n",
       ".xr-section-item input:enabled + label {\n",
       "  cursor: pointer;\n",
       "  color: var(--xr-font-color2);\n",
       "}\n",
       "\n",
       ".xr-section-item input:enabled + label:hover {\n",
       "  color: var(--xr-font-color0);\n",
       "}\n",
       "\n",
       ".xr-section-summary {\n",
       "  grid-column: 1;\n",
       "  color: var(--xr-font-color2);\n",
       "  font-weight: 500;\n",
       "}\n",
       "\n",
       ".xr-section-summary > span {\n",
       "  display: inline-block;\n",
       "  padding-left: 0.5em;\n",
       "}\n",
       "\n",
       ".xr-section-summary-in:disabled + label {\n",
       "  color: var(--xr-font-color2);\n",
       "}\n",
       "\n",
       ".xr-section-summary-in + label:before {\n",
       "  display: inline-block;\n",
       "  content: '►';\n",
       "  font-size: 11px;\n",
       "  width: 15px;\n",
       "  text-align: center;\n",
       "}\n",
       "\n",
       ".xr-section-summary-in:disabled + label:before {\n",
       "  color: var(--xr-disabled-color);\n",
       "}\n",
       "\n",
       ".xr-section-summary-in:checked + label:before {\n",
       "  content: '▼';\n",
       "}\n",
       "\n",
       ".xr-section-summary-in:checked + label > span {\n",
       "  display: none;\n",
       "}\n",
       "\n",
       ".xr-section-summary,\n",
       ".xr-section-inline-details {\n",
       "  padding-top: 4px;\n",
       "  padding-bottom: 4px;\n",
       "}\n",
       "\n",
       ".xr-section-inline-details {\n",
       "  grid-column: 2 / -1;\n",
       "}\n",
       "\n",
       ".xr-section-details {\n",
       "  display: none;\n",
       "  grid-column: 1 / -1;\n",
       "  margin-bottom: 5px;\n",
       "}\n",
       "\n",
       ".xr-section-summary-in:checked ~ .xr-section-details {\n",
       "  display: contents;\n",
       "}\n",
       "\n",
       ".xr-array-wrap {\n",
       "  grid-column: 1 / -1;\n",
       "  display: grid;\n",
       "  grid-template-columns: 20px auto;\n",
       "}\n",
       "\n",
       ".xr-array-wrap > label {\n",
       "  grid-column: 1;\n",
       "  vertical-align: top;\n",
       "}\n",
       "\n",
       ".xr-preview {\n",
       "  color: var(--xr-font-color3);\n",
       "}\n",
       "\n",
       ".xr-array-preview,\n",
       ".xr-array-data {\n",
       "  padding: 0 5px !important;\n",
       "  grid-column: 2;\n",
       "}\n",
       "\n",
       ".xr-array-data,\n",
       ".xr-array-in:checked ~ .xr-array-preview {\n",
       "  display: none;\n",
       "}\n",
       "\n",
       ".xr-array-in:checked ~ .xr-array-data,\n",
       ".xr-array-preview {\n",
       "  display: inline-block;\n",
       "}\n",
       "\n",
       ".xr-dim-list {\n",
       "  display: inline-block !important;\n",
       "  list-style: none;\n",
       "  padding: 0 !important;\n",
       "  margin: 0;\n",
       "}\n",
       "\n",
       ".xr-dim-list li {\n",
       "  display: inline-block;\n",
       "  padding: 0;\n",
       "  margin: 0;\n",
       "}\n",
       "\n",
       ".xr-dim-list:before {\n",
       "  content: '(';\n",
       "}\n",
       "\n",
       ".xr-dim-list:after {\n",
       "  content: ')';\n",
       "}\n",
       "\n",
       ".xr-dim-list li:not(:last-child):after {\n",
       "  content: ',';\n",
       "  padding-right: 5px;\n",
       "}\n",
       "\n",
       ".xr-has-index {\n",
       "  font-weight: bold;\n",
       "}\n",
       "\n",
       ".xr-var-list,\n",
       ".xr-var-item {\n",
       "  display: contents;\n",
       "}\n",
       "\n",
       ".xr-var-item > div,\n",
       ".xr-var-item label,\n",
       ".xr-var-item > .xr-var-name span {\n",
       "  background-color: var(--xr-background-color-row-even);\n",
       "  margin-bottom: 0;\n",
       "}\n",
       "\n",
       ".xr-var-item > .xr-var-name:hover span {\n",
       "  padding-right: 5px;\n",
       "}\n",
       "\n",
       ".xr-var-list > li:nth-child(odd) > div,\n",
       ".xr-var-list > li:nth-child(odd) > label,\n",
       ".xr-var-list > li:nth-child(odd) > .xr-var-name span {\n",
       "  background-color: var(--xr-background-color-row-odd);\n",
       "}\n",
       "\n",
       ".xr-var-name {\n",
       "  grid-column: 1;\n",
       "}\n",
       "\n",
       ".xr-var-dims {\n",
       "  grid-column: 2;\n",
       "}\n",
       "\n",
       ".xr-var-dtype {\n",
       "  grid-column: 3;\n",
       "  text-align: right;\n",
       "  color: var(--xr-font-color2);\n",
       "}\n",
       "\n",
       ".xr-var-preview {\n",
       "  grid-column: 4;\n",
       "}\n",
       "\n",
       ".xr-index-preview {\n",
       "  grid-column: 2 / 5;\n",
       "  color: var(--xr-font-color2);\n",
       "}\n",
       "\n",
       ".xr-var-name,\n",
       ".xr-var-dims,\n",
       ".xr-var-dtype,\n",
       ".xr-preview,\n",
       ".xr-attrs dt {\n",
       "  white-space: nowrap;\n",
       "  overflow: hidden;\n",
       "  text-overflow: ellipsis;\n",
       "  padding-right: 10px;\n",
       "}\n",
       "\n",
       ".xr-var-name:hover,\n",
       ".xr-var-dims:hover,\n",
       ".xr-var-dtype:hover,\n",
       ".xr-attrs dt:hover {\n",
       "  overflow: visible;\n",
       "  width: auto;\n",
       "  z-index: 1;\n",
       "}\n",
       "\n",
       ".xr-var-attrs,\n",
       ".xr-var-data,\n",
       ".xr-index-data {\n",
       "  display: none;\n",
       "  background-color: var(--xr-background-color) !important;\n",
       "  padding-bottom: 5px !important;\n",
       "}\n",
       "\n",
       ".xr-var-attrs-in:checked ~ .xr-var-attrs,\n",
       ".xr-var-data-in:checked ~ .xr-var-data,\n",
       ".xr-index-data-in:checked ~ .xr-index-data {\n",
       "  display: block;\n",
       "}\n",
       "\n",
       ".xr-var-data > table {\n",
       "  float: right;\n",
       "}\n",
       "\n",
       ".xr-var-name span,\n",
       ".xr-var-data,\n",
       ".xr-index-name div,\n",
       ".xr-index-data,\n",
       ".xr-attrs {\n",
       "  padding-left: 25px !important;\n",
       "}\n",
       "\n",
       ".xr-attrs,\n",
       ".xr-var-attrs,\n",
       ".xr-var-data,\n",
       ".xr-index-data {\n",
       "  grid-column: 1 / -1;\n",
       "}\n",
       "\n",
       "dl.xr-attrs {\n",
       "  padding: 0;\n",
       "  margin: 0;\n",
       "  display: grid;\n",
       "  grid-template-columns: 125px auto;\n",
       "}\n",
       "\n",
       ".xr-attrs dt,\n",
       ".xr-attrs dd {\n",
       "  padding: 0;\n",
       "  margin: 0;\n",
       "  float: left;\n",
       "  padding-right: 10px;\n",
       "  width: auto;\n",
       "}\n",
       "\n",
       ".xr-attrs dt {\n",
       "  font-weight: normal;\n",
       "  grid-column: 1;\n",
       "}\n",
       "\n",
       ".xr-attrs dt:hover span {\n",
       "  display: inline-block;\n",
       "  background: var(--xr-background-color);\n",
       "  padding-right: 10px;\n",
       "}\n",
       "\n",
       ".xr-attrs dd {\n",
       "  grid-column: 2;\n",
       "  white-space: pre-wrap;\n",
       "  word-break: break-all;\n",
       "}\n",
       "\n",
       ".xr-icon-database,\n",
       ".xr-icon-file-text2,\n",
       ".xr-no-icon {\n",
       "  display: inline-block;\n",
       "  vertical-align: middle;\n",
       "  width: 1em;\n",
       "  height: 1.5em !important;\n",
       "  stroke-width: 0;\n",
       "  stroke: currentColor;\n",
       "  fill: currentColor;\n",
       "}\n",
       "</style><pre class='xr-text-repr-fallback'>&lt;xarray.DataArray (state: 560640, mli: 124)&gt; Size: 556MB\n",
       "array([[213.73032594, 222.04964262, 228.73855859, ...,   0.        ,\n",
       "         88.17297259,   5.6666183 ],\n",
       "       [213.27482552, 225.59957071, 229.04126676, ...,   0.        ,\n",
       "        102.74154388,  11.11695314],\n",
       "       [216.94376003, 219.79014947, 234.23118806, ...,   0.        ,\n",
       "        187.96856849,   8.0449528 ],\n",
       "       ...,\n",
       "       [220.7407028 , 232.83865793, 240.63842692, ..., 304.65936549,\n",
       "          1.2265957 ,   6.01719117],\n",
       "       [209.61940069, 227.75367568, 234.60989456, ..., 536.51329351,\n",
       "        108.31637075, 170.00201299],\n",
       "       [225.14715663, 233.06017282, 240.20586675, ..., 525.54204937,\n",
       "         91.04680107,  92.3247281 ]])\n",
       "Coordinates:\n",
       "  * state     (state) object 4MB MultiIndex\n",
       "  * sample    (state) int64 4MB 0 0 0 0 0 0 0 ... 1459 1459 1459 1459 1459 1459\n",
       "  * ncol      (state) int64 4MB 0 1 2 3 4 5 6 7 ... 377 378 379 380 381 382 383\n",
       "  * mli       (mli) object 992B MultiIndex\n",
       "  * variable  (mli) object 992B &#x27;state_t&#x27; &#x27;state_t&#x27; ... &#x27;pbuf_SHFLX&#x27;\n",
       "  * lev       (mli) object 992B 0 1 2 3 4 5 6 7 ... 56 57 58 59 nan nan nan nan</pre><div class='xr-wrap' style='display:none'><div class='xr-header'><div class='xr-obj-type'>xarray.DataArray</div><div class='xr-array-name'></div><ul class='xr-dim-list'><li><span class='xr-has-index'>state</span>: 560640</li><li><span class='xr-has-index'>mli</span>: 124</li></ul></div><ul class='xr-sections'><li class='xr-section-item'><div class='xr-array-wrap'><input id='section-b0fbc86b-3b69-4677-953f-aac8063eff31' class='xr-array-in' type='checkbox' checked><label for='section-b0fbc86b-3b69-4677-953f-aac8063eff31' title='Show/hide data repr'><svg class='icon xr-icon-database'><use xlink:href='#icon-database'></use></svg></label><div class='xr-array-preview xr-preview'><span>213.7 222.0 228.7 245.5 258.0 ... 0.001847 1.004e+05 525.5 91.05 92.32</span></div><div class='xr-array-data'><pre>array([[213.73032594, 222.04964262, 228.73855859, ...,   0.        ,\n",
       "         88.17297259,   5.6666183 ],\n",
       "       [213.27482552, 225.59957071, 229.04126676, ...,   0.        ,\n",
       "        102.74154388,  11.11695314],\n",
       "       [216.94376003, 219.79014947, 234.23118806, ...,   0.        ,\n",
       "        187.96856849,   8.0449528 ],\n",
       "       ...,\n",
       "       [220.7407028 , 232.83865793, 240.63842692, ..., 304.65936549,\n",
       "          1.2265957 ,   6.01719117],\n",
       "       [209.61940069, 227.75367568, 234.60989456, ..., 536.51329351,\n",
       "        108.31637075, 170.00201299],\n",
       "       [225.14715663, 233.06017282, 240.20586675, ..., 525.54204937,\n",
       "         91.04680107,  92.3247281 ]])</pre></div></div></li><li class='xr-section-item'><input id='section-7dca4341-9325-44c3-a8c0-78b045bfb3c5' class='xr-section-summary-in' type='checkbox'  checked><label for='section-7dca4341-9325-44c3-a8c0-78b045bfb3c5' class='xr-section-summary' >Coordinates: <span>(6)</span></label><div class='xr-section-inline-details'></div><div class='xr-section-details'><ul class='xr-var-list'><li class='xr-var-item'><div class='xr-var-name'><span class='xr-has-index'>state</span></div><div class='xr-var-dims'>(state)</div><div class='xr-var-dtype'>object</div><div class='xr-var-preview xr-preview'>MultiIndex</div><input id='attrs-25e01b4a-c694-454a-aa24-bc7377c53a34' class='xr-var-attrs-in' type='checkbox' disabled><label for='attrs-25e01b4a-c694-454a-aa24-bc7377c53a34' title='Show/Hide attributes'><svg class='icon xr-icon-file-text2'><use xlink:href='#icon-file-text2'></use></svg></label><input id='data-4592b333-b075-4985-8105-3d658d1b336a' class='xr-var-data-in' type='checkbox'><label for='data-4592b333-b075-4985-8105-3d658d1b336a' title='Show/Hide data repr'><svg class='icon xr-icon-database'><use xlink:href='#icon-database'></use></svg></label><div class='xr-var-attrs'><dl class='xr-attrs'></dl></div><div class='xr-var-data'><pre>array([(0, 0), (0, 1), (0, 2), ..., (1459, 381), (1459, 382), (1459, 383)],\n",
       "      dtype=object)</pre></div></li><li class='xr-var-item'><div class='xr-var-name'><span class='xr-has-index'>sample</span></div><div class='xr-var-dims'>(state)</div><div class='xr-var-dtype'>int64</div><div class='xr-var-preview xr-preview'>0 0 0 0 0 ... 1459 1459 1459 1459</div><input id='attrs-d458c25d-109c-4390-9bf7-ec1683cd87b5' class='xr-var-attrs-in' type='checkbox' disabled><label for='attrs-d458c25d-109c-4390-9bf7-ec1683cd87b5' title='Show/Hide attributes'><svg class='icon xr-icon-file-text2'><use xlink:href='#icon-file-text2'></use></svg></label><input id='data-a7f5e401-d6d7-43c7-a7c7-e482451e030a' class='xr-var-data-in' type='checkbox'><label for='data-a7f5e401-d6d7-43c7-a7c7-e482451e030a' title='Show/Hide data repr'><svg class='icon xr-icon-database'><use xlink:href='#icon-database'></use></svg></label><div class='xr-var-attrs'><dl class='xr-attrs'></dl></div><div class='xr-var-data'><pre>array([   0,    0,    0, ..., 1459, 1459, 1459])</pre></div></li><li class='xr-var-item'><div class='xr-var-name'><span class='xr-has-index'>ncol</span></div><div class='xr-var-dims'>(state)</div><div class='xr-var-dtype'>int64</div><div class='xr-var-preview xr-preview'>0 1 2 3 4 5 ... 379 380 381 382 383</div><input id='attrs-771c2452-adf5-4320-9204-3848e38bcb24' class='xr-var-attrs-in' type='checkbox' disabled><label for='attrs-771c2452-adf5-4320-9204-3848e38bcb24' title='Show/Hide attributes'><svg class='icon xr-icon-file-text2'><use xlink:href='#icon-file-text2'></use></svg></label><input id='data-007881ad-e21a-4c92-922e-462ee2008fb4' class='xr-var-data-in' type='checkbox'><label for='data-007881ad-e21a-4c92-922e-462ee2008fb4' title='Show/Hide data repr'><svg class='icon xr-icon-database'><use xlink:href='#icon-database'></use></svg></label><div class='xr-var-attrs'><dl class='xr-attrs'></dl></div><div class='xr-var-data'><pre>array([  0,   1,   2, ..., 381, 382, 383])</pre></div></li><li class='xr-var-item'><div class='xr-var-name'><span class='xr-has-index'>mli</span></div><div class='xr-var-dims'>(mli)</div><div class='xr-var-dtype'>object</div><div class='xr-var-preview xr-preview'>MultiIndex</div><input id='attrs-f8310f0d-366e-48e5-978f-e4d01b54e72b' class='xr-var-attrs-in' type='checkbox' disabled><label for='attrs-f8310f0d-366e-48e5-978f-e4d01b54e72b' title='Show/Hide attributes'><svg class='icon xr-icon-file-text2'><use xlink:href='#icon-file-text2'></use></svg></label><input id='data-d72ee1cf-9c1e-4e16-8e93-107aa234750e' class='xr-var-data-in' type='checkbox'><label for='data-d72ee1cf-9c1e-4e16-8e93-107aa234750e' title='Show/Hide data repr'><svg class='icon xr-icon-database'><use xlink:href='#icon-database'></use></svg></label><div class='xr-var-attrs'><dl class='xr-attrs'></dl></div><div class='xr-var-data'><pre>array([(&#x27;state_t&#x27;, 0), (&#x27;state_t&#x27;, 1), (&#x27;state_t&#x27;, 2), (&#x27;state_t&#x27;, 3),\n",
       "       (&#x27;state_t&#x27;, 4), (&#x27;state_t&#x27;, 5), (&#x27;state_t&#x27;, 6), (&#x27;state_t&#x27;, 7),\n",
       "       (&#x27;state_t&#x27;, 8), (&#x27;state_t&#x27;, 9), (&#x27;state_t&#x27;, 10), (&#x27;state_t&#x27;, 11),\n",
       "       (&#x27;state_t&#x27;, 12), (&#x27;state_t&#x27;, 13), (&#x27;state_t&#x27;, 14), (&#x27;state_t&#x27;, 15),\n",
       "       (&#x27;state_t&#x27;, 16), (&#x27;state_t&#x27;, 17), (&#x27;state_t&#x27;, 18), (&#x27;state_t&#x27;, 19),\n",
       "       (&#x27;state_t&#x27;, 20), (&#x27;state_t&#x27;, 21), (&#x27;state_t&#x27;, 22), (&#x27;state_t&#x27;, 23),\n",
       "       (&#x27;state_t&#x27;, 24), (&#x27;state_t&#x27;, 25), (&#x27;state_t&#x27;, 26), (&#x27;state_t&#x27;, 27),\n",
       "       (&#x27;state_t&#x27;, 28), (&#x27;state_t&#x27;, 29), (&#x27;state_t&#x27;, 30), (&#x27;state_t&#x27;, 31),\n",
       "       (&#x27;state_t&#x27;, 32), (&#x27;state_t&#x27;, 33), (&#x27;state_t&#x27;, 34), (&#x27;state_t&#x27;, 35),\n",
       "       (&#x27;state_t&#x27;, 36), (&#x27;state_t&#x27;, 37), (&#x27;state_t&#x27;, 38), (&#x27;state_t&#x27;, 39),\n",
       "       (&#x27;state_t&#x27;, 40), (&#x27;state_t&#x27;, 41), (&#x27;state_t&#x27;, 42), (&#x27;state_t&#x27;, 43),\n",
       "       (&#x27;state_t&#x27;, 44), (&#x27;state_t&#x27;, 45), (&#x27;state_t&#x27;, 46), (&#x27;state_t&#x27;, 47),\n",
       "       (&#x27;state_t&#x27;, 48), (&#x27;state_t&#x27;, 49), (&#x27;state_t&#x27;, 50), (&#x27;state_t&#x27;, 51),\n",
       "       (&#x27;state_t&#x27;, 52), (&#x27;state_t&#x27;, 53), (&#x27;state_t&#x27;, 54), (&#x27;state_t&#x27;, 55),\n",
       "       (&#x27;state_t&#x27;, 56), (&#x27;state_t&#x27;, 57), (&#x27;state_t&#x27;, 58), (&#x27;state_t&#x27;, 59),\n",
       "       (&#x27;state_q0001&#x27;, 0), (&#x27;state_q0001&#x27;, 1), (&#x27;state_q0001&#x27;, 2),\n",
       "       (&#x27;state_q0001&#x27;, 3), (&#x27;state_q0001&#x27;, 4), (&#x27;state_q0001&#x27;, 5),\n",
       "       (&#x27;state_q0001&#x27;, 6), (&#x27;state_q0001&#x27;, 7), (&#x27;state_q0001&#x27;, 8),\n",
       "       (&#x27;state_q0001&#x27;, 9), (&#x27;state_q0001&#x27;, 10), (&#x27;state_q0001&#x27;, 11),\n",
       "       (&#x27;state_q0001&#x27;, 12), (&#x27;state_q0001&#x27;, 13), (&#x27;state_q0001&#x27;, 14),\n",
       "       (&#x27;state_q0001&#x27;, 15), (&#x27;state_q0001&#x27;, 16), (&#x27;state_q0001&#x27;, 17),\n",
       "       (&#x27;state_q0001&#x27;, 18), (&#x27;state_q0001&#x27;, 19), (&#x27;state_q0001&#x27;, 20),\n",
       "       (&#x27;state_q0001&#x27;, 21), (&#x27;state_q0001&#x27;, 22), (&#x27;state_q0001&#x27;, 23),\n",
       "       (&#x27;state_q0001&#x27;, 24), (&#x27;state_q0001&#x27;, 25), (&#x27;state_q0001&#x27;, 26),\n",
       "       (&#x27;state_q0001&#x27;, 27), (&#x27;state_q0001&#x27;, 28), (&#x27;state_q0001&#x27;, 29),\n",
       "       (&#x27;state_q0001&#x27;, 30), (&#x27;state_q0001&#x27;, 31), (&#x27;state_q0001&#x27;, 32),\n",
       "       (&#x27;state_q0001&#x27;, 33), (&#x27;state_q0001&#x27;, 34), (&#x27;state_q0001&#x27;, 35),\n",
       "       (&#x27;state_q0001&#x27;, 36), (&#x27;state_q0001&#x27;, 37), (&#x27;state_q0001&#x27;, 38),\n",
       "       (&#x27;state_q0001&#x27;, 39), (&#x27;state_q0001&#x27;, 40), (&#x27;state_q0001&#x27;, 41),\n",
       "       (&#x27;state_q0001&#x27;, 42), (&#x27;state_q0001&#x27;, 43), (&#x27;state_q0001&#x27;, 44),\n",
       "       (&#x27;state_q0001&#x27;, 45), (&#x27;state_q0001&#x27;, 46), (&#x27;state_q0001&#x27;, 47),\n",
       "       (&#x27;state_q0001&#x27;, 48), (&#x27;state_q0001&#x27;, 49), (&#x27;state_q0001&#x27;, 50),\n",
       "       (&#x27;state_q0001&#x27;, 51), (&#x27;state_q0001&#x27;, 52), (&#x27;state_q0001&#x27;, 53),\n",
       "       (&#x27;state_q0001&#x27;, 54), (&#x27;state_q0001&#x27;, 55), (&#x27;state_q0001&#x27;, 56),\n",
       "       (&#x27;state_q0001&#x27;, 57), (&#x27;state_q0001&#x27;, 58), (&#x27;state_q0001&#x27;, 59),\n",
       "       (&#x27;state_ps&#x27;, nan), (&#x27;pbuf_SOLIN&#x27;, nan), (&#x27;pbuf_LHFLX&#x27;, nan),\n",
       "       (&#x27;pbuf_SHFLX&#x27;, nan)], dtype=object)</pre></div></li><li class='xr-var-item'><div class='xr-var-name'><span class='xr-has-index'>variable</span></div><div class='xr-var-dims'>(mli)</div><div class='xr-var-dtype'>object</div><div class='xr-var-preview xr-preview'>&#x27;state_t&#x27; ... &#x27;pbuf_SHFLX&#x27;</div><input id='attrs-a36cf384-25bf-4102-b9de-6e74ee86bbe0' class='xr-var-attrs-in' type='checkbox' disabled><label for='attrs-a36cf384-25bf-4102-b9de-6e74ee86bbe0' title='Show/Hide attributes'><svg class='icon xr-icon-file-text2'><use xlink:href='#icon-file-text2'></use></svg></label><input id='data-00a2d5f5-c070-43d2-9842-abc6a7a515ba' class='xr-var-data-in' type='checkbox'><label for='data-00a2d5f5-c070-43d2-9842-abc6a7a515ba' title='Show/Hide data repr'><svg class='icon xr-icon-database'><use xlink:href='#icon-database'></use></svg></label><div class='xr-var-attrs'><dl class='xr-attrs'></dl></div><div class='xr-var-data'><pre>array([&#x27;state_t&#x27;, &#x27;state_t&#x27;, &#x27;state_t&#x27;, &#x27;state_t&#x27;, &#x27;state_t&#x27;, &#x27;state_t&#x27;,\n",
       "       &#x27;state_t&#x27;, &#x27;state_t&#x27;, &#x27;state_t&#x27;, &#x27;state_t&#x27;, &#x27;state_t&#x27;, &#x27;state_t&#x27;,\n",
       "       &#x27;state_t&#x27;, &#x27;state_t&#x27;, &#x27;state_t&#x27;, &#x27;state_t&#x27;, &#x27;state_t&#x27;, &#x27;state_t&#x27;,\n",
       "       &#x27;state_t&#x27;, &#x27;state_t&#x27;, &#x27;state_t&#x27;, &#x27;state_t&#x27;, &#x27;state_t&#x27;, &#x27;state_t&#x27;,\n",
       "       &#x27;state_t&#x27;, &#x27;state_t&#x27;, &#x27;state_t&#x27;, &#x27;state_t&#x27;, &#x27;state_t&#x27;, &#x27;state_t&#x27;,\n",
       "       &#x27;state_t&#x27;, &#x27;state_t&#x27;, &#x27;state_t&#x27;, &#x27;state_t&#x27;, &#x27;state_t&#x27;, &#x27;state_t&#x27;,\n",
       "       &#x27;state_t&#x27;, &#x27;state_t&#x27;, &#x27;state_t&#x27;, &#x27;state_t&#x27;, &#x27;state_t&#x27;, &#x27;state_t&#x27;,\n",
       "       &#x27;state_t&#x27;, &#x27;state_t&#x27;, &#x27;state_t&#x27;, &#x27;state_t&#x27;, &#x27;state_t&#x27;, &#x27;state_t&#x27;,\n",
       "       &#x27;state_t&#x27;, &#x27;state_t&#x27;, &#x27;state_t&#x27;, &#x27;state_t&#x27;, &#x27;state_t&#x27;, &#x27;state_t&#x27;,\n",
       "       &#x27;state_t&#x27;, &#x27;state_t&#x27;, &#x27;state_t&#x27;, &#x27;state_t&#x27;, &#x27;state_t&#x27;, &#x27;state_t&#x27;,\n",
       "       &#x27;state_q0001&#x27;, &#x27;state_q0001&#x27;, &#x27;state_q0001&#x27;, &#x27;state_q0001&#x27;,\n",
       "       &#x27;state_q0001&#x27;, &#x27;state_q0001&#x27;, &#x27;state_q0001&#x27;, &#x27;state_q0001&#x27;,\n",
       "       &#x27;state_q0001&#x27;, &#x27;state_q0001&#x27;, &#x27;state_q0001&#x27;, &#x27;state_q0001&#x27;,\n",
       "       &#x27;state_q0001&#x27;, &#x27;state_q0001&#x27;, &#x27;state_q0001&#x27;, &#x27;state_q0001&#x27;,\n",
       "       &#x27;state_q0001&#x27;, &#x27;state_q0001&#x27;, &#x27;state_q0001&#x27;, &#x27;state_q0001&#x27;,\n",
       "       &#x27;state_q0001&#x27;, &#x27;state_q0001&#x27;, &#x27;state_q0001&#x27;, &#x27;state_q0001&#x27;,\n",
       "       &#x27;state_q0001&#x27;, &#x27;state_q0001&#x27;, &#x27;state_q0001&#x27;, &#x27;state_q0001&#x27;,\n",
       "       &#x27;state_q0001&#x27;, &#x27;state_q0001&#x27;, &#x27;state_q0001&#x27;, &#x27;state_q0001&#x27;,\n",
       "       &#x27;state_q0001&#x27;, &#x27;state_q0001&#x27;, &#x27;state_q0001&#x27;, &#x27;state_q0001&#x27;,\n",
       "       &#x27;state_q0001&#x27;, &#x27;state_q0001&#x27;, &#x27;state_q0001&#x27;, &#x27;state_q0001&#x27;,\n",
       "       &#x27;state_q0001&#x27;, &#x27;state_q0001&#x27;, &#x27;state_q0001&#x27;, &#x27;state_q0001&#x27;,\n",
       "       &#x27;state_q0001&#x27;, &#x27;state_q0001&#x27;, &#x27;state_q0001&#x27;, &#x27;state_q0001&#x27;,\n",
       "       &#x27;state_q0001&#x27;, &#x27;state_q0001&#x27;, &#x27;state_q0001&#x27;, &#x27;state_q0001&#x27;,\n",
       "       &#x27;state_q0001&#x27;, &#x27;state_q0001&#x27;, &#x27;state_q0001&#x27;, &#x27;state_q0001&#x27;,\n",
       "       &#x27;state_q0001&#x27;, &#x27;state_q0001&#x27;, &#x27;state_q0001&#x27;, &#x27;state_q0001&#x27;, &#x27;state_ps&#x27;,\n",
       "       &#x27;pbuf_SOLIN&#x27;, &#x27;pbuf_LHFLX&#x27;, &#x27;pbuf_SHFLX&#x27;], dtype=object)</pre></div></li><li class='xr-var-item'><div class='xr-var-name'><span class='xr-has-index'>lev</span></div><div class='xr-var-dims'>(mli)</div><div class='xr-var-dtype'>object</div><div class='xr-var-preview xr-preview'>0 1 2 3 4 5 ... 59 nan nan nan nan</div><input id='attrs-cc52a87e-f03e-45eb-93a8-de9e1ce9d21c' class='xr-var-attrs-in' type='checkbox' disabled><label for='attrs-cc52a87e-f03e-45eb-93a8-de9e1ce9d21c' title='Show/Hide attributes'><svg class='icon xr-icon-file-text2'><use xlink:href='#icon-file-text2'></use></svg></label><input id='data-fc037952-1387-4436-b009-2cf50af02bce' class='xr-var-data-in' type='checkbox'><label for='data-fc037952-1387-4436-b009-2cf50af02bce' title='Show/Hide data repr'><svg class='icon xr-icon-database'><use xlink:href='#icon-database'></use></svg></label><div class='xr-var-attrs'><dl class='xr-attrs'></dl></div><div class='xr-var-data'><pre>array([0, 1, 2, 3, 4, 5, 6, 7, 8, 9, 10, 11, 12, 13, 14, 15, 16, 17, 18, 19,\n",
       "       20, 21, 22, 23, 24, 25, 26, 27, 28, 29, 30, 31, 32, 33, 34, 35, 36, 37,\n",
       "       38, 39, 40, 41, 42, 43, 44, 45, 46, 47, 48, 49, 50, 51, 52, 53, 54, 55,\n",
       "       56, 57, 58, 59, 0, 1, 2, 3, 4, 5, 6, 7, 8, 9, 10, 11, 12, 13, 14, 15,\n",
       "       16, 17, 18, 19, 20, 21, 22, 23, 24, 25, 26, 27, 28, 29, 30, 31, 32, 33,\n",
       "       34, 35, 36, 37, 38, 39, 40, 41, 42, 43, 44, 45, 46, 47, 48, 49, 50, 51,\n",
       "       52, 53, 54, 55, 56, 57, 58, 59, nan, nan, nan, nan], dtype=object)</pre></div></li></ul></div></li><li class='xr-section-item'><input id='section-ee3f9472-1711-44ec-a947-d4ec71b3b5a2' class='xr-section-summary-in' type='checkbox'  ><label for='section-ee3f9472-1711-44ec-a947-d4ec71b3b5a2' class='xr-section-summary' >Indexes: <span>(2)</span></label><div class='xr-section-inline-details'></div><div class='xr-section-details'><ul class='xr-var-list'><li class='xr-var-item'><div class='xr-index-name'><div>state<br>sample<br>ncol</div></div><div class='xr-index-preview'>PandasMultiIndex</div><div></div><input id='index-0020f8fc-2a89-4679-aa00-dc8347b53ddd' class='xr-index-data-in' type='checkbox'/><label for='index-0020f8fc-2a89-4679-aa00-dc8347b53ddd' title='Show/Hide index repr'><svg class='icon xr-icon-database'><use xlink:href='#icon-database'></use></svg></label><div class='xr-index-data'><pre>PandasIndex(MultiIndex([(   0,   0),\n",
       "            (   0,   1),\n",
       "            (   0,   2),\n",
       "            (   0,   3),\n",
       "            (   0,   4),\n",
       "            (   0,   5),\n",
       "            (   0,   6),\n",
       "            (   0,   7),\n",
       "            (   0,   8),\n",
       "            (   0,   9),\n",
       "            ...\n",
       "            (1459, 374),\n",
       "            (1459, 375),\n",
       "            (1459, 376),\n",
       "            (1459, 377),\n",
       "            (1459, 378),\n",
       "            (1459, 379),\n",
       "            (1459, 380),\n",
       "            (1459, 381),\n",
       "            (1459, 382),\n",
       "            (1459, 383)],\n",
       "           name=&#x27;state&#x27;, length=560640))</pre></div></li><li class='xr-var-item'><div class='xr-index-name'><div>mli<br>variable<br>lev</div></div><div class='xr-index-preview'>PandasMultiIndex</div><div></div><input id='index-09d5d448-5289-4688-b152-0e3459ae2fa5' class='xr-index-data-in' type='checkbox'/><label for='index-09d5d448-5289-4688-b152-0e3459ae2fa5' title='Show/Hide index repr'><svg class='icon xr-icon-database'><use xlink:href='#icon-database'></use></svg></label><div class='xr-index-data'><pre>PandasIndex(MultiIndex([(    &#x27;state_t&#x27;,   0),\n",
       "            (    &#x27;state_t&#x27;,   1),\n",
       "            (    &#x27;state_t&#x27;,   2),\n",
       "            (    &#x27;state_t&#x27;,   3),\n",
       "            (    &#x27;state_t&#x27;,   4),\n",
       "            (    &#x27;state_t&#x27;,   5),\n",
       "            (    &#x27;state_t&#x27;,   6),\n",
       "            (    &#x27;state_t&#x27;,   7),\n",
       "            (    &#x27;state_t&#x27;,   8),\n",
       "            (    &#x27;state_t&#x27;,   9),\n",
       "            ...\n",
       "            (&#x27;state_q0001&#x27;,  54),\n",
       "            (&#x27;state_q0001&#x27;,  55),\n",
       "            (&#x27;state_q0001&#x27;,  56),\n",
       "            (&#x27;state_q0001&#x27;,  57),\n",
       "            (&#x27;state_q0001&#x27;,  58),\n",
       "            (&#x27;state_q0001&#x27;,  59),\n",
       "            (   &#x27;state_ps&#x27;, nan),\n",
       "            ( &#x27;pbuf_SOLIN&#x27;, nan),\n",
       "            ( &#x27;pbuf_LHFLX&#x27;, nan),\n",
       "            ( &#x27;pbuf_SHFLX&#x27;, nan)],\n",
       "           name=&#x27;mli&#x27;, length=124))</pre></div></li></ul></div></li><li class='xr-section-item'><input id='section-4ba35b3d-e76c-4f3c-bab1-a7c7e49303fe' class='xr-section-summary-in' type='checkbox' disabled ><label for='section-4ba35b3d-e76c-4f3c-bab1-a7c7e49303fe' class='xr-section-summary'  title='Expand/collapse section'>Attributes: <span>(0)</span></label><div class='xr-section-inline-details'></div><div class='xr-section-details'><dl class='xr-attrs'></dl></div></li></ul></div></div>"
      ],
      "text/plain": [
       "<xarray.DataArray (state: 560640, mli: 124)> Size: 556MB\n",
       "array([[213.73032594, 222.04964262, 228.73855859, ...,   0.        ,\n",
       "         88.17297259,   5.6666183 ],\n",
       "       [213.27482552, 225.59957071, 229.04126676, ...,   0.        ,\n",
       "        102.74154388,  11.11695314],\n",
       "       [216.94376003, 219.79014947, 234.23118806, ...,   0.        ,\n",
       "        187.96856849,   8.0449528 ],\n",
       "       ...,\n",
       "       [220.7407028 , 232.83865793, 240.63842692, ..., 304.65936549,\n",
       "          1.2265957 ,   6.01719117],\n",
       "       [209.61940069, 227.75367568, 234.60989456, ..., 536.51329351,\n",
       "        108.31637075, 170.00201299],\n",
       "       [225.14715663, 233.06017282, 240.20586675, ..., 525.54204937,\n",
       "         91.04680107,  92.3247281 ]])\n",
       "Coordinates:\n",
       "  * state     (state) object 4MB MultiIndex\n",
       "  * sample    (state) int64 4MB 0 0 0 0 0 0 0 ... 1459 1459 1459 1459 1459 1459\n",
       "  * ncol      (state) int64 4MB 0 1 2 3 4 5 6 7 ... 377 378 379 380 381 382 383\n",
       "  * mli       (mli) object 992B MultiIndex\n",
       "  * variable  (mli) object 992B 'state_t' 'state_t' ... 'pbuf_SHFLX'\n",
       "  * lev       (mli) object 992B 0 1 2 3 4 5 6 7 ... 56 57 58 59 nan nan nan nan"
      ]
     },
     "execution_count": 6,
     "metadata": {},
     "output_type": "execute_result"
    }
   ],
   "source": [
    "Xarr"
   ]
  },
  {
   "cell_type": "code",
   "execution_count": 16,
   "id": "9be98674-6629-4ecb-a5c0-33c4aa32103e",
   "metadata": {},
   "outputs": [],
   "source": [
    "\n",
    "#_ROOT = \"diffusionsim/diffusionsim/\"\n",
    "#def get_path(file):\n",
    "#    return os.path.join(_ROOT, 'climsim_data', file)\n",
    "\n"
   ]
  },
  {
   "cell_type": "code",
   "execution_count": 7,
   "id": "4c4cdd76-aa7f-4344-9908-68792ab1668c",
   "metadata": {},
   "outputs": [
    {
     "name": "stdout",
     "output_type": "stream",
     "text": [
      "Normalizing data\n"
     ]
    }
   ],
   "source": [
    "train_ds = ClimsimImageDataset(Xarr, Yarr, mconfig=diff.ModelConfig(), device=device)"
   ]
  },
  {
   "cell_type": "code",
   "execution_count": 8,
   "id": "4df1602e-99ba-41c9-b67a-e45de9e376fa",
   "metadata": {},
   "outputs": [
    {
     "name": "stdout",
     "output_type": "stream",
     "text": [
      "1460\n"
     ]
    },
    {
     "data": {
      "text/plain": [
       "torch.Size([1460, 128, 16, 24])"
      ]
     },
     "execution_count": 8,
     "metadata": {},
     "output_type": "execute_result"
    }
   ],
   "source": [
    "print(len(train_ds))\n",
    "train_ds.Y.shape"
   ]
  },
  {
   "cell_type": "code",
   "execution_count": 9,
   "id": "8a95b75a-e7b5-4194-894d-576e9f5d978c",
   "metadata": {},
   "outputs": [],
   "source": [
    "y_sample = train_ds[0]"
   ]
  },
  {
   "cell_type": "code",
   "execution_count": 10,
   "id": "108b0c20-3433-4a7f-b4e6-a79135c14f14",
   "metadata": {},
   "outputs": [
    {
     "data": {
      "text/plain": [
       "<matplotlib.colorbar.Colorbar at 0x7922607f6330>"
      ]
     },
     "execution_count": 10,
     "metadata": {},
     "output_type": "execute_result"
    },
    {
     "data": {
      "image/png": "[encoded data removed]",
      "text/plain": [
       "<Figure size 640x480 with 2 Axes>"
      ]
     },
     "metadata": {},
     "output_type": "display_data"
    }
   ],
   "source": [
    "plt.imshow(y_sample[59].cpu().detach().numpy())\n",
    "plt.colorbar()\n"
   ]
  },
  {
   "cell_type": "markdown",
   "id": "d6d76028-730f-4179-963d-ae64d8090eff",
   "metadata": {},
   "source": [
    "# Playground"
   ]
  },
  {
   "cell_type": "code",
   "execution_count": 22,
   "id": "bfba8a22-e834-4e9b-b3da-ac871bfc8a9c",
   "metadata": {},
   "outputs": [],
   "source": [
    "tconfig = diff.TrainingConfig()\n",
    "tconfig.batch_size = 4"
   ]
  },
  {
   "cell_type": "code",
   "execution_count": 24,
   "id": "f3ea8135-56a5-4f7f-b719-82410a594a00",
   "metadata": {},
   "outputs": [],
   "source": [
    "dataloader = DataLoader(train_ds, shuffle=tconfig.shuffle_data['train'], batch_size = tconfig.batch_size)"
   ]
  },
  {
   "cell_type": "code",
   "execution_count": 25,
   "id": "b45a0f8d-8706-4a15-a6e4-f0a0ff60c202",
   "metadata": {},
   "outputs": [
    {
     "data": {
      "text/plain": [
       "torch.Size([2, 128, 16, 24])"
      ]
     },
     "execution_count": 25,
     "metadata": {},
     "output_type": "execute_result"
    }
   ],
   "source": [
    "input_sample = next(iter(dataloader))\n",
    "input_sample.shape"
   ]
  },
  {
   "cell_type": "code",
   "execution_count": 26,
   "id": "6b8d2ac2-4e15-44f3-ae69-b4c7f855e60b",
   "metadata": {},
   "outputs": [
    {
     "data": {
      "text/plain": [
       "1"
      ]
     },
     "execution_count": 26,
     "metadata": {},
     "output_type": "execute_result"
    }
   ],
   "source": [
    "len(dataloader)"
   ]
  },
  {
   "cell_type": "code",
   "execution_count": null,
   "id": "2962db5c-3fdc-4a73-a2bf-6430f7c3ec52",
   "metadata": {},
   "outputs": [],
   "source": []
  },
  {
   "cell_type": "code",
   "execution_count": 21,
   "id": "2794a42f-d1e6-41b2-bf73-c41eebea6eeb",
   "metadata": {},
   "outputs": [],
   "source": [
    "torch.manual_seed(0)\n",
    "np.random.seed(0)"
   ]
  },
  {
   "cell_type": "code",
   "execution_count": 120,
   "id": "88755e9d-e705-4373-82b7-e4b3abac964f",
   "metadata": {},
   "outputs": [
    {
     "data": {
      "text/plain": [
       "torch.Size([4, 128, 16, 24])"
      ]
     },
     "execution_count": 120,
     "metadata": {},
     "output_type": "execute_result"
    }
   ],
   "source": [
    "input_sample.shape"
   ]
  },
  {
   "cell_type": "markdown",
   "id": "d6922033-9985-48ab-825a-95723c423bc8",
   "metadata": {},
   "source": [
    "### Sampling $x_t$ from markov chain\n",
    "[DDPM Paper](https://arxiv.org/pdf/2006.11239)\n",
    "Given a **fixed** noise schedule $\\{\\beta_1, ..., \\beta_T\\}$, we can define $\\alpha_t:= 1- \\beta_t$ and $\\bar{\\alpha_t} = \\prod_{s=1}^t \\alpha_s$\n",
    "\n",
    "Giving rules for products of gaussians, we can conveniently sample from any arbitrary node in the Markov Chain as long as we condition on $x_0$. $$q(x_t|x_0) = \\mathcal N(\\sqrt{\\bar{\\alpha_t}} \\cdot x_0, (1-\\bar{\\alpha_t}) I)$$\n",
    "\n",
    "Given a sample $\\epsilon$ drawn from a standard gaussian, we leverage this to reparameterize $$x_t(x_0, \\epsilon) = \\sqrt{\\bar{\\alpha_t}} \\cdot x_0 + \\sqrt{1-\\bar{\\alpha_t}} \\cdot \\epsilon$$\n",
    "\n",
    "\n",
    "The loss, which can also be interpreted as training a noise-conditional score based model, is (14) from the paper: $$L_{simple} := \\mathbb{E} [||\\epsilon - \\epsilon_\\theta(x_t(x_0, \\epsilon, t), t)||^2]$$"
   ]
  },
  {
   "cell_type": "code",
   "execution_count": 1,
   "id": "9ca3b5ad-9a5e-44c4-985d-e509ee950524",
   "metadata": {},
   "outputs": [],
   "source": [
    "train_steps = 100"
   ]
  },
  {
   "cell_type": "code",
   "execution_count": 2,
   "id": "e59207cb-552f-4c79-a074-0f0e8977d8cc",
   "metadata": {
    "scrolled": true
   },
   "outputs": [
    {
     "data": {
      "text/plain": [
       "DDPMScheduler {\n",
       "  \"_class_name\": \"DDPMScheduler\",\n",
       "  \"_diffusers_version\": \"0.30.3\",\n",
       "  \"beta_end\": 0.02,\n",
       "  \"beta_schedule\": \"linear\",\n",
       "  \"beta_start\": 0.0001,\n",
       "  \"clip_sample\": true,\n",
       "  \"clip_sample_range\": 1.0,\n",
       "  \"dynamic_thresholding_ratio\": 0.995,\n",
       "  \"num_train_timesteps\": 100,\n",
       "  \"prediction_type\": \"epsilon\",\n",
       "  \"rescale_betas_zero_snr\": false,\n",
       "  \"sample_max_value\": 1.0,\n",
       "  \"steps_offset\": 0,\n",
       "  \"thresholding\": false,\n",
       "  \"timestep_spacing\": \"leading\",\n",
       "  \"trained_betas\": null,\n",
       "  \"variance_type\": \"fixed_small\"\n",
       "}"
      ]
     },
     "execution_count": 2,
     "metadata": {},
     "output_type": "execute_result"
    }
   ],
   "source": [
    "from diffusers import DDPMScheduler\n",
    "noise_scheduler = DDPMScheduler(num_train_timesteps=train_steps) # in charge of betas\n",
    "noise_scheduler"
   ]
  },
  {
   "cell_type": "code",
   "execution_count": 3,
   "id": "0a2821a4-7226-48a8-ad41-2a428965f6ce",
   "metadata": {},
   "outputs": [
    {
     "name": "stdout",
     "output_type": "stream",
     "text": [
      "100\n",
      "tensor([99, 98, 97, 96, 95, 94, 93, 92, 91, 90, 89, 88, 87, 86, 85, 84, 83, 82,\n",
      "        81, 80, 79, 78, 77, 76, 75, 74, 73, 72, 71, 70, 69, 68, 67, 66, 65, 64,\n",
      "        63, 62, 61, 60, 59, 58, 57, 56, 55, 54, 53, 52, 51, 50, 49, 48, 47, 46,\n",
      "        45, 44, 43, 42, 41, 40, 39, 38, 37, 36, 35, 34, 33, 32, 31, 30, 29, 28,\n",
      "        27, 26, 25, 24, 23, 22, 21, 20, 19, 18, 17, 16, 15, 14, 13, 12, 11, 10,\n",
      "         9,  8,  7,  6,  5,  4,  3,  2,  1,  0])\n"
     ]
    },
    {
     "data": {
      "text/plain": [
       "tensor([90, 80, 70, 60, 50, 40, 30, 20, 10,  0])"
      ]
     },
     "execution_count": 3,
     "metadata": {},
     "output_type": "execute_result"
    }
   ],
   "source": [
    "print(noise_scheduler.config.num_train_timesteps)\n",
    "print(noise_scheduler.timesteps)\n",
    "noise_scheduler.set_timesteps(10)\n",
    "noise_scheduler.timesteps"
   ]
  },
  {
   "cell_type": "code",
   "execution_count": null,
   "id": "8d83ee4c-65b3-491a-b1ae-ea9d5964780c",
   "metadata": {},
   "outputs": [],
   "source": [
    "noise_scheduler.set_timesteps(train_steps) # reset"
   ]
  },
  {
   "cell_type": "code",
   "execution_count": 32,
   "id": "8041df99-6845-49a6-a248-c3c51e334f3c",
   "metadata": {},
   "outputs": [
    {
     "name": "stdout",
     "output_type": "stream",
     "text": [
      "tensor(0.)\n"
     ]
    },
    {
     "data": {
      "text/plain": [
       "tensor([0.9999, 0.9996, 0.9991, 0.9984, 0.9975, 0.9964])"
      ]
     },
     "execution_count": 32,
     "metadata": {},
     "output_type": "execute_result"
    }
   ],
   "source": [
    "def get_alpha_t_manual(t, scheduler=noise_scheduler):\n",
    "    a = 1\n",
    "    for s in range(t+1):\n",
    "        a = a * (1-scheduler.betas[s])\n",
    "    return(a)\n",
    "print(get_alpha_t_manual(5) - noise_scheduler.alphas_cumprod[5])\n",
    "noise_scheduler.alphas_cumprod[:6]"
   ]
  },
  {
   "cell_type": "code",
   "execution_count": 52,
   "id": "c9733fc2-6452-4619-bd68-89372d04c43b",
   "metadata": {},
   "outputs": [],
   "source": [
    "def sample_xt(x0, t):\n",
    "    eps = torch.randn(x0.shape) # BS x C x H x W\n",
    "    xt = noise_scheduler.add_noise(x0, eps, torch.LongTensor(t)) # noisy image\n",
    "    return(xt, eps)"
   ]
  },
  {
   "cell_type": "code",
   "execution_count": 35,
   "id": "975f9445-6b0f-4fc6-b756-9e0ef0d9fe38",
   "metadata": {},
   "outputs": [],
   "source": [
    "t = 50"
   ]
  },
  {
   "cell_type": "code",
   "execution_count": 53,
   "id": "e6090e42-3ab0-4f0b-a708-d833fecc10de",
   "metadata": {},
   "outputs": [],
   "source": [
    "x50, eps = sample_xt(input_sample, [t])"
   ]
  },
  {
   "cell_type": "code",
   "execution_count": 55,
   "id": "770144ab-bd5c-4054-9dc3-f772d792aa45",
   "metadata": {},
   "outputs": [],
   "source": [
    "at = noise_scheduler.alphas_cumprod[t]\n",
    "x50_manual = torch.sqrt(at) * input_sample + torch.sqrt(1-at)*eps"
   ]
  },
  {
   "cell_type": "code",
   "execution_count": 56,
   "id": "049c9826-aa01-439f-ac77-33225dfeef8e",
   "metadata": {},
   "outputs": [],
   "source": [
    "loss_fn = torch.nn.MSELoss()"
   ]
  },
  {
   "cell_type": "code",
   "execution_count": 57,
   "id": "42a358f8-c9d6-410a-a1ee-dd5725ed71b8",
   "metadata": {},
   "outputs": [
    {
     "data": {
      "text/plain": [
       "tensor(0.)"
      ]
     },
     "execution_count": 57,
     "metadata": {},
     "output_type": "execute_result"
    }
   ],
   "source": [
    "loss_fn(x50_manual, x50) # the same! "
   ]
  },
  {
   "cell_type": "markdown",
   "id": "cb189099-e229-46fd-9b20-a1af2f88a68f",
   "metadata": {},
   "source": [
    "Loss called to match model prediction to actual noise used to generate noisy latent. "
   ]
  },
  {
   "cell_type": "markdown",
   "id": "85c1e646-5b03-4d0d-91f5-f9fdc776e882",
   "metadata": {},
   "source": [
    "training_loss = loss_fn(model(x_t, t).sample, epsilon_noise_sample)"
   ]
  },
  {
   "cell_type": "code",
   "execution_count": 63,
   "id": "967d093d-67dd-4bf8-8215-fb507710c46e",
   "metadata": {},
   "outputs": [
    {
     "data": {
      "text/plain": [
       "torch.Size([4, 128, 16, 24])"
      ]
     },
     "execution_count": 63,
     "metadata": {},
     "output_type": "execute_result"
    }
   ],
   "source": [
    "eps.shape"
   ]
  },
  {
   "cell_type": "code",
   "execution_count": 67,
   "id": "9ca77a97-52d1-48bd-992d-031649fddef2",
   "metadata": {},
   "outputs": [
    {
     "data": {
      "image/png": "[encoded data removed]",
      "text/plain": [
       "<Figure size 800x400 with 6 Axes>"
      ]
     },
     "metadata": {},
     "output_type": "display_data"
    }
   ],
   "source": [
    "fig, axes = plt.subplots(1, 3, figsize=(8, 4))\n",
    "\n",
    "im0 = axes[0].imshow(input_sample.permute(0, 2, 3, 1).cpu().numpy()[0, :, :, 59], 'viridis')\n",
    "axes[0].title.set_text(\"x0 original sample\")\n",
    "axes[0].set_axis_off()\n",
    "\n",
    "im1 = axes[1].imshow(x50.permute(0, 2, 3, 1).cpu().numpy()[0, :, :, 59], 'viridis')\n",
    "axes[1].set_axis_off()\n",
    "axes[1].title.set_text(\"x50 noisy sample\")\n",
    "\n",
    "im2 = axes[2].imshow(eps[0, 59, :, :], 'viridis')\n",
    "axes[2].set_axis_off()\n",
    "axes[2].title.set_text(\"Noise Level eps\")\n",
    "\n",
    "fig.colorbar(im0, ax=axes[0], orientation='vertical')\n",
    "fig.colorbar(im1, ax=axes[1], orientation='vertical')\n",
    "fig.colorbar(im2, ax=axes[2], orientation='vertical')\n",
    "plt.show()"
   ]
  },
  {
   "cell_type": "markdown",
   "id": "b77012bc-1d91-47ce-936f-66c66362bb61",
   "metadata": {
    "jp-MarkdownHeadingCollapsed": true
   },
   "source": [
    "### testing speed "
   ]
  },
  {
   "cell_type": "code",
   "execution_count": 62,
   "id": "e06cf0c7-861c-4803-9f83-44ba0eec2893",
   "metadata": {},
   "outputs": [],
   "source": [
    "class DiffusionDataset(torch.utils.data.Dataset):\n",
    "    def __init__(self, image_dataset, mconfig):\n",
    "        self.dataset = image_dataset\n",
    "        self.scheduler = image_dataset.scheduler\n",
    "        self.device = image_dataset.device\n",
    "        self.num_timesteps = self.scheduler.config.num_train_timesteps\n",
    "        self.sample_shape = image_dataset[0].shape\n",
    "        self.static_noise = torch.randn(self.sample_shape, device=self.device)\n",
    "    \n",
    "    def __len__(self):\n",
    "        return(len(self.dataset))\n",
    "\n",
    "    def __getitem__(self, idx, timestep=-1, static=False):\n",
    "        clean_image = self.dataset[idx]\n",
    "        noise = self.static_noise if static else torch.randn(clean_image.shape, device=self.device)\n",
    "        timestep = torch.randint(0, self.num_timesteps, size=(1,), device=self.device, dtype=torch.int64)\n",
    "        noisy_image = self.scheduler.add_noise(clean_image, noise, timestep)\n",
    "        return(noisy_image, timestep, noise)\n",
    "\n",
    "diffds = DiffusionDataset(train_ds, mconfig)\n",
    "dl = DataLoader(train_ds, batch_size=tconfig.batch_size, shuffle=False)\n",
    "def custom_cfn(batch):\n",
    "    noisy_images = torch.stack([item[0] for item in batch])  # Shape [N, C, H, W]\n",
    "    timesteps = torch.cat([item[1] for item in batch])  # Shape [N]\n",
    "    noise = torch.stack([item[2] for item in batch])  # Shape [N, C, H, W]\n",
    "    return noisy_images, timesteps, noise\n",
    "diffdl = DataLoader(diffds, batch_size=tconfig.batch_size, shuffle=False, collate_fn=custom_cfn)\n",
    "\n"
   ]
  },
  {
   "cell_type": "code",
   "execution_count": 63,
   "id": "3a29599c-369e-4d6d-b14c-be51a2a89a1d",
   "metadata": {},
   "outputs": [
    {
     "name": "stdout",
     "output_type": "stream",
     "text": [
      "48.3 ms ± 57.5 µs per loop (mean ± std. dev. of 7 runs, 10 loops each)\n"
     ]
    }
   ],
   "source": [
    "%%timeit\n",
    "for step, batch in enumerate(dl):\n",
    "    noisy_images, timesteps, noise = dl.dataset.noise_batch(batch)"
   ]
  },
  {
   "cell_type": "code",
   "execution_count": 64,
   "id": "6a0c1a3c-4559-475d-8cd2-70f9ea083640",
   "metadata": {},
   "outputs": [
    {
     "name": "stdout",
     "output_type": "stream",
     "text": [
      "217 ms ± 3.33 ms per loop (mean ± std. dev. of 7 runs, 1 loop each)\n"
     ]
    }
   ],
   "source": [
    "# definitely slower\n",
    "%%timeit\n",
    "for step, batch in enumerate(diffdl):\n",
    "    noisy_images, timesteps, noise = batch"
   ]
  },
  {
   "cell_type": "markdown",
   "id": "aada4d25-3d2a-4b60-9f34-0fee3b3478db",
   "metadata": {
    "jp-MarkdownHeadingCollapsed": true
   },
   "source": [
    "### How Reverse Diffusion with trained model works\n",
    "\n",
    "Given $\\epsilon$, we can obtain the distribution for a reverse diffusion step. Recall that $$p_\\theta(x_{t-1} | x_t) := \\mathcal{N}(x_{t-1}; \\mu_\\theta(x_t, t), \\Sigma_\\theta=\\sigma_t^2 I)$$\n",
    "where $\\sigma_t^2=\\beta_t$ is a common choice. \n",
    "\n",
    "\n",
    "$$x_{t-1} =\\dfrac{1}{\\alpha_t}\\left(x_t - \\dfrac{\\beta_t}{\\sqrt{1-\\alpha_t}} \\epsilon_\\theta(x_t, t)\\right) + \\sigma_t z \\,\\,\\,\\,\\,\\, z \\sim \\mathcal N(0, I)$$\n",
    "\n",
    "More simply, since $x_t = \\sqrt{1 - \\beta_t} x_{t-1} + \\sqrt{\\beta_t} \\sigma_t$, then $x_{t-1} = \\dfrac{1}{\\alpha_t}(x_t - \\sqrt{\\beta_t} \\epsilon_\\theta)$"
   ]
  },
  {
   "cell_type": "code",
   "execution_count": 68,
   "id": "01ab2ebc-7499-4b38-991a-7c47ba679468",
   "metadata": {},
   "outputs": [
    {
     "data": {
      "text/plain": [
       "tensor([99, 98, 97, 96, 95, 94, 93, 92, 91, 90, 89, 88, 87, 86, 85, 84, 83, 82,\n",
       "        81, 80, 79, 78, 77, 76, 75, 74, 73, 72, 71, 70, 69, 68, 67, 66, 65, 64,\n",
       "        63, 62, 61, 60, 59, 58, 57, 56, 55, 54, 53, 52, 51, 50, 49, 48, 47, 46,\n",
       "        45, 44, 43, 42, 41, 40, 39, 38, 37, 36, 35, 34, 33, 32, 31, 30, 29, 28,\n",
       "        27, 26, 25, 24, 23, 22, 21, 20, 19, 18, 17, 16, 15, 14, 13, 12, 11, 10,\n",
       "         9,  8,  7,  6,  5,  4,  3,  2,  1,  0])"
      ]
     },
     "execution_count": 68,
     "metadata": {},
     "output_type": "execute_result"
    }
   ],
   "source": [
    "noise_scheduler.timesteps"
   ]
  },
  {
   "cell_type": "code",
   "execution_count": 70,
   "id": "34cb2dfe-caeb-4e93-9f66-8cb8fbb1a4cc",
   "metadata": {},
   "outputs": [
    {
     "data": {
      "text/plain": [
       "(torch.Size([4, 128, 16, 24]), torch.Size([4, 128, 16, 24]))"
      ]
     },
     "execution_count": 70,
     "metadata": {},
     "output_type": "execute_result"
    }
   ],
   "source": [
    "x50.shape, eps.shape"
   ]
  },
  {
   "cell_type": "code",
   "execution_count": 78,
   "id": "8e46612c-ac31-415d-8d09-819fe02ea603",
   "metadata": {},
   "outputs": [],
   "source": [
    "gen = torch.Generator()"
   ]
  },
  {
   "cell_type": "code",
   "execution_count": 97,
   "id": "373d8e80-2482-4b91-a4d2-246a3e9ae589",
   "metadata": {},
   "outputs": [],
   "source": [
    "x49 = noise_scheduler.step(eps, timestep=50, sample=x50, generator=gen).prev_sample"
   ]
  },
  {
   "cell_type": "code",
   "execution_count": 98,
   "id": "a29ffe08-a8c7-4101-803e-6616006893f1",
   "metadata": {},
   "outputs": [],
   "source": [
    "x49b = noise_scheduler.step(eps, timestep=50, sample=x50, generator=gen).prev_sample"
   ]
  },
  {
   "cell_type": "code",
   "execution_count": 103,
   "id": "9c6eee72-8893-4381-ac13-77ba2e25fb5e",
   "metadata": {},
   "outputs": [
    {
     "data": {
      "text/plain": [
       "<matplotlib.colorbar.Colorbar at 0x7fdf5a830450>"
      ]
     },
     "execution_count": 103,
     "metadata": {},
     "output_type": "execute_result"
    },
    {
     "data": {
      "image/png": "[encoded data removed]",
      "text/plain": [
       "<Figure size 640x480 with 2 Axes>"
      ]
     },
     "metadata": {},
     "output_type": "display_data"
    }
   ],
   "source": [
    "sigma_diff = (x49 - x49b) / np.sqrt(noise_scheduler.betas[50])\n",
    "plt.imshow(sigma_diff[0,59,:,:]/2)\n",
    "plt.colorbar()"
   ]
  },
  {
   "cell_type": "code",
   "execution_count": 92,
   "id": "36dd019c-e00b-46cb-acf5-71e1bf71ef22",
   "metadata": {},
   "outputs": [],
   "source": [
    "def manual_inference_step(epsilon, t, xt, scheduler):\n",
    "    # x t-1\n",
    "    bt = noise_scheduler.betas[t]\n",
    "    x = xt - np.sqrt(bt) * epsilon\n",
    "    x = x / np.sqrt(1 - bt)\n",
    "    return(x)"
   ]
  },
  {
   "cell_type": "code",
   "execution_count": 104,
   "id": "1d68b2ae-e105-45fe-a7a6-0c83297c57eb",
   "metadata": {},
   "outputs": [],
   "source": [
    "def run_pipeline(model, scheduler):\n",
    "    # get x t-1 given x_t\n",
    "    input =  torch.randn(input_sample.shape)\n",
    "    for t in scheduler.timesteps:\n",
    "        with torch.no_grad():\n",
    "            noisy_residual = model(input, t).sample\n",
    "        previous_noisy_sample = scheduler.step(noisy_residual, t, input).prev_sample\n",
    "        input = previous_noisy_sample\n"
   ]
  },
  {
   "cell_type": "code",
   "execution_count": null,
   "id": "3c1f5745-d69d-4f2a-8820-98aa07460901",
   "metadata": {},
   "outputs": [],
   "source": []
  },
  {
   "cell_type": "code",
   "execution_count": null,
   "id": "2886166e-7eff-4065-81b1-5b31660553a7",
   "metadata": {},
   "outputs": [],
   "source": []
  },
  {
   "cell_type": "markdown",
   "id": "f897273f-aa8d-40df-9afd-c2364091da61",
   "metadata": {
    "jp-MarkdownHeadingCollapsed": true
   },
   "source": [
    "## U Net Model\n",
    "\n",
    "Ok so we have our noisy dataset and our well defined task. Let's explore the model!\n",
    "\n",
    "- U Net at its core is a convolution based encoder decoder architecture that progressively reduces height/width dimensionality but adds channels with \"down blocks\" and rescales with \"upblocks\". Residual connections as well\n",
    "- Timestep is fed into noise-conditional model via a time embedding. \"temb\" is a parameter in all the downsample blocks\n",
    "\n",
    "\n",
    "Resources: \n",
    "- [Time Embeddings and conditioning](https://varun-ml.github.io/posts/diffusion-models/denoising-diffusion-models-2/)"
   ]
  },
  {
   "cell_type": "code",
   "execution_count": 212,
   "id": "5633d580-5c97-4e37-ac69-6f7087f273eb",
   "metadata": {},
   "outputs": [],
   "source": [
    "@dataclass\n",
    "class DiffusionModelConfig:\n",
    "    model_type: str = \"diffusion\"\n",
    "    image_height = 16\n",
    "    image_width  = 24\n",
    "    in_channels: int = 128\n",
    "    latent_dims: int = 16\n",
    "    out_channels: int = 128\n",
    "    block_out_channels: Tuple = field(default_factory=lambda: (32, 64, 64, 128))  # num output channel for each UNet block\n",
    "    down_blocks: Tuple = field(default_factory=lambda: (\n",
    "        \"DownBlock2D\",  # a regular ResNet downsampling block\n",
    "        \"DownBlock2D\",\n",
    "        \"AttnDownBlock2D\",  # a ResNet downsampling block with spatial self-attention\n",
    "        \"DownBlock2D\",\n",
    "    ))\n",
    "    up_blocks: Tuple = field(default_factory=lambda: (\n",
    "        \"UpBlock2D\",  # a regular ResNet upsampling block\n",
    "        \"AttnUpBlock2D\",  # a ResNet upsampling block with spatial self-attention\n",
    "        \"UpBlock2D\",\n",
    "        \"UpBlock2D\",\n",
    "    ))"
   ]
  },
  {
   "cell_type": "code",
   "execution_count": 213,
   "id": "5cdcb06d-af97-479f-b297-e05806817f91",
   "metadata": {},
   "outputs": [],
   "source": [
    "def load_model(config, device):\n",
    "    registered = ['VAE', 'diffusion', 'latent_diffusion']\n",
    "    match config.model_type:\n",
    "        case \"VAE\":\n",
    "            model = VariationalAutoencoder(\n",
    "                data_dims= config.num_channels, \n",
    "                latent_dims= config.latent_dims, \n",
    "                hidden_dims= config.ae_hidden_dims, \n",
    "                device = device,\n",
    "            )\n",
    "        case model_type if \"diffusion\" in model_type:\n",
    "            channels = config.latent_dims if 'latent' in model_type else config.in_channels\n",
    "            model = diffusers.UNet2DModel(\n",
    "                sample_size=(config.image_height, config.image_width),  # the target image resolution\n",
    "                in_channels=channels,  # the number of input channels, 3 for RGB images\n",
    "                out_channels=channels,  # the number of output channels\n",
    "                layers_per_block=1,  # how many ResNet layers to use per UNet block\n",
    "                block_out_channels=config.block_out_channels, \n",
    "                down_block_types=config.down_blocks, \n",
    "                up_block_types=config.up_blocks,\n",
    "                norm_num_groups=16, \n",
    "            ).to(device)\n",
    "    return(model)"
   ]
  },
  {
   "cell_type": "markdown",
   "id": "3c8dec84-8b67-4426-b15e-02e0892b63a8",
   "metadata": {
    "jp-MarkdownHeadingCollapsed": true
   },
   "source": [
    "#### Regular Model (no latent space)"
   ]
  },
  {
   "cell_type": "code",
   "execution_count": 41,
   "id": "2173dd12-8940-495e-9ef2-5470ecc5c499",
   "metadata": {},
   "outputs": [
    {
     "data": {
      "text/plain": [
       "DiffusionModelConfig(model_type='diffusion', in_channels=128, latent_dims=16, out_channels=128, block_out_channels=(32, 64, 64, 128), down_blocks=('DownBlock2D', 'DownBlock2D', 'AttnDownBlock2D', 'DownBlock2D'), up_blocks=('UpBlock2D', 'AttnUpBlock2D', 'UpBlock2D', 'UpBlock2D'))"
      ]
     },
     "execution_count": 41,
     "metadata": {},
     "output_type": "execute_result"
    }
   ],
   "source": [
    "mconfig = DiffusionModelConfig()\n",
    "mconfig"
   ]
  },
  {
   "cell_type": "code",
   "execution_count": 43,
   "id": "08a6d42c-67c1-4dd8-89df-4d8c8b390569",
   "metadata": {},
   "outputs": [],
   "source": [
    "model = load_model(mconfig, device)"
   ]
  },
  {
   "cell_type": "code",
   "execution_count": 45,
   "id": "d40bc974-42fa-41aa-8139-1502e836b108",
   "metadata": {},
   "outputs": [],
   "source": [
    "#print(isinstance(layers[1], diffusers.models.embeddings.Timesteps))\n",
    "t = torch.tensor([1, 2, 3, 4])"
   ]
  },
  {
   "cell_type": "code",
   "execution_count": null,
   "id": "5ccb336c-3c65-4768-815f-154695ea1a62",
   "metadata": {},
   "outputs": [],
   "source": []
  },
  {
   "cell_type": "code",
   "execution_count": 46,
   "id": "aa7ad6b1-903e-4f97-a06d-482d4240879f",
   "metadata": {},
   "outputs": [
    {
     "ename": "NameError",
     "evalue": "name 'input_sample' is not defined",
     "output_type": "error",
     "traceback": [
      "\u001b[0;31m---------------------------------------------------------------------------\u001b[0m",
      "\u001b[0;31mNameError\u001b[0m                                 Traceback (most recent call last)",
      "Cell \u001b[0;32mIn[46], line 1\u001b[0m\n\u001b[0;32m----> 1\u001b[0m output \u001b[38;5;241m=\u001b[39m model(input_sample, timestep\u001b[38;5;241m=\u001b[39m\u001b[38;5;241m0\u001b[39m)\n\u001b[1;32m      2\u001b[0m output\u001b[38;5;241m.\u001b[39msample\u001b[38;5;241m.\u001b[39mshape\n",
      "\u001b[0;31mNameError\u001b[0m: name 'input_sample' is not defined"
     ]
    }
   ],
   "source": [
    "output = model(input_sample, timestep=0)\n",
    "output.sample.shape"
   ]
  },
  {
   "cell_type": "code",
   "execution_count": 71,
   "id": "30140e2b-3f2d-4930-836f-a01c82cb77a5",
   "metadata": {},
   "outputs": [
    {
     "data": {
      "image/png": "[encoded data removed]",
      "text/plain": [
       "<Figure size 640x480 with 2 Axes>"
      ]
     },
     "metadata": {},
     "output_type": "display_data"
    }
   ],
   "source": [
    "plt.imshow(output.sample[0].cpu().detach().numpy()[59])\n",
    "plt.title(f\"Predicted {train_ds.mlo[59].item()}\")\n",
    "plt.colorbar()\n",
    "plt.show()"
   ]
  },
  {
   "cell_type": "markdown",
   "id": "2ec129d2-dc2b-43a6-92d8-2aeff2227d65",
   "metadata": {
    "jp-MarkdownHeadingCollapsed": true
   },
   "source": [
    "## Latent Diffusion\n",
    "\n",
    "Following diffusers [source code](https://github.com/huggingface/diffusers/blob/main/src/diffusers/models/unets/unet_2d.py#L243)"
   ]
  },
  {
   "cell_type": "code",
   "execution_count": 47,
   "id": "09649dc6-b0f1-427e-b00b-6407462b0758",
   "metadata": {},
   "outputs": [],
   "source": [
    "class UnconditionalDiffusion(nn.Module):\n",
    "    def __init__(self, encoder, decoder, unet):\n",
    "        self.encoder = encoder\n",
    "        self.decoder = decoder\n",
    "        self.unet = unet\n",
    "\n",
    "    def forward(self, noisy_sample):\n",
    "        noisy_latent = self.encoder(noisy_sample)\n",
    "        denoised_latent = self.unet(noisy_latent)\n",
    "        denoised_sample = self.decoder(denoised_latent)\n",
    "\n",
    "        return(denoised_sample)"
   ]
  },
  {
   "cell_type": "code",
   "execution_count": 107,
   "id": "00589bd9-7308-4e02-b4db-3719d31453d9",
   "metadata": {},
   "outputs": [],
   "source": [
    "lconfig = DiffusionModelConfig()\n",
    "lconfig.model_type = \"latent_diffusion\"\n",
    "lconfig.block_out_channels = (32, 64)\n",
    "lconfig.down_blocks = (\"DownBlock2D\", \"DownBlock2D\")\n",
    "lconfig.up_blocks = (\"UpBlock2D\", \"UpBlock2D\")"
   ]
  },
  {
   "cell_type": "code",
   "execution_count": 108,
   "id": "0681705a-25d3-437b-8b5a-38b30ad4e491",
   "metadata": {},
   "outputs": [],
   "source": [
    "ldm = load_model(lconfig, device)"
   ]
  },
  {
   "cell_type": "markdown",
   "id": "9c6e84bc-6191-4f26-9e57-856fc5947ce7",
   "metadata": {},
   "source": []
  },
  {
   "cell_type": "code",
   "execution_count": 194,
   "id": "8157e218-3328-4ca7-8063-0c036e8ef542",
   "metadata": {},
   "outputs": [],
   "source": [
    "input_sample = torch.randn(4, 16, 16, 24)\n",
    "ts = [5, 8, 2, 6]"
   ]
  },
  {
   "cell_type": "markdown",
   "id": "89bf08ce-687a-42ee-869f-cc3b4fd6088e",
   "metadata": {
    "jp-MarkdownHeadingCollapsed": true
   },
   "source": [
    "#### How the time embeddings work: "
   ]
  },
  {
   "cell_type": "code",
   "execution_count": 127,
   "id": "f31474fa-043f-4b29-a8e8-7500843c21fa",
   "metadata": {},
   "outputs": [],
   "source": [
    "def time_embed_fwd(self,\n",
    "    sample: torch.Tensor,\n",
    "    timestep: Union[torch.Tensor, float, int],\n",
    "    class_labels: Optional[torch.Tensor] = None,\n",
    "    ) -> Tuple:\n",
    "    timesteps = timestep\n",
    "    if not torch.is_tensor(timesteps):\n",
    "        timesteps = torch.tensor([timesteps], dtype=torch.long, device=sample.device)\n",
    "    elif torch.is_tensor(timesteps) and len(timesteps.shape) == 0:\n",
    "        timesteps = timesteps[None].to(sample.device)\n",
    "\n",
    "    # broadcast to batch dimension in a way that's compatible with ONNX/Core ML\n",
    "    timesteps = timesteps * torch.ones(sample.shape[0], dtype=timesteps.dtype, device=timesteps.device)\n",
    "    t_emb = self.time_proj(timesteps)\n",
    "\n",
    "    # timesteps does not contain any weights and will always return f32 tensors\n",
    "    # but time_embedding might actually be running in fp16. so we need to cast here.\n",
    "    # there might be better ways to encapsulate this.\n",
    "    t_emb = t_emb.to(dtype=self.dtype)\n",
    "    emb = self.time_embedding(t_emb)\n",
    "    \n",
    "    if self.class_embedding is not None:\n",
    "        if class_labels is None:\n",
    "            raise ValueError(\"class_labels should be provided when doing class conditioning\")\n",
    "\n",
    "        if self.config.class_embed_type == \"timestep\":\n",
    "            class_labels = self.time_proj(class_labels)\n",
    "        class_emb = self.class_embedding(class_labels).to(dtype=self.dtype)\n",
    "        emb = emb + class_emb\n",
    "    elif self.class_embedding is None and class_labels is not None:\n",
    "        raise ValueError(\"class_embedding needs to be initialized in order to use class conditioning\")\n",
    "    return(timesteps, t_emb, emb)"
   ]
  },
  {
   "cell_type": "markdown",
   "id": "73fa7450-07d7-47ba-9729-a41fdeae03e7",
   "metadata": {},
   "source": [
    "[source code](https://github.com/huggingface/diffusers/blob/main/src/diffusers/models/embeddings.py)\n",
    "\n",
    "1. First the timesteps are processed to ensure that they match the batch size, meaning we have N proper copies of model(x_t, t).\n",
    "2. The Timesteps class calls get_timestep_embedding which creates sinusoidal embeddings (something something sin-cos of $e^{f(t)}$). For each timestep, creates a 32 dimensional positional embedding\n",
    "3. From these 32 dim time_embedding vectors, the model's TimestepEmbedding is a learned nn.Module that further projects the embedding into a final 128 dimensional embedding. Presumably this is a learned projection.\n",
    "\n",
    "Eventually, these conditioned embeddings are fit into our blocks"
   ]
  },
  {
   "cell_type": "code",
   "execution_count": 128,
   "id": "7561a709-5314-484d-9c5e-29397e2e53f2",
   "metadata": {},
   "outputs": [
    {
     "data": {
      "text/plain": [
       "(diffusers.models.embeddings.Timesteps,\n",
       " diffusers.models.embeddings.TimestepEmbedding)"
      ]
     },
     "execution_count": 128,
     "metadata": {},
     "output_type": "execute_result"
    }
   ],
   "source": [
    "type(ldm.time_proj), type(ldm.time_embedding)"
   ]
  },
  {
   "cell_type": "code",
   "execution_count": 129,
   "id": "daa6f180-e7e0-46da-aacf-4f28236398b6",
   "metadata": {},
   "outputs": [
    {
     "data": {
      "text/plain": [
       "TimestepEmbedding(\n",
       "  (linear_1): Linear(in_features=32, out_features=128, bias=True)\n",
       "  (act): SiLU()\n",
       "  (linear_2): Linear(in_features=128, out_features=128, bias=True)\n",
       ")"
      ]
     },
     "execution_count": 129,
     "metadata": {},
     "output_type": "execute_result"
    }
   ],
   "source": [
    "ldm.time_embedding"
   ]
  },
  {
   "cell_type": "code",
   "execution_count": 130,
   "id": "a09559e8-54f1-4b8d-ac32-755f10ef1f60",
   "metadata": {},
   "outputs": [],
   "source": [
    "timesteps, temb, emb = time_embed_fwd(ldm, sample, timestep=torch.tensor(ts))"
   ]
  },
  {
   "cell_type": "code",
   "execution_count": 131,
   "id": "42390e5a-1fc7-4401-a80a-b8eb4117c775",
   "metadata": {},
   "outputs": [
    {
     "data": {
      "text/plain": [
       "(torch.Size([4, 32]), torch.Size([4, 128]))"
      ]
     },
     "execution_count": 131,
     "metadata": {},
     "output_type": "execute_result"
    }
   ],
   "source": [
    "temb.shape, emb.shape # both are torch tensors"
   ]
  },
  {
   "cell_type": "code",
   "execution_count": 132,
   "id": "31936ddf-25d4-4528-a5a1-a27d559d00b3",
   "metadata": {},
   "outputs": [
    {
     "data": {
      "image/png": "[encoded data removed]",
      "text/plain": [
       "<Figure size 640x480 with 1 Axes>"
      ]
     },
     "metadata": {},
     "output_type": "display_data"
    }
   ],
   "source": [
    "for i in range(4):\n",
    "    plt.plot(temb[i])\n",
    "plt.title(\"32 dim temb embeddings\")\n",
    "plt.show()"
   ]
  },
  {
   "cell_type": "code",
   "execution_count": 133,
   "id": "ba7f6eff-70e1-441b-9be5-c698f25759d8",
   "metadata": {},
   "outputs": [
    {
     "data": {
      "image/png": "[encoded data removed]",
      "text/plain": [
       "<Figure size 640x480 with 1 Axes>"
      ]
     },
     "metadata": {},
     "output_type": "display_data"
    }
   ],
   "source": [
    "emb = emb.detach().numpy()\n",
    "for i in range(4):\n",
    "    plt.plot(emb[i])\n",
    "\n",
    "plt.title(\"128 dim emb embeddings\")\n",
    "plt.show()"
   ]
  },
  {
   "cell_type": "code",
   "execution_count": 134,
   "id": "8da3d5a3-4a5d-4744-89cd-85c761e9fdbf",
   "metadata": {},
   "outputs": [
    {
     "data": {
      "text/plain": [
       "Timesteps()"
      ]
     },
     "execution_count": 134,
     "metadata": {},
     "output_type": "execute_result"
    }
   ],
   "source": [
    "ldm.time_proj"
   ]
  },
  {
   "cell_type": "markdown",
   "id": "806f49eb-7904-4894-9082-593e8f9d7d4c",
   "metadata": {
    "jp-MarkdownHeadingCollapsed": true
   },
   "source": [
    "#### How the down blocks work"
   ]
  },
  {
   "cell_type": "code",
   "execution_count": 160,
   "id": "b05beef4-95fd-46c2-a6cd-ce86e7a05727",
   "metadata": {},
   "outputs": [],
   "source": [
    "timesteps, temb, emb = time_embed_fwd(ldm, sample, timestep=torch.tensor(ts))"
   ]
  },
  {
   "cell_type": "code",
   "execution_count": 161,
   "id": "c87fa92d-2590-45f2-a57f-ae72151c17fa",
   "metadata": {},
   "outputs": [
    {
     "data": {
      "text/plain": [
       "(torch.Size([4, 16, 16, 24]), torch.Size([4, 32, 16, 24]))"
      ]
     },
     "execution_count": 161,
     "metadata": {},
     "output_type": "execute_result"
    }
   ],
   "source": [
    "skip_sample = input_sample\n",
    "sample = ldm.conv_in(input_sample)\n",
    "\n",
    "skip_sample.shape, sample.shape"
   ]
  },
  {
   "cell_type": "code",
   "execution_count": 162,
   "id": "86f0dc32-f32d-4df4-8826-8cb8f35ea9e6",
   "metadata": {},
   "outputs": [],
   "source": [
    "def down_blocks_fwd(self, sample: torch.Tensor, emb, skip_sample, ) -> Tuple:\n",
    "    down_block_res_samples = (sample,)\n",
    "    for downsample_block in self.down_blocks:\n",
    "        if hasattr(downsample_block, \"skip_conv\"):\n",
    "            sample, res_samples, skip_sample = downsample_block(\n",
    "                hidden_states=sample, temb=emb, skip_sample=skip_sample\n",
    "            )\n",
    "        else:\n",
    "            sample, res_samples = downsample_block(hidden_states=sample, temb=emb)\n",
    "\n",
    "        down_block_res_samples += res_samples\n",
    "    return(sample, res_samples, skip_sample, down_block_res_samples)\n",
    "    "
   ]
  },
  {
   "cell_type": "code",
   "execution_count": 163,
   "id": "641d4f71-4d14-475a-b366-c4a5e8ae957c",
   "metadata": {},
   "outputs": [
    {
     "data": {
      "text/plain": [
       "(1, 2)"
      ]
     },
     "execution_count": 163,
     "metadata": {},
     "output_type": "execute_result"
    }
   ],
   "source": [
    "(1,) + (2,) # tuple addition is concat; down_block_res_samples stores all res blocks"
   ]
  },
  {
   "cell_type": "code",
   "execution_count": 164,
   "id": "e191d571-a349-4e63-baa4-21d2bf85036e",
   "metadata": {},
   "outputs": [],
   "source": [
    "sample, res_samples, skip_sample, down_block_res_samples = down_blocks_fwd(ldm, sample, emb, skip_sample)"
   ]
  },
  {
   "cell_type": "code",
   "execution_count": 176,
   "id": "fd2939d0-e9ab-4b8d-a9dc-222995094c60",
   "metadata": {},
   "outputs": [
    {
     "data": {
      "text/plain": [
       "(torch.Size([4, 64, 8, 12]),\n",
       " 1,\n",
       " torch.Size([4, 64, 8, 12]),\n",
       " torch.Size([4, 16, 16, 24]))"
      ]
     },
     "execution_count": 176,
     "metadata": {},
     "output_type": "execute_result"
    }
   ],
   "source": [
    "sample.shape, len(res_samples), res_samples[0].shape, skip_sample.shape, "
   ]
  },
  {
   "cell_type": "code",
   "execution_count": 177,
   "id": "3ff385d1-8790-405e-88a1-d3930120e8aa",
   "metadata": {},
   "outputs": [
    {
     "name": "stdout",
     "output_type": "stream",
     "text": [
      "torch.Size([4, 32, 16, 24])\n",
      "torch.Size([4, 32, 16, 24])\n",
      "torch.Size([4, 32, 8, 12])\n",
      "torch.Size([4, 64, 8, 12])\n"
     ]
    }
   ],
   "source": [
    "for i in down_block_res_samples:\n",
    "    print(i.shape)\n"
   ]
  },
  {
   "cell_type": "code",
   "execution_count": 168,
   "id": "7f2c619d-9df1-48af-a440-5c42c02a0937",
   "metadata": {},
   "outputs": [
    {
     "data": {
      "text/plain": [
       "(32, 64)"
      ]
     },
     "execution_count": 168,
     "metadata": {},
     "output_type": "execute_result"
    }
   ],
   "source": [
    "lconfig.block_out_channels"
   ]
  },
  {
   "cell_type": "markdown",
   "id": "eb1c3dd7-70e2-436e-8c2d-f2e36090bedc",
   "metadata": {},
   "source": [
    "- conv_in goes from in_channels to block[0]\n",
    "- first downblock is block[0] to block[0]\n",
    "- then each one is $i-1 \\rightarrow i$ for i in range(1, len(block)-1)\n",
    "Then, for "
   ]
  },
  {
   "cell_type": "code",
   "execution_count": 187,
   "id": "05820c9a-79cf-4a2b-8791-ed9deddc3ed3",
   "metadata": {},
   "outputs": [
    {
     "data": {
      "text/plain": [
       "torch.Size([4, 32, 16, 24])"
      ]
     },
     "execution_count": 187,
     "metadata": {},
     "output_type": "execute_result"
    }
   ],
   "source": [
    "ldm.conv_in(input_sample).shape"
   ]
  },
  {
   "cell_type": "code",
   "execution_count": 188,
   "id": "c7188a3f-a7da-4b97-abb7-e768b0ad5716",
   "metadata": {},
   "outputs": [],
   "source": [
    "sample, resid = ldm.down_blocks[0](ldm.conv_in(input_sample), emb, input_sample)"
   ]
  },
  {
   "cell_type": "code",
   "execution_count": 191,
   "id": "fdbf24b7-a5ae-41e4-8d26-9edda0b5dc9a",
   "metadata": {},
   "outputs": [
    {
     "data": {
      "text/plain": [
       "(torch.Size([4, 32, 16, 24]), torch.Size([4, 32, 8, 12]))"
      ]
     },
     "execution_count": 191,
     "metadata": {},
     "output_type": "execute_result"
    }
   ],
   "source": [
    "resid[0].shape, resid[1].shape"
   ]
  },
  {
   "cell_type": "markdown",
   "id": "150964f3-6a7b-422f-88af-47df51e58a22",
   "metadata": {},
   "source": [
    "### How the up blocks work"
   ]
  },
  {
   "cell_type": "code",
   "execution_count": null,
   "id": "c7d7ccbe-7d87-4ad2-b559-414cabc4d778",
   "metadata": {},
   "outputs": [],
   "source": []
  },
  {
   "cell_type": "code",
   "execution_count": 199,
   "id": "706cb354-8171-4b1a-878c-65deb616dadc",
   "metadata": {},
   "outputs": [],
   "source": [
    "def up_blocks_fwd(self, sample: torch.Tensor, emb, down_block_res_samples) -> Tuple:\n",
    "    skip_sample = None\n",
    "    for upsample_block in self.up_blocks:\n",
    "        res_samples = down_block_res_samples[-len(upsample_block.resnets) :]\n",
    "        down_block_res_samples = down_block_res_samples[: -len(upsample_block.resnets)]\n",
    "\n",
    "        if hasattr(upsample_block, \"skip_conv\"):\n",
    "            sample, skip_sample = upsample_block(sample, res_samples, emb, skip_sample)\n",
    "        else:\n",
    "            sample = upsample_block(sample, res_samples, emb)\n",
    "    return(sample, skip_sample)"
   ]
  },
  {
   "cell_type": "markdown",
   "id": "73e3107c-c902-4e65-8e0e-7dc8487cdc77",
   "metadata": {},
   "source": [
    "### All together"
   ]
  },
  {
   "cell_type": "code",
   "execution_count": 200,
   "id": "f4ddc4cd-11ce-4e96-965f-80b5390b40f7",
   "metadata": {},
   "outputs": [],
   "source": [
    "def forward(self,\n",
    "    sample: torch.Tensor,\n",
    "    timestep: Union[torch.Tensor, float, int],\n",
    "    class_labels: Optional[torch.Tensor] = None,\n",
    "    ):\n",
    "    r\"\"\"\n",
    "    The [`UNet2DModel`] forward method.\n",
    "\n",
    "    Args:\n",
    "        sample (`torch.Tensor`):\n",
    "            The noisy input tensor with the following shape `(batch, channel, height, width)`.\n",
    "        timestep (`torch.Tensor` or `float` or `int`): The number of timesteps to denoise an input.\n",
    "        class_labels (`torch.Tensor`, *optional*, defaults to `None`):\n",
    "            Optional class labels for conditioning. Their embeddings will be summed with the timestep embeddings.\n",
    "        return_dict (`bool`, *optional*, defaults to `True`):\n",
    "            Whether or not to return a [`~models.unets.unet_2d.UNet2DOutput`] instead of a plain tuple.\n",
    "\n",
    "    Returns:\n",
    "        [`~models.unets.unet_2d.UNet2DOutput`] or `tuple`:\n",
    "            If `return_dict` is True, an [`~models.unets.unet_2d.UNet2DOutput`] is returned, otherwise a `tuple` is\n",
    "            returned where the first element is the sample tensor.\n",
    "    \"\"\"\n",
    "    # 0. center input if necessary\n",
    "    if self.config.center_input_sample:\n",
    "        sample = 2 * sample - 1.0\n",
    "\n",
    "    # 1. time\n",
    "    timesteps, t_emb, emb = time_embed_fwd(self, sample, timestep, class_labels)\n",
    "    # 2. pre-process\n",
    "    skip_sample = sample\n",
    "    sample = self.conv_in(sample)\n",
    "\n",
    "    # 3. down\n",
    "    sample, res_samples, skip_sample, down_block_res_samples = down_blocks_fwd(self, sample, emb, skip_sample, )\n",
    "\n",
    "    # 4. mid\n",
    "    sample = self.mid_block(sample, emb)\n",
    "\n",
    "    # 5. up\n",
    "    sample, skip_sample = up_blocks_fwd(self, sample, emb, down_block_res_samples)\n",
    "\n",
    "    # 6. post-process\n",
    "    sample = self.conv_norm_out(sample)\n",
    "    sample = self.conv_act(sample)\n",
    "    sample = self.conv_out(sample)\n",
    "\n",
    "    if skip_sample is not None:\n",
    "        sample += skip_sample\n",
    "\n",
    "    if self.config.time_embedding_type == \"fourier\":\n",
    "        timesteps = timesteps.reshape((sample.shape[0], *([1] * len(sample.shape[1:]))))\n",
    "        sample = sample / timesteps\n",
    "\n",
    "    return (sample)"
   ]
  },
  {
   "cell_type": "code",
   "execution_count": 201,
   "id": "9757bf63-34c7-4ae7-8ca4-3dcd9226b1eb",
   "metadata": {},
   "outputs": [],
   "source": [
    "input_sample = torch.randn(4, 16, 16, 24)\n",
    "ts = [5, 8, 2, 6]"
   ]
  },
  {
   "cell_type": "code",
   "execution_count": 202,
   "id": "4ace5b63-3095-4a5c-adfc-a0f3121a9494",
   "metadata": {},
   "outputs": [],
   "source": [
    "output = forward(ldm, input_sample, torch.tensor(ts))"
   ]
  },
  {
   "cell_type": "code",
   "execution_count": 204,
   "id": "986c6369-3361-40d1-8811-64d19c576d51",
   "metadata": {},
   "outputs": [],
   "source": [
    "ldm_output = ldm(input_sample, torch.tensor(ts))"
   ]
  },
  {
   "cell_type": "code",
   "execution_count": 205,
   "id": "25c1709c-ab7a-47f0-814b-081eab5c061c",
   "metadata": {},
   "outputs": [
    {
     "data": {
      "text/plain": [
       "tensor(True)"
      ]
     },
     "execution_count": 205,
     "metadata": {},
     "output_type": "execute_result"
    }
   ],
   "source": [
    "(output == ldm_output.sample).all()"
   ]
  },
  {
   "cell_type": "code",
   "execution_count": 206,
   "id": "e56ef70a-0057-4080-83f0-c76e919eb9d8",
   "metadata": {},
   "outputs": [
    {
     "data": {
      "text/plain": [
       "torch.Size([4, 16, 16, 24])"
      ]
     },
     "execution_count": 206,
     "metadata": {},
     "output_type": "execute_result"
    }
   ],
   "source": [
    "output.shape"
   ]
  },
  {
   "cell_type": "markdown",
   "id": "89743813-8944-494a-883f-358bdd2d1da1",
   "metadata": {},
   "source": [
    "# Actual Training\n",
    "\n",
    "Helpful links on training troubleshooting:\n",
    "- [underfitting](https://stats.stackexchange.com/questions/352036/what-should-i-do-when-my-neural-network-doesnt-learn)\n",
    "- [Unit testing ML](https://thenerdstation.medium.com/how-to-unit-test-machine-learning-code-57cf6fd81765)"
   ]
  },
  {
   "cell_type": "code",
   "execution_count": 11,
   "id": "a094b663-d427-47ca-aa42-7efba195c894",
   "metadata": {},
   "outputs": [],
   "source": [
    "from diffusers import DDPMScheduler\n",
    "from diffusers.optimization import get_cosine_schedule_with_warmup\n",
    "def load_scheduler(config):\n",
    "    match config.scheduler_type.lower():\n",
    "        case sched if 'ddpm' in sched:\n",
    "            return(DDPMScheduler(num_train_timesteps=config.num_timesteps)) # in charge of betas\n",
    "        case _:\n",
    "            print(\"Only support for ddpm as of now\")\n",
    "\n",
    "def load_lr_scheduler(config, optim, dataloader):\n",
    "    lr = get_cosine_schedule_with_warmup(\n",
    "        optimizer=optim, \n",
    "        num_warmup_steps=config.lr_warmup_steps, \n",
    "        num_training_steps=len(dataloader) * config.num_epochs,\n",
    "    )\n",
    "    return(lr)"
   ]
  },
  {
   "cell_type": "markdown",
   "id": "9d0cb1dc-7ea2-4f9f-916d-5f70948c2510",
   "metadata": {},
   "source": [
    "### Training Debugging"
   ]
  },
  {
   "cell_type": "code",
   "execution_count": 14,
   "id": "049812e6-de5f-4b74-9ed1-146af5ec8815",
   "metadata": {},
   "outputs": [
    {
     "data": {
      "text/plain": [
       "[<matplotlib.lines.Line2D at 0x79226095bb60>]"
      ]
     },
     "execution_count": 14,
     "metadata": {},
     "output_type": "execute_result"
    },
    {
     "data": {
      "image/png": "[encoded data removed]",
      "text/plain": [
       "<Figure size 640x480 with 1 Axes>"
      ]
     },
     "metadata": {},
     "output_type": "display_data"
    }
   ],
   "source": [
    "scheduler = load_scheduler(mconfig)\n",
    "plt.plot(scheduler.betas)"
   ]
  },
  {
   "cell_type": "code",
   "execution_count": 67,
   "id": "2fb59479-7c13-4fc8-8f1e-f1aad0ba0749",
   "metadata": {},
   "outputs": [],
   "source": [
    "#diff.trainers.AbstractTrainer\n",
    "class DiffusionTrainer(diff.trainers.AbstractTrainer):\n",
    "    def __init__(self, model, datasets, loss_fn, tconfig, mconfig, exp_id, rank=0):\n",
    "        super().__init__(model, datasets, loss_fn, tconfig, exp_id, rank)\n",
    "        self.model_config = mconfig\n",
    "    \n",
    "    def _run_batch(self, batch, phase='train'):\n",
    "        noisy_images, timesteps, noises = batch\n",
    "        noise_pred = self.model(noisy_images, timesteps.flatten()).sample\n",
    "        loss = self.loss_fn(noise_pred, noises)\n",
    "        if(phase == 'train'):\n",
    "            self.optimizer.zero_grad()\n",
    "            loss.backward()\n",
    "            if(self.training_config.clip_gradients):\n",
    "                total_grad_norm = torch.nn.utils.clip_grad_norm_(self.model.parameters(), max_norm=1.0)\n",
    "            self.optimizer.step()\n",
    "    \n",
    "        return(loss)\n",
    "\n",
    "    def _run_epoch(self, epoch, phase='train'):\n",
    "        self.model.train(phase=='train')\n",
    "        total_loss = 0\n",
    "        with torch.set_grad_enabled(phase=='train'):\n",
    "            if(self.distributed):\n",
    "                dataloader.sampler.set_epoch(epoch)\n",
    "            for step, clean_batch in enumerate(self.dataloaders['train']):\n",
    "                batch = self.datasets['train'].noise_batch(clean_batch)\n",
    "                loss = self._run_batch(batch, phase)\n",
    "                total_loss += loss.item()\n",
    "            \n",
    "        return(total_loss / len(self.dataloaders['train']))\n",
    "    \n",
    "    def _log_epoch_info(self, epoch_num, loss):\n",
    "        self.losses['train'].append(loss)\n",
    "        if(epoch_num % self.training_config.epoch_logging_interval == 0):\n",
    "            print(f\"epoch {epoch_num}: [{loss}]\")\n",
    "        if(loss < self.best_loss and self.training_config.save_best_epoch):\n",
    "            self.best_loss = loss\n",
    "            self._save_checkpoint(epoch_num, cid='best')\n",
    "        \n",
    "        \n",
    "    def train(self, num_epochs=0, log=True, trial=''):\n",
    "        self.setup_training(num_epochs)\n",
    "        print(f\"Training for {self.training_config.num_epochs} epochs\")\n",
    "        for epoch in range(self.training_config.num_epochs):\n",
    "            loss = self._run_epoch(epoch)\n",
    "            self._log_epoch_info(epoch, loss)\n",
    "        self.finish_training(log, trial)\n",
    "    \n",
    "    def setup_training(self, num_epochs):\n",
    "        super().setup_training(num_epochs)\n",
    "        if(num_epochs): # passed in number of training epochs is non zero\n",
    "            self.training_config.num_epochs = num_epochs\n",
    "        for phase in self.phases:\n",
    "            self.losses[phase] = []\n",
    "        self.best_loss = 10\n",
    "\n",
    "    def finish_training(self, log, trial):\n",
    "        print(\"Finished training\")\n",
    "        if(log):\n",
    "            log_dict = {\n",
    "                \"training_config\" : asdict(self.training_config), \n",
    "                \"model_config\" : asdict(self.model_config)\n",
    "            }\n",
    "            for phase in self.phases:\n",
    "                log_dict[f'{phase}_loss'] = self.losses[phase]\n",
    "            #if(self.training_config.log_gradients):\n",
    "            #    log_dict['gradients'] = self.gradients\n",
    "\n",
    "            with open(os.path.join(self.dirs['log_dir'], f\"trial_{trial}_log.json\"), 'w') as f:\n",
    "                json.dump(log_dict, f)\n",
    "            return(log_dict)"
   ]
  },
  {
   "cell_type": "markdown",
   "id": "88ef377e-b919-4247-979e-da49330b91af",
   "metadata": {
    "jp-MarkdownHeadingCollapsed": true
   },
   "source": [
    "#### Overfitting two samples"
   ]
  },
  {
   "cell_type": "code",
   "execution_count": 27,
   "id": "ca246ead-c98e-43f3-9737-3afc71de030d",
   "metadata": {},
   "outputs": [
    {
     "name": "stdout",
     "output_type": "stream",
     "text": [
      "Normalizing data\n"
     ]
    }
   ],
   "source": [
    "two_sample_ds = ClimsimImageDataset(Xarr[:2*384], Yarr[:2*384], mconfig, device=device, normalize=True)"
   ]
  },
  {
   "cell_type": "code",
   "execution_count": 28,
   "id": "6e02e45d-9e82-4229-9d6a-27a0b1a21764",
   "metadata": {},
   "outputs": [
    {
     "data": {
      "text/plain": [
       "{'train': False, 'eval': False}"
      ]
     },
     "execution_count": 28,
     "metadata": {},
     "output_type": "execute_result"
    }
   ],
   "source": [
    "tconfig.shuffle_data"
   ]
  },
  {
   "cell_type": "code",
   "execution_count": 30,
   "id": "3fe08f51-5aa4-4969-8df9-c969203b47c9",
   "metadata": {},
   "outputs": [],
   "source": [
    "#two_sample_dl = DataLoader(two_sample_ds, shuffle=tconfig.shuffle_data['train'], batch_size=2)\n",
    "two_sample_dl = DataLoader(two_sample_ds, shuffle=tconfig.shuffle_data['train'], batch_size=2)"
   ]
  },
  {
   "cell_type": "code",
   "execution_count": 32,
   "id": "a223639a-6d57-4f06-9e50-3ad0f2d32dc7",
   "metadata": {},
   "outputs": [],
   "source": [
    "batch = next(iter(two_sample_dl))\n",
    "noisy_images, timesteps, noise = two_sample_dl.dataset.noise_batch(batch)"
   ]
  },
  {
   "cell_type": "code",
   "execution_count": 33,
   "id": "7a840ee0-2923-489c-8567-b897ac825684",
   "metadata": {},
   "outputs": [],
   "source": [
    "optimizer = diff.trainers.create_optimizer(model, tconfig)\n",
    "lr_scheduler = load_lr_scheduler(tconfig, optimizer, two_sample_dl)"
   ]
  },
  {
   "cell_type": "code",
   "execution_count": 35,
   "id": "c3f754f8-efe9-430d-9133-aa6f6d1c9799",
   "metadata": {},
   "outputs": [],
   "source": [
    "pred = model(noisy_images, timesteps).sample"
   ]
  },
  {
   "cell_type": "code",
   "execution_count": 37,
   "id": "5ca3879b-0691-450b-bccb-967c79fad345",
   "metadata": {},
   "outputs": [
    {
     "data": {
      "text/plain": [
       "tensor(1.1295, device='cuda:0', grad_fn=<MseLossBackward0>)"
      ]
     },
     "execution_count": 37,
     "metadata": {},
     "output_type": "execute_result"
    }
   ],
   "source": [
    "loss = loss_fn(pred, noise)\n",
    "loss"
   ]
  },
  {
   "cell_type": "code",
   "execution_count": 38,
   "id": "804ac61a-bf3a-483b-9f37-d031489f29b6",
   "metadata": {},
   "outputs": [],
   "source": [
    "loss.backward()"
   ]
  },
  {
   "cell_type": "code",
   "execution_count": 39,
   "id": "571cbaf7-88b8-44c4-8434-00bf78499c1c",
   "metadata": {},
   "outputs": [
    {
     "data": {
      "text/plain": [
       "tensor(1.0557, device='cuda:0')"
      ]
     },
     "execution_count": 39,
     "metadata": {},
     "output_type": "execute_result"
    }
   ],
   "source": [
    "torch.nn.utils.clip_grad_norm_(model.parameters(), max_norm=1.0)"
   ]
  },
  {
   "cell_type": "code",
   "execution_count": 40,
   "id": "f428fcaa-123f-4434-afe0-ef7b865c824e",
   "metadata": {},
   "outputs": [
    {
     "data": {
      "text/plain": [
       "tensor(0.3499, device='cuda:0')"
      ]
     },
     "execution_count": 40,
     "metadata": {},
     "output_type": "execute_result"
    }
   ],
   "source": [
    "torch.norm(list(model.parameters())[0].grad)"
   ]
  },
  {
   "cell_type": "code",
   "execution_count": 114,
   "id": "bf7603c4-424c-414d-a3c4-95a8e3902fae",
   "metadata": {},
   "outputs": [
    {
     "data": {
      "text/plain": [
       "1"
      ]
     },
     "execution_count": 114,
     "metadata": {},
     "output_type": "execute_result"
    }
   ],
   "source": [
    "\"\"\"\n",
    "mps = list(model.parameters())\n",
    "tmps = list(trainer.model.parameters())\n",
    "\n",
    "torch.norm(mps[0]),  torch.norm(tmps[0])\n",
    "\n",
    "new_init = []\n",
    "trained = []\n",
    "\n",
    "for p in model.parameters():\n",
    "    new_init.append(torch.norm(p).item())\n",
    "for p in trainer.model.parameters():\n",
    "    trained.append(torch.norm(p).item())\n",
    "\"\"\"\n",
    "1"
   ]
  },
  {
   "cell_type": "code",
   "execution_count": 57,
   "id": "577f67af-72eb-453a-a4b1-ee6137a1ee6a",
   "metadata": {},
   "outputs": [
    {
     "name": "stdout",
     "output_type": "stream",
     "text": [
      "Training for 1000 epochs\n",
      "epoch 0: [0.7730326652526855]\n",
      "epoch 25: [0.7542222738265991]\n",
      "epoch 50: [0.7496830821037292]\n",
      "epoch 75: [0.7148858904838562]\n",
      "epoch 100: [0.7115294337272644]\n",
      "epoch 125: [0.7384872436523438]\n",
      "epoch 150: [0.8504878878593445]\n",
      "epoch 175: [0.7458630800247192]\n",
      "epoch 200: [0.9407676458358765]\n",
      "epoch 225: [0.6731176376342773]\n",
      "epoch 250: [0.6640271544456482]\n",
      "epoch 275: [0.6600327491760254]\n",
      "epoch 300: [0.6695224046707153]\n",
      "epoch 325: [0.7102698087692261]\n",
      "epoch 350: [0.647002637386322]\n",
      "epoch 375: [0.6917632818222046]\n",
      "epoch 400: [0.6635643243789673]\n",
      "epoch 425: [0.6045785546302795]\n",
      "epoch 450: [0.8041671514511108]\n",
      "epoch 475: [0.7236301898956299]\n",
      "epoch 500: [0.588153600692749]\n",
      "epoch 525: [0.5826186537742615]\n",
      "epoch 550: [0.5954960584640503]\n",
      "epoch 575: [0.5929807424545288]\n",
      "epoch 600: [0.5719040632247925]\n",
      "epoch 625: [0.573508620262146]\n",
      "epoch 650: [0.5640008449554443]\n",
      "epoch 675: [0.6378196477890015]\n",
      "epoch 700: [0.548387885093689]\n",
      "epoch 725: [0.5476928949356079]\n",
      "epoch 750: [0.5409368872642517]\n",
      "epoch 775: [0.5475836992263794]\n",
      "epoch 800: [0.7009562253952026]\n",
      "epoch 825: [0.5332236289978027]\n",
      "epoch 850: [0.5342932939529419]\n",
      "epoch 875: [0.5404077768325806]\n",
      "epoch 900: [0.5277156829833984]\n",
      "epoch 925: [0.51487135887146]\n",
      "epoch 950: [0.5122259855270386]\n",
      "epoch 975: [0.521558940410614]\n"
     ]
    }
   ],
   "source": [
    "dset = {'train' : two_sample_ds}\n",
    "trainer = DiffusionTrainer(model, dset, loss_fn, tconfig, mconfig, exp_id='two_sample_diffusion')\n",
    "#trainer.dataloaders = {'train' : two_sample_dl}\n",
    "#trainer.batch = next(iter(two_sample_dl)) # use same noise every time\n",
    "trainer.train(1000)"
   ]
  },
  {
   "cell_type": "code",
   "execution_count": 58,
   "id": "1dad33a4-5d97-4acd-bb79-4c1863b8e924",
   "metadata": {},
   "outputs": [
    {
     "data": {
      "text/plain": [
       "[<matplotlib.lines.Line2D at 0x7fb459f56c00>]"
      ]
     },
     "execution_count": 58,
     "metadata": {},
     "output_type": "execute_result"
    },
    {
     "data": {
      "image/png": "[encoded data removed]",
      "text/plain": [
       "<Figure size 640x480 with 1 Axes>"
      ]
     },
     "metadata": {},
     "output_type": "display_data"
    }
   ],
   "source": [
    "plt.plot(trainer.losses)"
   ]
  },
  {
   "cell_type": "markdown",
   "id": "c30d5a8e-3918-4891-abe7-b550fc8f1180",
   "metadata": {},
   "source": [
    "## Actual Training"
   ]
  },
  {
   "cell_type": "code",
   "execution_count": 9,
   "id": "2a97d9d6-cd76-47ef-b534-ec3b8025a2b1",
   "metadata": {},
   "outputs": [
    {
     "data": {
      "text/plain": [
       "TrainingConfig(train_test_split=[1.0], phases=['train'], num_epochs=100, distributed_training=False, shuffle_data={'train': False, 'eval': False}, batch_size=32, xarr_subsamples=(36, 210240, 144), optimizer='adam', lr_scheduler='get_cosine_schedule_with_warmup', learning_rate=0.0001, beta=0.2, clip_gradients=True, save_best_epoch=True, batch_logging_interval=4, model_checkpoint_interval=2, log_gradients=False, push_to_hub=False)"
      ]
     },
     "execution_count": 9,
     "metadata": {},
     "output_type": "execute_result"
    }
   ],
   "source": [
    "tconfig = diff.TrainingConfig()\n",
    "tconfig.run_id = 'diffusion_testing_full1'\n",
    "tconfig.phases = ['train']\n",
    "tconfig.lr_scheduler = 'get_cosine_schedule_with_warmup'\n",
    "tconfig.num_epochs = 100\n",
    "tconfig.lr_warmup_steps = 10\n",
    "tconfig.epoch_logging_interval = 1\n",
    "tconfig.model_checkpointing_interval = 5\n",
    "tconfig.log_gradients = False\n",
    "tconfig.train_test_split=[1.0]\n",
    "tconfig"
   ]
  },
  {
   "cell_type": "code",
   "execution_count": 10,
   "id": "d239542a-3872-4a93-96ce-d4ad0e77be51",
   "metadata": {},
   "outputs": [
    {
     "data": {
      "text/plain": [
       "ModelConfig(model_type='ddpm_diffusion', data_vars='v1', scheduler_type='ddpm', unet=UNetParams(sample_size=(16, 24), in_channels=128, out_channels=128, block_out_channels=(32, 64, 64, 128), down_block_types=('DownBlock2D', 'DownBlock2D', 'AttnDownBlock2D', 'DownBlock2D'), up_block_types=('UpBlock2D', 'AttnUpBlock2D', 'UpBlock2D', 'UpBlock2D'), layers_per_block=1, norm_num_groups=4), scheduler=SchedulerParams(num_train_timesteps=100, beta_schedule='linear', clip_sample=False, clip_sample_range=4.0), num_channels=128, latent_dims=16, ae_hidden_dims=[64, 32, 16], disable_enc_logstd_bias=True)"
      ]
     },
     "execution_count": 10,
     "metadata": {},
     "output_type": "execute_result"
    }
   ],
   "source": [
    "mconfig = diff.ModelConfig()\n",
    "mconfig.model_type = \"ddpm_diffusion\"\n",
    "mconfig.block_out_channels = (128, 256, 512)\n",
    "mconfig.down_blocks = (\"DownBlock2D\", \"DownBlock2D\", \"DownBlock2D\")\n",
    "mconfig.up_blocks = (\"UpBlock2D\", \"UpBlock2D\", \"UpBlock2D\")\n",
    "mconfig"
   ]
  },
  {
   "cell_type": "code",
   "execution_count": 13,
   "id": "f381e270-0b72-47a2-b957-cdb78707a1e3",
   "metadata": {},
   "outputs": [],
   "source": [
    "model = diff.load_model(mconfig)\n",
    "#model.load_state_dict(torch.load(\"experiments/test_ddpm_1/e24-ckpt.pt\"))\n"
   ]
  },
  {
   "cell_type": "code",
   "execution_count": null,
   "id": "3376ccb1-3ff4-44fc-b620-207df08ab5e7",
   "metadata": {},
   "outputs": [],
   "source": [
    "loss_fn = torch.nn.MSELoss()\n",
    "datasets = {\"train\" : train_ds}"
   ]
  },
  {
   "cell_type": "code",
   "execution_count": 22,
   "id": "94f16e78-a5b5-4e79-b3dc-b6b33d47d1a6",
   "metadata": {},
   "outputs": [],
   "source": [
    "#dataloaders = {\"train\" : DataLoader(train_ds, shuffle=\n",
    "#for n, p in model.named_parameters():\n",
    "#    print(f\"{n}, {p.shape}\")"
   ]
  },
  {
   "cell_type": "code",
   "execution_count": 91,
   "id": "5165c14f-0a9b-457a-8129-5865ce3cf54c",
   "metadata": {},
   "outputs": [],
   "source": [
    "trainer = DiffusionTrainer(model, datasets, loss_fn, tconfig, mconfig, exp_id='test_ddpm_1')"
   ]
  },
  {
   "cell_type": "code",
   "execution_count": 92,
   "id": "6750b2af-ad1d-4f0f-aa1a-25e7eb087531",
   "metadata": {},
   "outputs": [
    {
     "name": "stdout",
     "output_type": "stream",
     "text": [
      "Getting ready to train model\n",
      "Training for 18 epochs\n",
      "epoch 0: [0.542369799769443]\n",
      "Model saved at experiments/test_ddpm_1/best-ckpt.pt\n",
      "epoch 1: [0.5374854854915453]\n",
      "Model saved at experiments/test_ddpm_1/best-ckpt.pt\n",
      "epoch 2: [0.5302643076233242]\n",
      "Model saved at experiments/test_ddpm_1/best-ckpt.pt\n",
      "epoch 3: [0.5183956273224043]\n",
      "Model saved at experiments/test_ddpm_1/best-ckpt.pt\n",
      "epoch 4: [0.5196712982395421]\n",
      "epoch 5: [0.5189830032379731]\n",
      "epoch 6: [0.507175057478573]\n",
      "Model saved at experiments/test_ddpm_1/best-ckpt.pt\n",
      "epoch 7: [0.5053737033968386]\n",
      "Model saved at experiments/test_ddpm_1/best-ckpt.pt\n",
      "epoch 8: [0.5082743141962134]\n",
      "epoch 9: [0.49762143453826074]\n",
      "Model saved at experiments/test_ddpm_1/best-ckpt.pt\n",
      "epoch 10: [0.49448292410891986]\n",
      "Model saved at experiments/test_ddpm_1/best-ckpt.pt\n",
      "epoch 11: [0.4904575684796209]\n",
      "Model saved at experiments/test_ddpm_1/best-ckpt.pt\n",
      "epoch 12: [0.4906931117824886]\n",
      "epoch 13: [0.4847589543332224]\n",
      "Model saved at experiments/test_ddpm_1/best-ckpt.pt\n",
      "epoch 14: [0.48001095069491345]\n",
      "Model saved at experiments/test_ddpm_1/best-ckpt.pt\n",
      "epoch 15: [0.4797535558109698]\n",
      "Model saved at experiments/test_ddpm_1/best-ckpt.pt\n",
      "epoch 16: [0.47686841241691424]\n",
      "Model saved at experiments/test_ddpm_1/best-ckpt.pt\n",
      "epoch 17: [0.4776336745075557]\n",
      "Finished training\n"
     ]
    }
   ],
   "source": [
    "trainer.train(num_epochs=18, log=True, trial='alpha_cont')"
   ]
  },
  {
   "cell_type": "code",
   "execution_count": 127,
   "id": "132e4dd2-17f6-4bc9-8cb2-17e66fee417d",
   "metadata": {},
   "outputs": [],
   "source": [
    "log = json.load(open('experiments/test_ddpm_1/trial_alpha_log.json'))"
   ]
  },
  {
   "cell_type": "code",
   "execution_count": 128,
   "id": "c96de0c7-a9d5-4f31-80c5-830e594a2356",
   "metadata": {},
   "outputs": [
    {
     "data": {
      "text/plain": [
       "[<matplotlib.lines.Line2D at 0x79221daa92e0>]"
      ]
     },
     "execution_count": 128,
     "metadata": {},
     "output_type": "execute_result"
    },
    {
     "data": {
      "image/png": "[encoded data removed]",
      "text/plain": [
       "<Figure size 640x480 with 1 Axes>"
      ]
     },
     "metadata": {},
     "output_type": "display_data"
    }
   ],
   "source": [
    "plt.plot(log['train_loss'] )"
   ]
  },
  {
   "cell_type": "code",
   "execution_count": null,
   "id": "c2c0770d-c655-41c4-832d-9580d30594f2",
   "metadata": {},
   "outputs": [],
   "source": []
  },
  {
   "cell_type": "code",
   "execution_count": null,
   "id": "d4fd5cc5-ff31-47d1-b2ba-abc20dbb0af2",
   "metadata": {},
   "outputs": [],
   "source": []
  },
  {
   "cell_type": "code",
   "execution_count": null,
   "id": "c9ec012b-5530-4a78-a176-7666e5e2f07d",
   "metadata": {},
   "outputs": [],
   "source": []
  },
  {
   "cell_type": "code",
   "execution_count": 86,
   "id": "a413b8ef-0a06-42d3-8df3-f5376f27b669",
   "metadata": {},
   "outputs": [],
   "source": [
    "from diffusers.optimization import get_cosine_schedule_with_warmup\n",
    "\n",
    "optimizer = torch.optim.AdamW(model.parameters(), lr=config.learning_rate)\n",
    "lr_scheduler = load_lr_scheduler(tconfig, )"
   ]
  },
  {
   "cell_type": "code",
   "execution_count": 90,
   "id": "3fa8ddc2-dd30-4542-830a-d669bc9f34bd",
   "metadata": {},
   "outputs": [],
   "source": [
    "from diffusers import DDPMPipeline\n",
    "from diffusers.utils import make_image_grid\n",
    "\n",
    "def evaluate(config, epoch, pipeline):\n",
    "    # Sample some images from random noise (this is the backward diffusion process).\n",
    "    # The default pipeline output type is `List[PIL.Image]`\n",
    "    images = pipeline(\n",
    "        batch_size=config.eval_batch_size,\n",
    "        generator=torch.Generator(device=device).manual_seed(config.seed), # Use a separate torch generator to avoid rewinding the random state of the main training loop\n",
    "    ).images\n",
    "\n",
    "    # Make a grid out of the images\n",
    "    image_grid = make_image_grid(images, rows=4, cols=4)\n",
    "\n",
    "    # Save the images\n",
    "    test_dir = os.path.join(config.output_dir, \"samples\")\n",
    "    os.makedirs(test_dir, exist_ok=True)\n",
    "    image_grid.save(f\"{test_dir}/{epoch:04d}.png\")"
   ]
  },
  {
   "cell_type": "code",
   "execution_count": 259,
   "id": "a8351e2b-d56f-4ddc-a0ab-1664bce03990",
   "metadata": {},
   "outputs": [],
   "source": [
    "from accelerate import Accelerator\n",
    "from huggingface_hub import create_repo, upload_folder\n",
    "from tqdm.auto import tqdm\n",
    "from pathlib import Path\n"
   ]
  },
  {
   "cell_type": "code",
   "execution_count": 265,
   "id": "2279a6c2-fb9e-4f24-befe-e72b8b48a12c",
   "metadata": {},
   "outputs": [
    {
     "data": {
      "text/plain": [
       "torch.Size([8, 128, 16, 24])"
      ]
     },
     "execution_count": 265,
     "metadata": {},
     "output_type": "execute_result"
    }
   ],
   "source": [
    "next(iter(dataloader)).shape"
   ]
  },
  {
   "cell_type": "code",
   "execution_count": 291,
   "id": "9551750d-27ec-479d-9417-80fbb0e0457e",
   "metadata": {},
   "outputs": [],
   "source": [
    "def train_loop(config, model, noise_scheduler, optimizer, train_dataloader, lr_scheduler):\n",
    "    # Initialize accelerator and tensorboard logging\n",
    "    accelerator = Accelerator(\n",
    "        mixed_precision=config.mixed_precision,\n",
    "        gradient_accumulation_steps=config.gradient_accumulation_steps,\n",
    "        #log_with=\"tensorboard\",\n",
    "        project_dir=os.path.join(config.output_dir, \"logs\"),\n",
    "    )\n",
    "    if accelerator.is_main_process:\n",
    "        if config.output_dir is not None:\n",
    "            os.makedirs(config.output_dir, exist_ok=True)\n",
    "        if config.push_to_hub:\n",
    "            repo_id = create_repo(\n",
    "                repo_id=config.hub_model_id or Path(config.output_dir).name, exist_ok=True\n",
    "            ).repo_id\n",
    "        accelerator.init_trackers(\"train_example\")\n",
    "\n",
    "\n",
    "    # Prepare everything\n",
    "    # There is no specific order to remember, you just need to unpack the\n",
    "    # objects in the same order you gave them to the prepare method.\n",
    "    model, optimizer, train_dataloader, lr_scheduler = accelerator.prepare(\n",
    "        model, optimizer, train_dataloader, lr_scheduler\n",
    "    )\n",
    "\n",
    "    global_step = 0\n",
    "\n",
    "    # Now you train the model\n",
    "    for epoch in range(config.num_epochs):\n",
    "        progress_bar = tqdm(total=len(train_dataloader), disable=not accelerator.is_local_main_process)\n",
    "        progress_bar.set_description(f\"Epoch {epoch}\")\n",
    "\n",
    "        for step, clean_images in enumerate(train_dataloader):\n",
    "            # Sample noise to add to the images\n",
    "            noise = torch.randn(clean_images.shape, device=clean_images.device)\n",
    "            bs = clean_images.shape[0]\n",
    "\n",
    "            # Sample a random timestep for each image\n",
    "            timesteps = torch.randint(\n",
    "                0, noise_scheduler.config.num_train_timesteps, (bs,), device=clean_images.device,\n",
    "                dtype=torch.int64\n",
    "            )\n",
    "\n",
    "            # Add noise to the clean images according to the noise magnitude at each timestep\n",
    "            # (this is the forward diffusion process)\n",
    "            noisy_images = noise_scheduler.add_noise(clean_images, noise, timesteps)\n",
    "\n",
    "            with accelerator.accumulate(model):\n",
    "                # Predict the noise residual\n",
    "                noise_pred = model(noisy_images, timesteps, return_dict=False)[0]\n",
    "                loss = F.mse_loss(noise_pred, noise)\n",
    "                accelerator.backward(loss)\n",
    "\n",
    "                accelerator.clip_grad_norm_(model.parameters(), 1.0)\n",
    "                optimizer.step()\n",
    "                lr_scheduler.step()\n",
    "                optimizer.zero_grad()\n",
    "\n",
    "            progress_bar.update(1)\n",
    "            logs = {\"loss\": loss.detach().item(), \"lr\": lr_scheduler.get_last_lr()[0], \"step\": global_step}\n",
    "            progress_bar.set_postfix(**logs)\n",
    "            accelerator.log(logs, step=global_step)\n",
    "            global_step += 1\n",
    "\n",
    "        # After each epoch you optionally sample some demo images with evaluate() and save the model\n",
    "        try:\n",
    "            if accelerator.is_main_process:\n",
    "                pipeline = DDPMPipeline(unet=accelerator.unwrap_model(model), scheduler=noise_scheduler)\n",
    "    \n",
    "                if (epoch + 1) % config.save_image_epochs == 0 or epoch == config.num_epochs - 1:\n",
    "                    evaluate(config, epoch, pipeline)\n",
    "    \n",
    "                if (epoch + 1) % config.save_model_epochs == 0 or epoch == config.num_epochs - 1:\n",
    "                    if config.push_to_hub:\n",
    "                        upload_folder(\n",
    "                            repo_id=repo_id,\n",
    "                            folder_path=config.output_dir,\n",
    "                            commit_message=f\"Epoch {epoch}\",\n",
    "                            ignore_patterns=[\"step_*\", \"epoch_*\"],\n",
    "                        )\n",
    "                    else:\n",
    "                        pipeline.save_pretrained(config.output_dir)\n",
    "        except: \n",
    "            print(\"Ran into error with sampling and evaluating\")\n",
    "        \n",
    "        return(model)\n",
    "        "
   ]
  },
  {
   "cell_type": "code",
   "execution_count": 287,
   "id": "769adab6-63db-48f5-8ca6-ca564889380d",
   "metadata": {},
   "outputs": [],
   "source": [
    "config.save_model_epochs = 1\n",
    "config.save_image_epochs = 1"
   ]
  },
  {
   "cell_type": "code",
   "execution_count": 288,
   "id": "16491a05-092b-47a9-a88f-7b3e7285a3e5",
   "metadata": {},
   "outputs": [
    {
     "data": {
      "text/plain": [
       "'model_outputs/'"
      ]
     },
     "execution_count": 288,
     "metadata": {},
     "output_type": "execute_result"
    }
   ],
   "source": [
    "config.output_dir"
   ]
  },
  {
   "cell_type": "code",
   "execution_count": 289,
   "id": "4398d67c-b00b-4e37-9e2e-cf6bbfe3a5c7",
   "metadata": {},
   "outputs": [
    {
     "data": {
      "text/plain": [
       "1"
      ]
     },
     "execution_count": 289,
     "metadata": {},
     "output_type": "execute_result"
    }
   ],
   "source": [
    "config.num_epochs"
   ]
  },
  {
   "cell_type": "code",
   "execution_count": 292,
   "id": "5cb627fc-af2e-4da5-afa3-82d65472c3cd",
   "metadata": {},
   "outputs": [
    {
     "name": "stdout",
     "output_type": "stream",
     "text": [
      "Launching training on CPU.\n"
     ]
    },
    {
     "data": {
      "application/vnd.jupyter.widget-view+json": {
       "model_id": "e4822996149442ada66bffc4d542c9c7",
       "version_major": 2,
       "version_minor": 0
      },
      "text/plain": [
       "  0%|          | 0/16 [00:00<?, ?it/s]"
      ]
     },
     "metadata": {},
     "output_type": "display_data"
    },
    {
     "name": "stdout",
     "output_type": "stream",
     "text": [
      "Ran into error with sampling and evaluating\n"
     ]
    }
   ],
   "source": [
    "from accelerate import notebook_launcher\n",
    "\n",
    "args = (config, model, noise_scheduler, optimizer, dataloader, lr_scheduler)\n",
    "\n",
    "model = notebook_launcher(train_loop, args, num_processes=1)"
   ]
  },
  {
   "cell_type": "code",
   "execution_count": null,
   "id": "73229746-336c-4022-bd19-293cdfcd61ef",
   "metadata": {},
   "outputs": [],
   "source": []
  }
 ],
 "metadata": {
  "kernelspec": {
   "display_name": "Python 3 (ipykernel)",
   "language": "python",
   "name": "python3"
  },
  "language_info": {
   "codemirror_mode": {
    "name": "ipython",
    "version": 3
   },
   "file_extension": ".py",
   "mimetype": "text/x-python",
   "name": "python",
   "nbconvert_exporter": "python",
   "pygments_lexer": "ipython3",
   "version": "3.12.7"
  }
 },
 "nbformat": 4,
 "nbformat_minor": 5
}
